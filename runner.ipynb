{
 "cells": [
  {
   "cell_type": "code",
   "execution_count": 19,
   "metadata": {},
   "outputs": [],
   "source": [
    "import numpy as np\n",
    "import pandas as pd\n",
    "import pickle"
   ]
  },
  {
   "cell_type": "code",
   "execution_count": 20,
   "metadata": {},
   "outputs": [],
   "source": [
    "import importlib\n",
    "\n",
    "\n",
    "def reloader():\n",
    "    importlib.reload(importlib.import_module(\"steps.lightgbm_v1\"))\n",
    "    importlib.reload(importlib.import_module(\"utils.pipeline\"))\n",
    "    importlib.reload(importlib.import_module(\"steps.set_missings\"))\n",
    "    importlib.reload(importlib.import_module(\"steps.load_data\"))\n",
    "    importlib.reload(importlib.import_module(\"steps.model\"))\n",
    "\n",
    "\n",
    "reloader()\n",
    "\n",
    "from utils.pipeline import Pipeline, PipelineStep\n",
    "from steps.set_missings import set_missings\n",
    "from steps.load_data import LoadData, load_train_data, load_test_data\n",
    "from steps.model import Predictor\n",
    "from steps.lightgbm_v1 import LightGbmV1"
   ]
  },
  {
   "cell_type": "code",
   "execution_count": 21,
   "metadata": {},
   "outputs": [],
   "source": [
    "bdl_data = LoadData()\n",
    "\n",
    "df_train_fe = bdl_data.df_train_fe\n",
    "df_train_bnum = bdl_data.df_train_bnum\n",
    "df_train_dpi = bdl_data.df_train_dpi\n",
    "\n",
    "df_test_fe = bdl_data.df_test_fe\n",
    "df_test_bnum = bdl_data.df_test_bnum\n",
    "df_test_dpi = bdl_data.df_test_dpi"
   ]
  },
  {
   "cell_type": "code",
   "execution_count": 22,
   "metadata": {},
   "outputs": [],
   "source": [
    "df_train_fe_processed = set_missings(df_train_fe)\n",
    "df_test_fe_processed = set_missings(df_test_fe)"
   ]
  },
  {
   "cell_type": "code",
   "execution_count": 23,
   "metadata": {},
   "outputs": [
    {
     "name": "stdout",
     "output_type": "stream",
     "text": [
      "Save LGBMClassifier_1.1.pickle\n"
     ]
    }
   ],
   "source": [
    "from steps.lightgbm_v1 import LightGbmV1\n",
    "\n",
    "reloader()\n",
    "\n",
    "lgbm_model = LightGbmV1(version=\"1.1\").train(df_train_fe_processed)"
   ]
  },
  {
   "cell_type": "code",
   "execution_count": 24,
   "metadata": {},
   "outputs": [
    {
     "name": "stdout",
     "output_type": "stream",
     "text": [
      "\n",
      "Metrics\n",
      "Accuracy: 0.8527780370404938\n",
      "Precision: 0.30267146646456994\n",
      "FPR: 0.15727176258608533 \n",
      "\n",
      "\n",
      "Metrics\n",
      "Accuracy: 0.8228466666666666\n",
      "Precision: 0.2339799206742687\n",
      "FPR: 0.17582878724297105 \n",
      "\n"
     ]
    }
   ],
   "source": [
    "Predictor(\"LGBMClassifier_1.1.pickle\").call(df_train_fe_processed)\n",
    "Predictor(\"LGBMClassifier_1.1.pickle\").call(df_test_fe_processed)"
   ]
  }
 ],
 "metadata": {
  "kernelspec": {
   "display_name": "Python 3",
   "language": "python",
   "name": "python3"
  },
  "language_info": {
   "codemirror_mode": {
    "name": "ipython",
    "version": 3
   },
   "file_extension": ".py",
   "mimetype": "text/x-python",
   "name": "python",
   "nbconvert_exporter": "python",
   "pygments_lexer": "ipython3",
   "version": "3.10.13"
  }
 },
 "nbformat": 4,
 "nbformat_minor": 2
}
