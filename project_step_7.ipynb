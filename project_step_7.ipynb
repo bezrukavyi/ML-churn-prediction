{
 "cells": [
  {
   "cell_type": "code",
   "execution_count": 1,
   "metadata": {},
   "outputs": [],
   "source": [
    "%load_ext autoreload\n",
    "%autoreload 2\n",
    "\n",
    "import optuna\n",
    "import pandas as pd\n",
    "import lightgbm as lgb\n",
    "import matplotlib.pyplot as plt\n",
    "import shap\n",
    "import numpy as np\n",
    "import scipy\n",
    "import seaborn as sns\n",
    "from sklearn.metrics import confusion_matrix, ConfusionMatrixDisplay, roc_auc_score\n",
    "from imblearn.over_sampling import SMOTE\n",
    "from imblearn.under_sampling import RandomUnderSampler\n",
    "\n",
    "from utils.model import predict, load_model, Metrics, save_model, lgb_booster_to_model, load_final_model, save_final_model, load_final_model\n",
    "\n",
    "SEED = 42"
   ]
  },
  {
   "cell_type": "code",
   "execution_count": null,
   "metadata": {},
   "outputs": [],
   "source": [
    "from utils.pipeline import Pipeline, PipelineStep\n",
    "\n",
    "from steps.set_missings import set_missings, drop_fraud\n",
    "from utils.helpers import reduce_mem_usage\n",
    "from steps.load_data import load_train_data, load_test_data\n",
    "from steps.feature_selection import feature_selection\n",
    "from steps.dpi_features import generate_test_dpi_feature, generate_train_dpi_feature\n",
    "from steps.bnum_features import generate_test_bnum_feature, generate_train_bnum_feature\n",
    "from steps.fe_features import generate_test_fe_feature, generate_train_fe_feature\n",
    "\n",
    "\n",
    "def remove_abon_id(df):\n",
    "    return df.drop(\"abon_id\", axis=1)\n",
    "\n",
    "\n",
    "transform_train_pipeline = Pipeline(\n",
    "    \"TRANSFORM_TRAIN\",\n",
    "    [\n",
    "        # Load data\n",
    "        PipelineStep(load_train_data),\n",
    "        PipelineStep(set_missings),\n",
    "        PipelineStep(reduce_mem_usage),\n",
    "        # New features\n",
    "        PipelineStep(generate_train_fe_feature),\n",
    "        PipelineStep(generate_train_dpi_feature),\n",
    "        PipelineStep(generate_train_bnum_feature),\n",
    "        PipelineStep(drop_fraud),\n",
    "        # Feature selection\n",
    "        PipelineStep(remove_abon_id),\n",
    "        PipelineStep(feature_selection),\n",
    "    ],\n",
    ")\n",
    "\n",
    "transform_test_pipeline = Pipeline(\n",
    "    \"TRANSFORM_TEST\",\n",
    "    [\n",
    "        # Load data\n",
    "        PipelineStep(load_test_data),\n",
    "        PipelineStep(set_missings),\n",
    "        PipelineStep(reduce_mem_usage),\n",
    "        # New features\n",
    "        PipelineStep(generate_test_fe_feature),\n",
    "        PipelineStep(generate_test_dpi_feature),\n",
    "        PipelineStep(generate_test_bnum_feature),\n",
    "        # Feature selection\n",
    "        PipelineStep(remove_abon_id),\n",
    "        PipelineStep(feature_selection),\n",
    "    ],\n",
    ")"
   ]
  },
  {
   "cell_type": "code",
   "execution_count": null,
   "metadata": {},
   "outputs": [],
   "source": [
    "train_data = transform_train_pipeline.run()\n",
    "\n",
    "print(\"Shape:\", train_data.shape)\n",
    "print(\"Columns:\", train_data.columns)"
   ]
  },
  {
   "cell_type": "code",
   "execution_count": 2,
   "metadata": {},
   "outputs": [],
   "source": [
    "import pickle\n",
    "\n",
    "cache_key = \"cache/train_data_pipeline.pkl\"\n",
    "\n",
    "# with open(cache_key, \"wb\") as f:\n",
    "#     pickle.dump(train_data, f)\n",
    "\n",
    "with open(cache_key, \"rb\") as f:\n",
    "    train_data = pickle.load(f)"
   ]
  },
  {
   "cell_type": "code",
   "execution_count": null,
   "metadata": {},
   "outputs": [],
   "source": [
    "test_data = transform_test_pipeline.run()\n",
    "\n",
    "print(\"Shape:\", test_data.shape)\n",
    "print(\"Columns:\", test_data.columns)"
   ]
  },
  {
   "cell_type": "code",
   "execution_count": 3,
   "metadata": {},
   "outputs": [],
   "source": [
    "import pickle\n",
    "\n",
    "cache_key = \"cache/test_data_pipeline.pkl\"\n",
    "\n",
    "# with open(cache_key, \"wb\") as f:\n",
    "#     pickle.dump(test_data, f)\n",
    "\n",
    "with open(cache_key, \"rb\") as f:\n",
    "    test_data = pickle.load(f)"
   ]
  },
  {
   "cell_type": "code",
   "execution_count": 4,
   "metadata": {},
   "outputs": [],
   "source": [
    "from sklearn.model_selection import train_test_split\n",
    "from imblearn.over_sampling import SMOTE\n",
    "from imblearn.under_sampling import RandomUnderSampler\n",
    "\n",
    "\n",
    "def oversampling(train_data, size=0.6):\n",
    "    train_x = train_data.drop(columns=\"target\")\n",
    "    train_y = train_data.target\n",
    "\n",
    "    not_churn_data_count = train_data[train_data.target == 0].shape[0]\n",
    "\n",
    "    not_churn_count_strategy = int(not_churn_data_count * size)\n",
    "    churn_count_strategy = int(not_churn_data_count * size)\n",
    "\n",
    "    rus = RandomUnderSampler(random_state=SEED, sampling_strategy={0: not_churn_count_strategy})\n",
    "    train_x, train_y = rus.fit_resample(train_x, train_y)\n",
    "\n",
    "    smote = SMOTE(random_state=SEED, sampling_strategy={0: not_churn_count_strategy, 1: churn_count_strategy})\n",
    "    resampled_x, resampled_y = smote.fit_resample(train_x, train_y)\n",
    "\n",
    "    return resampled_x, resampled_y\n",
    "\n",
    "\n",
    "sub_train_x, sub_val_x, sub_train_y, sub_val_y = train_test_split(\n",
    "    train_data.drop(columns=\"target\"),\n",
    "    train_data.target,\n",
    "    test_size=0.2,\n",
    "    random_state=SEED,\n",
    "    stratify=train_data.target,\n",
    ")\n",
    "\n",
    "sub_train_data = sub_train_x.copy()\n",
    "sub_train_data[\"target\"] = sub_train_y\n",
    "\n",
    "resampled_x, resampled_y = oversampling(sub_train_data, size=0.6)\n",
    "all_resampled_x, all_resampled_y = oversampling(train_data, size=0.6)"
   ]
  },
  {
   "cell_type": "code",
   "execution_count": 42,
   "metadata": {},
   "outputs": [],
   "source": [
    "model_params = {\n",
    "    \"random_state\": 42,\n",
    "    \"seed\": 42,\n",
    "    \"objective\": \"binary\",\n",
    "    \"metric\": \"auc\",\n",
    "    \"verbosity\": -1,\n",
    "    \"boosting_type\": \"gbdt\",\n",
    "    \"feature_pre_filter\": False,\n",
    "    \"n_jobs\": -1,\n",
    "    \"lambda_l1\": 8,\n",
    "    \"lambda_l2\": 5,\n",
    "    \"learning_rate\": 0.02,\n",
    "    \"num_leaves\": 50,\n",
    "    \"feature_fraction\": 0.6803603979260223,\n",
    "    \"bagging_fraction\": 0.6735621254996546,\n",
    "    \"max_depth\": 12,\n",
    "    \"min_child_samples\": 30,\n",
    "    \"n_estimators\": 350,\n",
    "    \"drop_rate\": 0.2,\n",
    "}"
   ]
  },
  {
   "cell_type": "code",
   "execution_count": null,
   "metadata": {},
   "outputs": [],
   "source": [
    "# dtrain = lgb.Dataset(train_x, label=train_y)\n",
    "# dvalid = lgb.Dataset(val_x, label=val_y, reference=dtrain)\n",
    "\n",
    "# model = lgb.train(model_params, dtrain, valid_sets=[dvalid])"
   ]
  },
  {
   "cell_type": "code",
   "execution_count": 47,
   "metadata": {},
   "outputs": [],
   "source": [
    "# model_params.pop(\"early_stopping_rounds\")\n",
    "\n",
    "model_cls = lgb.LGBMClassifier(**model_params)\n",
    "\n",
    "model_cls = model_cls.fit(all_resampled_x, all_resampled_y)"
   ]
  },
  {
   "cell_type": "code",
   "execution_count": 48,
   "metadata": {},
   "outputs": [
    {
     "name": "stdout",
     "output_type": "stream",
     "text": [
      "ROC AUC: 0.9224503975427123\n",
      "F1 Score: 0.5359263657957245\n",
      "VAL ROC AUC: 0.9196687084011028\n",
      "VAL F1 Score: 0.5222929936305732\n",
      "\n",
      "Metrics\n",
      "AUC: 0.920\n",
      "Matthews Correlation Coefficient: 0.497\n",
      "Classification Report:\n",
      "              precision    recall  f1-score   support\n",
      "\n",
      "         0.0       0.96      0.98      0.97     28083\n",
      "         1.0       0.59      0.47      0.52      1917\n",
      "\n",
      "    accuracy                           0.94     30000\n",
      "   macro avg       0.78      0.72      0.75     30000\n",
      "weighted avg       0.94      0.94      0.94     30000\n",
      "\n"
     ]
    },
    {
     "data": {
      "text/plain": [
       "(0.9196687084011028,\n",
       " '              precision    recall  f1-score   support\\n\\n         0.0       0.96      0.98      0.97     28083\\n         1.0       0.59      0.47      0.52      1917\\n\\n    accuracy                           0.94     30000\\n   macro avg       0.78      0.72      0.75     30000\\nweighted avg       0.94      0.94      0.94     30000\\n')"
      ]
     },
     "execution_count": 48,
     "metadata": {},
     "output_type": "execute_result"
    }
   ],
   "source": [
    "import sklearn.metrics\n",
    "\n",
    "threshold = 0.5\n",
    "\n",
    "train_X = sub_train_x[resampled_x.columns]\n",
    "train_y_true = sub_train_y\n",
    "\n",
    "train_y_pred_proba = model_cls.booster_.predict(train_X)\n",
    "train_y_pred = (train_y_pred_proba >= threshold).astype(int)\n",
    "\n",
    "print(\"ROC AUC:\", roc_auc_score(train_y_true, train_y_pred_proba))\n",
    "print(\"F1 Score:\", sklearn.metrics.f1_score(train_y_true, train_y_pred, pos_label=1))\n",
    "\n",
    "val_X = sub_val_x[resampled_x.columns]\n",
    "val_y_true = sub_val_y\n",
    "\n",
    "val_y_pred_proba = model_cls.booster_.predict(sub_val_x)\n",
    "val_y_pred = (val_y_pred_proba >= threshold).astype(int)\n",
    "\n",
    "print(\"VAL ROC AUC:\", roc_auc_score(sub_val_y, val_y_pred_proba))\n",
    "print(\"VAL F1 Score:\", sklearn.metrics.f1_score(sub_val_y, val_y_pred, pos_label=1))\n",
    "\n",
    "Metrics().call(sub_val_y, val_y_pred, val_y_pred_proba)"
   ]
  },
  {
   "cell_type": "code",
   "execution_count": 49,
   "metadata": {},
   "outputs": [
    {
     "name": "stdout",
     "output_type": "stream",
     "text": [
      "\n",
      "Metrics\n",
      "AUC: 0.899\n",
      "Matthews Correlation Coefficient: 0.469\n",
      "Classification Report:\n",
      "              precision    recall  f1-score   support\n",
      "\n",
      "         0.0       0.96      0.98      0.97    140597\n",
      "         1.0       0.57      0.43      0.49      9403\n",
      "\n",
      "    accuracy                           0.94    150000\n",
      "   macro avg       0.77      0.71      0.73    150000\n",
      "weighted avg       0.94      0.94      0.94    150000\n",
      "\n"
     ]
    },
    {
     "data": {
      "text/plain": [
       "(0.8985904995813379,\n",
       " '              precision    recall  f1-score   support\\n\\n         0.0       0.96      0.98      0.97    140597\\n         1.0       0.57      0.43      0.49      9403\\n\\n    accuracy                           0.94    150000\\n   macro avg       0.77      0.71      0.73    150000\\nweighted avg       0.94      0.94      0.94    150000\\n')"
      ]
     },
     "execution_count": 49,
     "metadata": {},
     "output_type": "execute_result"
    }
   ],
   "source": [
    "test_X = test_data[resampled_x.columns]\n",
    "test_y_true = test_data.target\n",
    "\n",
    "test_y_pred_proba = model_cls.booster_.predict(test_X)\n",
    "test_y_pred = (test_y_pred_proba >= threshold).astype(int)\n",
    "\n",
    "Metrics().call(test_y_true, test_y_pred, test_y_pred_proba)"
   ]
  },
  {
   "cell_type": "code",
   "execution_count": 50,
   "metadata": {},
   "outputs": [
    {
     "data": {
      "image/png": "[encoded data removed]",
      "text/plain": [
       "<Figure size 640x480 with 1 Axes>"
      ]
     },
     "metadata": {},
     "output_type": "display_data"
    }
   ],
   "source": [
    "import matplotlib.pyplot as plt\n",
    "from sklearn.metrics import roc_curve, auc\n",
    "\n",
    "\n",
    "def plot_roc_curve(y_train, y_val, y_test):\n",
    "    fpr1, tpr1, _ = roc_curve(*y_train)\n",
    "    roc_auc1 = auc(fpr1, tpr1)\n",
    "\n",
    "    fpr2, tpr2, _ = roc_curve(*y_val)\n",
    "    roc_auc2 = auc(fpr2, tpr2)\n",
    "\n",
    "    fpr3, tpr3, _ = roc_curve(*y_test)\n",
    "    roc_auc3 = auc(fpr3, tpr3)\n",
    "\n",
    "    plt.figure()\n",
    "    plt.plot(\n",
    "        fpr1, tpr1, color=\"blue\", lw=2, label=f\"Навчальна вибірка: {roc_auc1:.3f} ({roc_auc1:.2f})\", linestyle=\"--\"\n",
    "    )\n",
    "    # plt.plot(fpr2, tpr2, color=\"red\", lw=2, label=f\"Валідаційна вибірка: {roc_auc2:.3f} ({roc_auc2:.2f})\")\n",
    "    plt.plot(fpr3, tpr3, color=\"green\", lw=2, label=f\"Тестова вибірка: {roc_auc3:.3f} ({roc_auc3:.2f})\")\n",
    "    plt.plot([0, 1], [0, 1], color=\"grey\", lw=2, linestyle=\"--\")\n",
    "\n",
    "    plt.xlabel(\"False Positive Rate\")\n",
    "    plt.ylabel(\"True Positive Rate\")\n",
    "    plt.title(\"ROC curve\")\n",
    "    plt.legend(loc=\"lower right\")\n",
    "    plt.show()\n",
    "\n",
    "\n",
    "plot_roc_curve(\n",
    "    (train_y_true, train_y_pred_proba), (val_y_true, val_y_pred_proba), (test_y_true, test_y_pred_proba)\n",
    ")"
   ]
  },
  {
   "cell_type": "code",
   "execution_count": null,
   "metadata": {},
   "outputs": [],
   "source": [
    "save_final_model(model_cls, \"BEST_LightGbmV2_pipeline_p058_r043_0899auc\", list(resampled_x.columns))"
   ]
  },
  {
   "cell_type": "code",
   "execution_count": null,
   "metadata": {},
   "outputs": [],
   "source": [
    "model_clf, _ = load_final_model(\"BEST_LightGbmV2_pipeline_p059_r043_090auc_2.pickle\")"
   ]
  },
  {
   "cell_type": "code",
   "execution_count": null,
   "metadata": {},
   "outputs": [],
   "source": [
    "from sklearn.calibration import CalibratedClassifierCV\n",
    "\n",
    "calibrated_model_platt = CalibratedClassifierCV(estimator=model_cls, method=\"isotonic\", cv=\"prefit\")\n",
    "\n",
    "calibrated_model_platt.fit(train_data[resampled_x.columns], train_data.target)"
   ]
  },
  {
   "cell_type": "code",
   "execution_count": null,
   "metadata": {},
   "outputs": [],
   "source": [
    "from sklearn.metrics import brier_score_loss, log_loss\n",
    "\n",
    "X = train_data[resampled_x.columns]\n",
    "y_true = train_data.target\n",
    "\n",
    "prob_pos_calibrated_isotonic = calibrated_model_platt.predict_proba(X)[:, 1]\n",
    "calibrated_test_y_pred = (prob_pos_calibrated_isotonic >= 0.5).astype(int)\n",
    "\n",
    "prob_pos = model_cls.booster_.predict(X)\n",
    "\n",
    "print(\"Brier score before Isotonic calibration: \", brier_score_loss(y_true, prob_pos))\n",
    "print(\"Brier score after Isotonic calibration: \", brier_score_loss(y_true, prob_pos_calibrated_isotonic))\n",
    "print(\"Log loss before Isotonic calibration: \", log_loss(y_true, prob_pos))\n",
    "print(\"Log loss after Isotonic calibration: \", log_loss(y_true, prob_pos_calibrated_isotonic))\n",
    "\n",
    "Metrics().call(y_true, calibrated_test_y_pred, prob_pos_calibrated_isotonic)"
   ]
  },
  {
   "cell_type": "code",
   "execution_count": null,
   "metadata": {},
   "outputs": [],
   "source": [
    "import numpy as np\n",
    "import matplotlib.pyplot as plt\n",
    "from sklearn.model_selection import learning_curve\n",
    "\n",
    "X = train_data[resampled_x.columns]\n",
    "y_true = train_data.target\n",
    "\n",
    "# Get learning curve data\n",
    "train_sizes, train_scores, val_scores = learning_curve(\n",
    "    lgb.LGBMClassifier(**model_params),\n",
    "    X,\n",
    "    y_true,\n",
    "    cv=10,\n",
    "    n_jobs=-1,\n",
    "    train_sizes=np.linspace(0.1, 1.0, 5),\n",
    "    scoring=\"roc_auc\",\n",
    ")"
   ]
  },
  {
   "cell_type": "code",
   "execution_count": null,
   "metadata": {},
   "outputs": [],
   "source": [
    "def build_learning_curve_plt(train_sizes, train_scores, val_scores):\n",
    "    # Calculate mean and standard deviation for training and validation scores\n",
    "    train_scores_mean = np.mean(train_scores, axis=1)\n",
    "    train_scores_std = np.std(train_scores, axis=1)\n",
    "    val_scores_mean = np.mean(val_scores, axis=1)\n",
    "    val_scores_std = np.std(val_scores, axis=1)\n",
    "\n",
    "    # Витягнення даних з найвищими середніми оцінками\n",
    "    best_train_index = np.argmax(train_scores_mean)\n",
    "    best_test_index = np.argmax(train_scores_mean)\n",
    "\n",
    "    best_train_size = train_sizes[best_train_index]\n",
    "    best_train_score_mean = train_scores_mean[best_train_index]\n",
    "    best_train_score_std = train_scores_std[best_train_index]\n",
    "\n",
    "    # Plot learning curve\n",
    "    plt.figure()\n",
    "    plt.title(\"Learning Curve\")\n",
    "    plt.xlabel(\"Training examples\")\n",
    "    plt.ylabel(\"ROC-AUC Score\")\n",
    "    plt.grid()\n",
    "\n",
    "    plt.fill_between(\n",
    "        train_sizes,\n",
    "        train_scores_mean - train_scores_std,\n",
    "        train_scores_mean + train_scores_std,\n",
    "        alpha=0.1,\n",
    "        color=\"r\",\n",
    "    )\n",
    "    plt.fill_between(\n",
    "        train_sizes, val_scores_mean - val_scores_std, val_scores_mean + val_scores_std, alpha=0.1, color=\"g\"\n",
    "    )\n",
    "    plt.plot(train_sizes, train_scores_mean, \"o-\", color=\"r\", label=\"Training score\")\n",
    "    plt.plot(train_sizes, val_scores_mean, \"o-\", color=\"g\", label=\"Cross-validation score\")\n",
    "\n",
    "    plt.legend(loc=\"best\")\n",
    "    plt.show()"
   ]
  },
  {
   "cell_type": "code",
   "execution_count": null,
   "metadata": {},
   "outputs": [],
   "source": [
    "build_learning_curve_plt(train_sizes, train_scores, val_scores)"
   ]
  },
  {
   "cell_type": "code",
   "execution_count": null,
   "metadata": {},
   "outputs": [],
   "source": [
    "from sklearn.metrics import accuracy_score\n",
    "import matplotlib.pyplot as plt\n",
    "\n",
    "\n",
    "def find_threshold(y_test, y_pred_proba):\n",
    "    # Define a range of possible thresholds\n",
    "    thresholds = np.linspace(0, 1, 100)\n",
    "    accuracies = []\n",
    "\n",
    "    # Calculate accuracy for each threshold\n",
    "    for threshold in thresholds:\n",
    "        y_pred = (y_pred_proba >= threshold).astype(int)\n",
    "        accuracies.append(accuracy_score(y_test, y_pred))\n",
    "\n",
    "    # Find the threshold that provides the highest accuracy\n",
    "    max_accuracy_index = np.argmax(accuracies)\n",
    "    optimal_threshold = thresholds[max_accuracy_index]\n",
    "\n",
    "    print(f\"Optimal Threshold for Maximum Accuracy: {optimal_threshold}\")\n",
    "    print(f\"Maximum Accuracy: {accuracies[max_accuracy_index]}\")\n",
    "\n",
    "    # Plotting accuracy vs threshold\n",
    "    plt.plot(thresholds, accuracies, label=\"Accuracy\")\n",
    "    plt.scatter(\n",
    "        thresholds[max_accuracy_index],\n",
    "        accuracies[max_accuracy_index],\n",
    "        marker=\"o\",\n",
    "        color=\"red\",\n",
    "        label=\"Best Threshold\",\n",
    "    )\n",
    "    plt.title(\"Accuracy vs. Threshold\")\n",
    "    plt.xlabel(\"Threshold\")\n",
    "    plt.ylabel(\"Accuracy\")\n",
    "    plt.legend()\n",
    "    plt.grid(True)\n",
    "    plt.show()\n",
    "\n",
    "    return optimal_threshold"
   ]
  },
  {
   "cell_type": "code",
   "execution_count": null,
   "metadata": {},
   "outputs": [],
   "source": [
    "optimal_threshold = find_threshold(train_y_true, train_y_pred_proba)"
   ]
  },
  {
   "cell_type": "code",
   "execution_count": null,
   "metadata": {},
   "outputs": [],
   "source": [
    "test_X = test_data[resampled_x.columns]\n",
    "test_y_true = test_data.target\n",
    "\n",
    "test_y_pred_proba = model_cls.booster_.predict(test_X)\n",
    "test_y_pred = (test_y_pred_proba >= optimal_threshold).astype(int)\n",
    "\n",
    "Metrics().call(test_y_true, test_y_pred, test_y_pred_proba)\n",
    "\n",
    "print(\"model_cls.booster_Columns count \", len(resampled_x.columns))"
   ]
  }
 ],
 "metadata": {
  "kernelspec": {
   "display_name": "Python 3",
   "language": "python",
   "name": "python3"
  },
  "language_info": {
   "codemirror_mode": {
    "name": "ipython",
    "version": 3
   },
   "file_extension": ".py",
   "mimetype": "text/x-python",
   "name": "python",
   "nbconvert_exporter": "python",
   "pygments_lexer": "ipython3",
   "version": "3.10.13"
  }
 },
 "nbformat": 4,
 "nbformat_minor": 2
}
