{
 "cells": [
  {
   "cell_type": "code",
   "execution_count": 2,
   "metadata": {},
   "outputs": [],
   "source": [
    "%load_ext autoreload\n",
    "%autoreload 2\n",
    "\n",
    "import optuna\n",
    "import pandas as pd\n",
    "import lightgbm as lgb\n",
    "import matplotlib.pyplot as plt\n",
    "import shap\n",
    "import numpy as np\n",
    "import scipy\n",
    "\n",
    "from steps.prepare_data import load_processed_data\n",
    "from utils.model import predict, load_model"
   ]
  },
  {
   "cell_type": "code",
   "execution_count": 3,
   "metadata": {},
   "outputs": [],
   "source": [
    "# Balance UA - перетворити в boolean взяти який поріг\n",
    "\n",
    "train_data, test_data = load_processed_data()\n",
    "\n",
    "train_data_x = train_data.drop(columns=[\"target\"])"
   ]
  },
  {
   "cell_type": "code",
   "execution_count": 4,
   "metadata": {},
   "outputs": [
    {
     "data": {
      "text/html": [
       "<div>\n",
       "<style scoped>\n",
       "    .dataframe tbody tr th:only-of-type {\n",
       "        vertical-align: middle;\n",
       "    }\n",
       "\n",
       "    .dataframe tbody tr th {\n",
       "        vertical-align: top;\n",
       "    }\n",
       "\n",
       "    .dataframe thead th {\n",
       "        text-align: right;\n",
       "    }\n",
       "</style>\n",
       "<table border=\"1\" class=\"dataframe\">\n",
       "  <thead>\n",
       "    <tr style=\"text-align: right;\">\n",
       "      <th></th>\n",
       "      <th>column_name</th>\n",
       "    </tr>\n",
       "    <tr>\n",
       "      <th>index</th>\n",
       "      <th></th>\n",
       "    </tr>\n",
       "  </thead>\n",
       "  <tbody>\n",
       "    <tr>\n",
       "      <th>Ama_rchrgmnt_sum_max</th>\n",
       "      <td>Ama_rchrgmnt_sum_max_mnt1</td>\n",
       "    </tr>\n",
       "    <tr>\n",
       "      <th>Ama_rchrgmnt_sum_max</th>\n",
       "      <td>Ama_rchrgmnt_sum_max_mnt3</td>\n",
       "    </tr>\n",
       "    <tr>\n",
       "      <th>Ama_rchrgmnt_sum_mea</th>\n",
       "      <td>Ama_rchrgmnt_sum_mea_mnt1</td>\n",
       "    </tr>\n",
       "    <tr>\n",
       "      <th>Ama_rchrgmnt_sum_mea</th>\n",
       "      <td>Ama_rchrgmnt_sum_mea_mnt3</td>\n",
       "    </tr>\n",
       "    <tr>\n",
       "      <th>Ama_rchrgmnt_sum_mea</th>\n",
       "      <td>Ama_rchrgmnt_sum_mea_wk1</td>\n",
       "    </tr>\n",
       "    <tr>\n",
       "      <th>...</th>\n",
       "      <td>...</td>\n",
       "    </tr>\n",
       "    <tr>\n",
       "      <th>voice_out_td_cnt_min</th>\n",
       "      <td>voice_out_td_cnt_min_mnt1</td>\n",
       "    </tr>\n",
       "    <tr>\n",
       "      <th>voice_out_td_cnt_min</th>\n",
       "      <td>voice_out_td_cnt_min_mnt3</td>\n",
       "    </tr>\n",
       "    <tr>\n",
       "      <th>voice_out_td_cnt_std</th>\n",
       "      <td>voice_out_td_cnt_std_mnt1</td>\n",
       "    </tr>\n",
       "    <tr>\n",
       "      <th>voice_out_td_cnt_std</th>\n",
       "      <td>voice_out_td_cnt_std_mnt3</td>\n",
       "    </tr>\n",
       "    <tr>\n",
       "      <th>voice_out_td_cnt_td</th>\n",
       "      <td>voice_out_td_cnt_td_mnt3</td>\n",
       "    </tr>\n",
       "  </tbody>\n",
       "</table>\n",
       "<p>600 rows × 1 columns</p>\n",
       "</div>"
      ],
      "text/plain": [
       "                                    column_name\n",
       "index                                          \n",
       "Ama_rchrgmnt_sum_max  Ama_rchrgmnt_sum_max_mnt1\n",
       "Ama_rchrgmnt_sum_max  Ama_rchrgmnt_sum_max_mnt3\n",
       "Ama_rchrgmnt_sum_mea  Ama_rchrgmnt_sum_mea_mnt1\n",
       "Ama_rchrgmnt_sum_mea  Ama_rchrgmnt_sum_mea_mnt3\n",
       "Ama_rchrgmnt_sum_mea   Ama_rchrgmnt_sum_mea_wk1\n",
       "...                                         ...\n",
       "voice_out_td_cnt_min  voice_out_td_cnt_min_mnt1\n",
       "voice_out_td_cnt_min  voice_out_td_cnt_min_mnt3\n",
       "voice_out_td_cnt_std  voice_out_td_cnt_std_mnt1\n",
       "voice_out_td_cnt_std  voice_out_td_cnt_std_mnt3\n",
       "voice_out_td_cnt_td    voice_out_td_cnt_td_mnt3\n",
       "\n",
       "[600 rows x 1 columns]"
      ]
     },
     "execution_count": 4,
     "metadata": {},
     "output_type": "execute_result"
    }
   ],
   "source": [
    "train_data_x_with_mnt_wk = train_data_x.filter(regex=\"mnt|wk\")\n",
    "\n",
    "columns = train_data_x_with_mnt_wk.columns\n",
    "\n",
    "df = pd.DataFrame(columns, columns=[\"column_name\"])\n",
    "\n",
    "df[\"index\"] = df[\"column_name\"].apply(lambda x: \"_\".join(x.split(\"_\")[0:-1]))\n",
    "\n",
    "df = df.set_index(\"index\")\n",
    "\n",
    "df.sort_index(inplace=True)\n",
    "\n",
    "# pd.set_option(\"display.max_rows\", None)\n",
    "\n",
    "df.sort_values(by=\"column_name\")"
   ]
  },
  {
   "cell_type": "code",
   "execution_count": 46,
   "metadata": {},
   "outputs": [
    {
     "data": {
      "text/plain": [
       "Index(['pay_sum_mea', 'conn_in_uniq_cnt_mea', 'gprs_tar_vol_mea',\n",
       "       'conn_com_part_mea', 'voice_mts_in_nrest_part_mea',\n",
       "       'voice_in_cmpttrs_td_cnt_mea', 'com_num_part_mea', 'ks_num_part_mea',\n",
       "       'voice_mts_in_nwork_part_mea', 'clc_no_vas_roam_mea',\n",
       "       'non_accum_internet_vol_mea', 'voice_in_mts_avg_dur_mea', 'vas_clc_mea',\n",
       "       'ama_volume_mea', 'voice_mts_in_dwork_part_mea',\n",
       "       'voice_in_fix_tar_dur_mea', 'num_act_days_mea',\n",
       "       'voice_mts_in_drest_part_mea', 'data_3g_tar_vol_mea',\n",
       "       'data_3g_tv_cnt_mea', 'voice_in_roam_clc_mea', 'data_3g_dou_mea',\n",
       "       'voice_in_life_part_mea', 'voice_in_short_part_mea', 'goodok_clc_mea',\n",
       "       'content_cnt_mea', 'voice_in_tar_dur_mea', 'voice_in_kievstar_part_mea',\n",
       "       'content_clc_mea', 'Ama_rchrgmnt_sum_mea', 'voice_in_td_cnt_mea',\n",
       "       'gprs_clc_mea', 'conn_out_uniq_cnt_mea', 'block_all_dur_mea',\n",
       "       'all_cnt_mea', 'sms_clc_mea', 'voice_out_short_part_mea',\n",
       "       'sms_in_cnt_mea', 'pay_p2p_in_sum_mea', 'voice_out_fix_tar_dur_mea',\n",
       "       'all_roam_clc_mea', 'accum_mts_dur_mea', 'all_clc_mea', 'pay_max_mea',\n",
       "       'voice_out_tar_dur_mea', 'sms_out_cnt_mea', 'accum_oth_dur_mea',\n",
       "       'sms_roam_clc_mea', 'abon_part_mea', 'pay_avg_mea',\n",
       "       'pay_p2p_out_sum_mea', 'all_home_clc_mea', 'voice_out_td_cnt_mea'],\n",
       "      dtype='object', name='index')"
      ]
     },
     "execution_count": 46,
     "metadata": {},
     "output_type": "execute_result"
    }
   ],
   "source": [
    "df_agg_columns = df.groupby(\"index\").count().sort_values(by=\"column_name\", ascending=False)\n",
    "\n",
    "slope_columns = df_agg_columns[df_agg_columns.column_name == 3]\n",
    "slope_columns[slope_columns.index.str.endswith(\"_mea\")].index"
   ]
  },
  {
   "cell_type": "code",
   "execution_count": 79,
   "metadata": {},
   "outputs": [],
   "source": [
    "# pd.reset_option(\"display.max_rows\")\n",
    "\n",
    "# train_data_x_with_mnt_wk['num_act_days_mea_mnt3'].idxmax()\n",
    "\n",
    "# train_data[train_data.target == 1].iloc[12][[\"num_act_days_mea_mnt3\", \"num_act_days_mea_mnt1\", \"num_act_days_mea_wk1\"]]\n",
    "\n",
    "# train_data[(train_data.target == 1)].corr()\n",
    "# lost_clients = train_data[(train_data.target == 1)]"
   ]
  },
  {
   "cell_type": "code",
   "execution_count": 52,
   "metadata": {},
   "outputs": [
    {
     "name": "stderr",
     "output_type": "stream",
     "text": [
      "/var/folders/rx/3wq3smm97tngqbtszstwnf4c0000gn/T/ipykernel_52208/1929101703.py:4: FutureWarning: DataFrame.fillna with 'method' is deprecated and will raise in a future version. Use obj.ffill() or obj.bfill() instead.\n",
      "  y = df[columns].fillna(method=\"ffill\", axis=1).values.T\n",
      "/var/folders/rx/3wq3smm97tngqbtszstwnf4c0000gn/T/ipykernel_52208/1929101703.py:10: PerformanceWarning: DataFrame is highly fragmented.  This is usually the result of calling `frame.insert` many times, which has poor performance.  Consider joining all columns at once using pd.concat(axis=1) instead. To get a de-fragmented frame, use `newframe = frame.copy()`\n",
      "  train_data[column] = calculate_slopes(train_data, column)\n",
      "/var/folders/rx/3wq3smm97tngqbtszstwnf4c0000gn/T/ipykernel_52208/1929101703.py:4: FutureWarning: DataFrame.fillna with 'method' is deprecated and will raise in a future version. Use obj.ffill() or obj.bfill() instead.\n",
      "  y = df[columns].fillna(method=\"ffill\", axis=1).values.T\n",
      "/var/folders/rx/3wq3smm97tngqbtszstwnf4c0000gn/T/ipykernel_52208/1929101703.py:10: PerformanceWarning: DataFrame is highly fragmented.  This is usually the result of calling `frame.insert` many times, which has poor performance.  Consider joining all columns at once using pd.concat(axis=1) instead. To get a de-fragmented frame, use `newframe = frame.copy()`\n",
      "  train_data[column] = calculate_slopes(train_data, column)\n",
      "/var/folders/rx/3wq3smm97tngqbtszstwnf4c0000gn/T/ipykernel_52208/1929101703.py:4: FutureWarning: DataFrame.fillna with 'method' is deprecated and will raise in a future version. Use obj.ffill() or obj.bfill() instead.\n",
      "  y = df[columns].fillna(method=\"ffill\", axis=1).values.T\n",
      "/var/folders/rx/3wq3smm97tngqbtszstwnf4c0000gn/T/ipykernel_52208/1929101703.py:10: PerformanceWarning: DataFrame is highly fragmented.  This is usually the result of calling `frame.insert` many times, which has poor performance.  Consider joining all columns at once using pd.concat(axis=1) instead. To get a de-fragmented frame, use `newframe = frame.copy()`\n",
      "  train_data[column] = calculate_slopes(train_data, column)\n",
      "/var/folders/rx/3wq3smm97tngqbtszstwnf4c0000gn/T/ipykernel_52208/1929101703.py:4: FutureWarning: DataFrame.fillna with 'method' is deprecated and will raise in a future version. Use obj.ffill() or obj.bfill() instead.\n",
      "  y = df[columns].fillna(method=\"ffill\", axis=1).values.T\n",
      "/var/folders/rx/3wq3smm97tngqbtszstwnf4c0000gn/T/ipykernel_52208/1929101703.py:10: PerformanceWarning: DataFrame is highly fragmented.  This is usually the result of calling `frame.insert` many times, which has poor performance.  Consider joining all columns at once using pd.concat(axis=1) instead. To get a de-fragmented frame, use `newframe = frame.copy()`\n",
      "  train_data[column] = calculate_slopes(train_data, column)\n",
      "/var/folders/rx/3wq3smm97tngqbtszstwnf4c0000gn/T/ipykernel_52208/1929101703.py:4: FutureWarning: DataFrame.fillna with 'method' is deprecated and will raise in a future version. Use obj.ffill() or obj.bfill() instead.\n",
      "  y = df[columns].fillna(method=\"ffill\", axis=1).values.T\n",
      "/var/folders/rx/3wq3smm97tngqbtszstwnf4c0000gn/T/ipykernel_52208/1929101703.py:10: PerformanceWarning: DataFrame is highly fragmented.  This is usually the result of calling `frame.insert` many times, which has poor performance.  Consider joining all columns at once using pd.concat(axis=1) instead. To get a de-fragmented frame, use `newframe = frame.copy()`\n",
      "  train_data[column] = calculate_slopes(train_data, column)\n",
      "/var/folders/rx/3wq3smm97tngqbtszstwnf4c0000gn/T/ipykernel_52208/1929101703.py:4: FutureWarning: DataFrame.fillna with 'method' is deprecated and will raise in a future version. Use obj.ffill() or obj.bfill() instead.\n",
      "  y = df[columns].fillna(method=\"ffill\", axis=1).values.T\n",
      "/var/folders/rx/3wq3smm97tngqbtszstwnf4c0000gn/T/ipykernel_52208/1929101703.py:10: PerformanceWarning: DataFrame is highly fragmented.  This is usually the result of calling `frame.insert` many times, which has poor performance.  Consider joining all columns at once using pd.concat(axis=1) instead. To get a de-fragmented frame, use `newframe = frame.copy()`\n",
      "  train_data[column] = calculate_slopes(train_data, column)\n",
      "/var/folders/rx/3wq3smm97tngqbtszstwnf4c0000gn/T/ipykernel_52208/1929101703.py:4: FutureWarning: DataFrame.fillna with 'method' is deprecated and will raise in a future version. Use obj.ffill() or obj.bfill() instead.\n",
      "  y = df[columns].fillna(method=\"ffill\", axis=1).values.T\n",
      "/var/folders/rx/3wq3smm97tngqbtszstwnf4c0000gn/T/ipykernel_52208/1929101703.py:10: PerformanceWarning: DataFrame is highly fragmented.  This is usually the result of calling `frame.insert` many times, which has poor performance.  Consider joining all columns at once using pd.concat(axis=1) instead. To get a de-fragmented frame, use `newframe = frame.copy()`\n",
      "  train_data[column] = calculate_slopes(train_data, column)\n",
      "/var/folders/rx/3wq3smm97tngqbtszstwnf4c0000gn/T/ipykernel_52208/1929101703.py:4: FutureWarning: DataFrame.fillna with 'method' is deprecated and will raise in a future version. Use obj.ffill() or obj.bfill() instead.\n",
      "  y = df[columns].fillna(method=\"ffill\", axis=1).values.T\n",
      "/var/folders/rx/3wq3smm97tngqbtszstwnf4c0000gn/T/ipykernel_52208/1929101703.py:10: PerformanceWarning: DataFrame is highly fragmented.  This is usually the result of calling `frame.insert` many times, which has poor performance.  Consider joining all columns at once using pd.concat(axis=1) instead. To get a de-fragmented frame, use `newframe = frame.copy()`\n",
      "  train_data[column] = calculate_slopes(train_data, column)\n",
      "/var/folders/rx/3wq3smm97tngqbtszstwnf4c0000gn/T/ipykernel_52208/1929101703.py:4: FutureWarning: DataFrame.fillna with 'method' is deprecated and will raise in a future version. Use obj.ffill() or obj.bfill() instead.\n",
      "  y = df[columns].fillna(method=\"ffill\", axis=1).values.T\n",
      "/var/folders/rx/3wq3smm97tngqbtszstwnf4c0000gn/T/ipykernel_52208/1929101703.py:10: PerformanceWarning: DataFrame is highly fragmented.  This is usually the result of calling `frame.insert` many times, which has poor performance.  Consider joining all columns at once using pd.concat(axis=1) instead. To get a de-fragmented frame, use `newframe = frame.copy()`\n",
      "  train_data[column] = calculate_slopes(train_data, column)\n",
      "/var/folders/rx/3wq3smm97tngqbtszstwnf4c0000gn/T/ipykernel_52208/1929101703.py:4: FutureWarning: DataFrame.fillna with 'method' is deprecated and will raise in a future version. Use obj.ffill() or obj.bfill() instead.\n",
      "  y = df[columns].fillna(method=\"ffill\", axis=1).values.T\n",
      "/var/folders/rx/3wq3smm97tngqbtszstwnf4c0000gn/T/ipykernel_52208/1929101703.py:10: PerformanceWarning: DataFrame is highly fragmented.  This is usually the result of calling `frame.insert` many times, which has poor performance.  Consider joining all columns at once using pd.concat(axis=1) instead. To get a de-fragmented frame, use `newframe = frame.copy()`\n",
      "  train_data[column] = calculate_slopes(train_data, column)\n",
      "/var/folders/rx/3wq3smm97tngqbtszstwnf4c0000gn/T/ipykernel_52208/1929101703.py:4: FutureWarning: DataFrame.fillna with 'method' is deprecated and will raise in a future version. Use obj.ffill() or obj.bfill() instead.\n",
      "  y = df[columns].fillna(method=\"ffill\", axis=1).values.T\n",
      "/var/folders/rx/3wq3smm97tngqbtszstwnf4c0000gn/T/ipykernel_52208/1929101703.py:10: PerformanceWarning: DataFrame is highly fragmented.  This is usually the result of calling `frame.insert` many times, which has poor performance.  Consider joining all columns at once using pd.concat(axis=1) instead. To get a de-fragmented frame, use `newframe = frame.copy()`\n",
      "  train_data[column] = calculate_slopes(train_data, column)\n",
      "/var/folders/rx/3wq3smm97tngqbtszstwnf4c0000gn/T/ipykernel_52208/1929101703.py:4: FutureWarning: DataFrame.fillna with 'method' is deprecated and will raise in a future version. Use obj.ffill() or obj.bfill() instead.\n",
      "  y = df[columns].fillna(method=\"ffill\", axis=1).values.T\n",
      "/var/folders/rx/3wq3smm97tngqbtszstwnf4c0000gn/T/ipykernel_52208/1929101703.py:10: PerformanceWarning: DataFrame is highly fragmented.  This is usually the result of calling `frame.insert` many times, which has poor performance.  Consider joining all columns at once using pd.concat(axis=1) instead. To get a de-fragmented frame, use `newframe = frame.copy()`\n",
      "  train_data[column] = calculate_slopes(train_data, column)\n",
      "/var/folders/rx/3wq3smm97tngqbtszstwnf4c0000gn/T/ipykernel_52208/1929101703.py:4: FutureWarning: DataFrame.fillna with 'method' is deprecated and will raise in a future version. Use obj.ffill() or obj.bfill() instead.\n",
      "  y = df[columns].fillna(method=\"ffill\", axis=1).values.T\n",
      "/var/folders/rx/3wq3smm97tngqbtszstwnf4c0000gn/T/ipykernel_52208/1929101703.py:10: PerformanceWarning: DataFrame is highly fragmented.  This is usually the result of calling `frame.insert` many times, which has poor performance.  Consider joining all columns at once using pd.concat(axis=1) instead. To get a de-fragmented frame, use `newframe = frame.copy()`\n",
      "  train_data[column] = calculate_slopes(train_data, column)\n",
      "/var/folders/rx/3wq3smm97tngqbtszstwnf4c0000gn/T/ipykernel_52208/1929101703.py:4: FutureWarning: DataFrame.fillna with 'method' is deprecated and will raise in a future version. Use obj.ffill() or obj.bfill() instead.\n",
      "  y = df[columns].fillna(method=\"ffill\", axis=1).values.T\n"
     ]
    },
    {
     "ename": "KeyboardInterrupt",
     "evalue": "",
     "output_type": "error",
     "traceback": [
      "\u001b[0;31m---------------------------------------------------------------------------\u001b[0m",
      "\u001b[0;31mKeyboardInterrupt\u001b[0m                         Traceback (most recent call last)",
      "\u001b[0;32m/var/folders/rx/3wq3smm97tngqbtszstwnf4c0000gn/T/ipykernel_52208/1929101703.py\u001b[0m in \u001b[0;36m?\u001b[0;34m()\u001b[0m\n\u001b[1;32m      6\u001b[0m     \u001b[0;32mreturn\u001b[0m \u001b[0mslopes\u001b[0m\u001b[0;34m\u001b[0m\u001b[0;34m\u001b[0m\u001b[0m\n\u001b[1;32m      7\u001b[0m \u001b[0;34m\u001b[0m\u001b[0m\n\u001b[1;32m      8\u001b[0m \u001b[0;34m\u001b[0m\u001b[0m\n\u001b[1;32m      9\u001b[0m \u001b[0;32mfor\u001b[0m \u001b[0mcolumn\u001b[0m \u001b[0;32min\u001b[0m \u001b[0mslope_columns\u001b[0m\u001b[0;34m.\u001b[0m\u001b[0mindex\u001b[0m\u001b[0;34m:\u001b[0m\u001b[0;34m\u001b[0m\u001b[0;34m\u001b[0m\u001b[0m\n\u001b[0;32m---> 10\u001b[0;31m     \u001b[0mtrain_data\u001b[0m\u001b[0;34m[\u001b[0m\u001b[0mcolumn\u001b[0m\u001b[0;34m]\u001b[0m \u001b[0;34m=\u001b[0m \u001b[0mcalculate_slopes\u001b[0m\u001b[0;34m(\u001b[0m\u001b[0mtrain_data\u001b[0m\u001b[0;34m,\u001b[0m \u001b[0mcolumn\u001b[0m\u001b[0;34m)\u001b[0m\u001b[0;34m\u001b[0m\u001b[0;34m\u001b[0m\u001b[0m\n\u001b[0m",
      "\u001b[0;32m/var/folders/rx/3wq3smm97tngqbtszstwnf4c0000gn/T/ipykernel_52208/1929101703.py\u001b[0m in \u001b[0;36m?\u001b[0;34m(df, column)\u001b[0m\n\u001b[1;32m      1\u001b[0m \u001b[0;32mdef\u001b[0m \u001b[0mcalculate_slopes\u001b[0m\u001b[0;34m(\u001b[0m\u001b[0mdf\u001b[0m\u001b[0;34m,\u001b[0m \u001b[0mcolumn\u001b[0m\u001b[0;34m)\u001b[0m\u001b[0;34m:\u001b[0m\u001b[0;34m\u001b[0m\u001b[0;34m\u001b[0m\u001b[0m\n\u001b[1;32m      2\u001b[0m     \u001b[0mt\u001b[0m \u001b[0;34m=\u001b[0m \u001b[0mnp\u001b[0m\u001b[0;34m.\u001b[0m\u001b[0marray\u001b[0m\u001b[0;34m(\u001b[0m\u001b[0;34m[\u001b[0m\u001b[0;36m1\u001b[0m\u001b[0;34m,\u001b[0m \u001b[0;36m2\u001b[0m\u001b[0;34m,\u001b[0m \u001b[0;36m3\u001b[0m\u001b[0;34m]\u001b[0m\u001b[0;34m)\u001b[0m\u001b[0;34m\u001b[0m\u001b[0;34m\u001b[0m\u001b[0m\n\u001b[1;32m      3\u001b[0m     \u001b[0mcolumns\u001b[0m \u001b[0;34m=\u001b[0m \u001b[0;34m[\u001b[0m\u001b[0;34mf\"{column}_mnt3\"\u001b[0m\u001b[0;34m,\u001b[0m \u001b[0;34mf\"{column}_mnt1\"\u001b[0m\u001b[0;34m,\u001b[0m \u001b[0;34mf\"{column}_wk1\"\u001b[0m\u001b[0;34m]\u001b[0m\u001b[0;34m\u001b[0m\u001b[0;34m\u001b[0m\u001b[0m\n\u001b[1;32m      4\u001b[0m     \u001b[0my\u001b[0m \u001b[0;34m=\u001b[0m \u001b[0mdf\u001b[0m\u001b[0;34m[\u001b[0m\u001b[0mcolumns\u001b[0m\u001b[0;34m]\u001b[0m\u001b[0;34m.\u001b[0m\u001b[0mfillna\u001b[0m\u001b[0;34m(\u001b[0m\u001b[0mmethod\u001b[0m\u001b[0;34m=\u001b[0m\u001b[0;34m\"ffill\"\u001b[0m\u001b[0;34m,\u001b[0m \u001b[0maxis\u001b[0m\u001b[0;34m=\u001b[0m\u001b[0;36m1\u001b[0m\u001b[0;34m)\u001b[0m\u001b[0;34m.\u001b[0m\u001b[0mvalues\u001b[0m\u001b[0;34m.\u001b[0m\u001b[0mT\u001b[0m\u001b[0;34m\u001b[0m\u001b[0;34m\u001b[0m\u001b[0m\n\u001b[0;32m----> 5\u001b[0;31m     \u001b[0mslopes\u001b[0m \u001b[0;34m=\u001b[0m \u001b[0mnp\u001b[0m\u001b[0;34m.\u001b[0m\u001b[0mapply_along_axis\u001b[0m\u001b[0;34m(\u001b[0m\u001b[0;32mlambda\u001b[0m \u001b[0mx\u001b[0m\u001b[0;34m:\u001b[0m \u001b[0mscipy\u001b[0m\u001b[0;34m.\u001b[0m\u001b[0mstats\u001b[0m\u001b[0;34m.\u001b[0m\u001b[0mlinregress\u001b[0m\u001b[0;34m(\u001b[0m\u001b[0mt\u001b[0m\u001b[0;34m,\u001b[0m \u001b[0mx\u001b[0m\u001b[0;34m)\u001b[0m\u001b[0;34m[\u001b[0m\u001b[0;36m0\u001b[0m\u001b[0;34m]\u001b[0m\u001b[0;34m,\u001b[0m \u001b[0;36m0\u001b[0m\u001b[0;34m,\u001b[0m \u001b[0my\u001b[0m\u001b[0;34m)\u001b[0m\u001b[0;34m\u001b[0m\u001b[0;34m\u001b[0m\u001b[0m\n\u001b[0m\u001b[1;32m      6\u001b[0m     \u001b[0;32mreturn\u001b[0m \u001b[0mslopes\u001b[0m\u001b[0;34m\u001b[0m\u001b[0;34m\u001b[0m\u001b[0m\n",
      "\u001b[0;32m~/.pyenv/versions/3.10.13/lib/python3.10/site-packages/numpy/lib/shape_base.py\u001b[0m in \u001b[0;36m?\u001b[0;34m(func1d, axis, arr, *args, **kwargs)\u001b[0m\n\u001b[1;32m    398\u001b[0m \u001b[0;34m\u001b[0m\u001b[0m\n\u001b[1;32m    399\u001b[0m     \u001b[0;31m# save the first result, then compute and save all remaining results\u001b[0m\u001b[0;34m\u001b[0m\u001b[0;34m\u001b[0m\u001b[0m\n\u001b[1;32m    400\u001b[0m     \u001b[0mbuff\u001b[0m\u001b[0;34m[\u001b[0m\u001b[0mind0\u001b[0m\u001b[0;34m]\u001b[0m \u001b[0;34m=\u001b[0m \u001b[0mres\u001b[0m\u001b[0;34m\u001b[0m\u001b[0;34m\u001b[0m\u001b[0m\n\u001b[1;32m    401\u001b[0m     \u001b[0;32mfor\u001b[0m \u001b[0mind\u001b[0m \u001b[0;32min\u001b[0m \u001b[0minds\u001b[0m\u001b[0;34m:\u001b[0m\u001b[0;34m\u001b[0m\u001b[0;34m\u001b[0m\u001b[0m\n\u001b[0;32m--> 402\u001b[0;31m         \u001b[0mbuff\u001b[0m\u001b[0;34m[\u001b[0m\u001b[0mind\u001b[0m\u001b[0;34m]\u001b[0m \u001b[0;34m=\u001b[0m \u001b[0masanyarray\u001b[0m\u001b[0;34m(\u001b[0m\u001b[0mfunc1d\u001b[0m\u001b[0;34m(\u001b[0m\u001b[0minarr_view\u001b[0m\u001b[0;34m[\u001b[0m\u001b[0mind\u001b[0m\u001b[0;34m]\u001b[0m\u001b[0;34m,\u001b[0m \u001b[0;34m*\u001b[0m\u001b[0margs\u001b[0m\u001b[0;34m,\u001b[0m \u001b[0;34m**\u001b[0m\u001b[0mkwargs\u001b[0m\u001b[0;34m)\u001b[0m\u001b[0;34m)\u001b[0m\u001b[0;34m\u001b[0m\u001b[0;34m\u001b[0m\u001b[0m\n\u001b[0m\u001b[1;32m    403\u001b[0m \u001b[0;34m\u001b[0m\u001b[0m\n\u001b[1;32m    404\u001b[0m     \u001b[0;32mif\u001b[0m \u001b[0;32mnot\u001b[0m \u001b[0misinstance\u001b[0m\u001b[0;34m(\u001b[0m\u001b[0mres\u001b[0m\u001b[0;34m,\u001b[0m \u001b[0mmatrix\u001b[0m\u001b[0;34m)\u001b[0m\u001b[0;34m:\u001b[0m\u001b[0;34m\u001b[0m\u001b[0;34m\u001b[0m\u001b[0m\n\u001b[1;32m    405\u001b[0m         \u001b[0;31m# wrap the array, to preserve subclasses\u001b[0m\u001b[0;34m\u001b[0m\u001b[0;34m\u001b[0m\u001b[0m\n",
      "\u001b[0;32m/var/folders/rx/3wq3smm97tngqbtszstwnf4c0000gn/T/ipykernel_52208/1929101703.py\u001b[0m in \u001b[0;36m?\u001b[0;34m(x)\u001b[0m\n\u001b[0;32m----> 5\u001b[0;31m     \u001b[0mslopes\u001b[0m \u001b[0;34m=\u001b[0m \u001b[0mnp\u001b[0m\u001b[0;34m.\u001b[0m\u001b[0mapply_along_axis\u001b[0m\u001b[0;34m(\u001b[0m\u001b[0;32mlambda\u001b[0m \u001b[0mx\u001b[0m\u001b[0;34m:\u001b[0m \u001b[0mscipy\u001b[0m\u001b[0;34m.\u001b[0m\u001b[0mstats\u001b[0m\u001b[0;34m.\u001b[0m\u001b[0mlinregress\u001b[0m\u001b[0;34m(\u001b[0m\u001b[0mt\u001b[0m\u001b[0;34m,\u001b[0m \u001b[0mx\u001b[0m\u001b[0;34m)\u001b[0m\u001b[0;34m[\u001b[0m\u001b[0;36m0\u001b[0m\u001b[0;34m]\u001b[0m\u001b[0;34m,\u001b[0m \u001b[0;36m0\u001b[0m\u001b[0;34m,\u001b[0m \u001b[0my\u001b[0m\u001b[0;34m)\u001b[0m\u001b[0;34m\u001b[0m\u001b[0;34m\u001b[0m\u001b[0m\n\u001b[0m",
      "\u001b[0;32m~/.pyenv/versions/3.10.13/lib/python3.10/site-packages/scipy/stats/_stats_mstats_common.py\u001b[0m in \u001b[0;36m?\u001b[0;34m(x, y, alternative)\u001b[0m\n\u001b[1;32m    193\u001b[0m         \u001b[0mdf\u001b[0m \u001b[0;34m=\u001b[0m \u001b[0mn\u001b[0m \u001b[0;34m-\u001b[0m \u001b[0;36m2\u001b[0m  \u001b[0;31m# Number of degrees of freedom\u001b[0m\u001b[0;34m\u001b[0m\u001b[0;34m\u001b[0m\u001b[0m\n\u001b[1;32m    194\u001b[0m         \u001b[0;31m# n-2 degrees of freedom because 2 has been used up\u001b[0m\u001b[0;34m\u001b[0m\u001b[0;34m\u001b[0m\u001b[0m\n\u001b[1;32m    195\u001b[0m         \u001b[0;31m# to estimate the mean and standard deviation\u001b[0m\u001b[0;34m\u001b[0m\u001b[0;34m\u001b[0m\u001b[0m\n\u001b[1;32m    196\u001b[0m         \u001b[0mt\u001b[0m \u001b[0;34m=\u001b[0m \u001b[0mr\u001b[0m \u001b[0;34m*\u001b[0m \u001b[0mnp\u001b[0m\u001b[0;34m.\u001b[0m\u001b[0msqrt\u001b[0m\u001b[0;34m(\u001b[0m\u001b[0mdf\u001b[0m \u001b[0;34m/\u001b[0m \u001b[0;34m(\u001b[0m\u001b[0;34m(\u001b[0m\u001b[0;36m1.0\u001b[0m \u001b[0;34m-\u001b[0m \u001b[0mr\u001b[0m \u001b[0;34m+\u001b[0m \u001b[0mTINY\u001b[0m\u001b[0;34m)\u001b[0m\u001b[0;34m*\u001b[0m\u001b[0;34m(\u001b[0m\u001b[0;36m1.0\u001b[0m \u001b[0;34m+\u001b[0m \u001b[0mr\u001b[0m \u001b[0;34m+\u001b[0m \u001b[0mTINY\u001b[0m\u001b[0;34m)\u001b[0m\u001b[0;34m)\u001b[0m\u001b[0;34m)\u001b[0m\u001b[0;34m\u001b[0m\u001b[0;34m\u001b[0m\u001b[0m\n\u001b[0;32m--> 197\u001b[0;31m         \u001b[0mt\u001b[0m\u001b[0;34m,\u001b[0m \u001b[0mprob\u001b[0m \u001b[0;34m=\u001b[0m \u001b[0mscipy\u001b[0m\u001b[0;34m.\u001b[0m\u001b[0mstats\u001b[0m\u001b[0;34m.\u001b[0m\u001b[0m_stats_py\u001b[0m\u001b[0;34m.\u001b[0m\u001b[0m_ttest_finish\u001b[0m\u001b[0;34m(\u001b[0m\u001b[0mdf\u001b[0m\u001b[0;34m,\u001b[0m \u001b[0mt\u001b[0m\u001b[0;34m,\u001b[0m \u001b[0malternative\u001b[0m\u001b[0;34m)\u001b[0m\u001b[0;34m\u001b[0m\u001b[0;34m\u001b[0m\u001b[0m\n\u001b[0m\u001b[1;32m    198\u001b[0m \u001b[0;34m\u001b[0m\u001b[0m\n\u001b[1;32m    199\u001b[0m         \u001b[0mslope_stderr\u001b[0m \u001b[0;34m=\u001b[0m \u001b[0mnp\u001b[0m\u001b[0;34m.\u001b[0m\u001b[0msqrt\u001b[0m\u001b[0;34m(\u001b[0m\u001b[0;34m(\u001b[0m\u001b[0;36m1\u001b[0m \u001b[0;34m-\u001b[0m \u001b[0mr\u001b[0m\u001b[0;34m**\u001b[0m\u001b[0;36m2\u001b[0m\u001b[0;34m)\u001b[0m \u001b[0;34m*\u001b[0m \u001b[0mssym\u001b[0m \u001b[0;34m/\u001b[0m \u001b[0mssxm\u001b[0m \u001b[0;34m/\u001b[0m \u001b[0mdf\u001b[0m\u001b[0;34m)\u001b[0m\u001b[0;34m\u001b[0m\u001b[0;34m\u001b[0m\u001b[0m\n\u001b[1;32m    200\u001b[0m \u001b[0;34m\u001b[0m\u001b[0m\n",
      "\u001b[0;32m~/.pyenv/versions/3.10.13/lib/python3.10/site-packages/scipy/stats/_stats_py.py\u001b[0m in \u001b[0;36m?\u001b[0;34m(df, t, alternative)\u001b[0m\n\u001b[1;32m   6980\u001b[0m         \u001b[0mpval\u001b[0m \u001b[0;34m=\u001b[0m \u001b[0mspecial\u001b[0m\u001b[0;34m.\u001b[0m\u001b[0mstdtr\u001b[0m\u001b[0;34m(\u001b[0m\u001b[0mdf\u001b[0m\u001b[0;34m,\u001b[0m \u001b[0mt\u001b[0m\u001b[0;34m)\u001b[0m\u001b[0;34m\u001b[0m\u001b[0;34m\u001b[0m\u001b[0m\n\u001b[1;32m   6981\u001b[0m     \u001b[0;32melif\u001b[0m \u001b[0malternative\u001b[0m \u001b[0;34m==\u001b[0m \u001b[0;34m'greater'\u001b[0m\u001b[0;34m:\u001b[0m\u001b[0;34m\u001b[0m\u001b[0;34m\u001b[0m\u001b[0m\n\u001b[1;32m   6982\u001b[0m         \u001b[0mpval\u001b[0m \u001b[0;34m=\u001b[0m \u001b[0mspecial\u001b[0m\u001b[0;34m.\u001b[0m\u001b[0mstdtr\u001b[0m\u001b[0;34m(\u001b[0m\u001b[0mdf\u001b[0m\u001b[0;34m,\u001b[0m \u001b[0;34m-\u001b[0m\u001b[0mt\u001b[0m\u001b[0;34m)\u001b[0m\u001b[0;34m\u001b[0m\u001b[0;34m\u001b[0m\u001b[0m\n\u001b[1;32m   6983\u001b[0m     \u001b[0;32melif\u001b[0m \u001b[0malternative\u001b[0m \u001b[0;34m==\u001b[0m \u001b[0;34m'two-sided'\u001b[0m\u001b[0;34m:\u001b[0m\u001b[0;34m\u001b[0m\u001b[0;34m\u001b[0m\u001b[0m\n\u001b[0;32m-> 6984\u001b[0;31m         \u001b[0mpval\u001b[0m \u001b[0;34m=\u001b[0m \u001b[0mspecial\u001b[0m\u001b[0;34m.\u001b[0m\u001b[0mstdtr\u001b[0m\u001b[0;34m(\u001b[0m\u001b[0mdf\u001b[0m\u001b[0;34m,\u001b[0m \u001b[0;34m-\u001b[0m\u001b[0mnp\u001b[0m\u001b[0;34m.\u001b[0m\u001b[0mabs\u001b[0m\u001b[0;34m(\u001b[0m\u001b[0mt\u001b[0m\u001b[0;34m)\u001b[0m\u001b[0;34m)\u001b[0m\u001b[0;34m*\u001b[0m\u001b[0;36m2\u001b[0m\u001b[0;34m\u001b[0m\u001b[0;34m\u001b[0m\u001b[0m\n\u001b[0m\u001b[1;32m   6985\u001b[0m     \u001b[0;32melse\u001b[0m\u001b[0;34m:\u001b[0m\u001b[0;34m\u001b[0m\u001b[0;34m\u001b[0m\u001b[0m\n\u001b[1;32m   6986\u001b[0m         raise ValueError(\"alternative must be \"\n\u001b[1;32m   6987\u001b[0m                          \"'less', 'greater' or 'two-sided'\")\n",
      "\u001b[0;31mKeyboardInterrupt\u001b[0m: "
     ]
    }
   ],
   "source": [
    "def calculate_slopes(df, column):\n",
    "    t = np.array([1, 2, 3])\n",
    "    columns = [f\"{column}_mnt3\", f\"{column}_mnt1\", f\"{column}_wk1\"]\n",
    "    y = df[columns].fillna(method=\"ffill\", axis=1).values.T\n",
    "    slopes = np.apply_along_axis(lambda x: scipy.stats.linregress(t, x)[0], 0, y)\n",
    "    return slopes\n",
    "\n",
    "\n",
    "for column in slope_columns.index:\n",
    "    train_data[column] = calculate_slopes(train_data, column)\n",
    "    train_data.drop(columns=[f\"{column}_mnt3\"], inplace=True)"
   ]
  },
  {
   "cell_type": "code",
   "execution_count": 198,
   "metadata": {},
   "outputs": [
    {
     "data": {
      "text/plain": [
       "24        1\n",
       "30        0\n",
       "60        1\n",
       "77        0\n",
       "104       0\n",
       "         ..\n",
       "149964    0\n",
       "149971    0\n",
       "149976    0\n",
       "149981    0\n",
       "149992    0\n",
       "Name: loc_is_obl_center, Length: 9585, dtype: int64"
      ]
     },
     "execution_count": 198,
     "metadata": {},
     "output_type": "execute_result"
    }
   ],
   "source": []
  },
  {
   "cell_type": "code",
   "execution_count": null,
   "metadata": {},
   "outputs": [],
   "source": []
  },
  {
   "cell_type": "code",
   "execution_count": null,
   "metadata": {},
   "outputs": [],
   "source": []
  }
 ],
 "metadata": {
  "kernelspec": {
   "display_name": "Python 3",
   "language": "python",
   "name": "python3"
  },
  "language_info": {
   "codemirror_mode": {
    "name": "ipython",
    "version": 3
   },
   "file_extension": ".py",
   "mimetype": "text/x-python",
   "name": "python",
   "nbconvert_exporter": "python",
   "pygments_lexer": "ipython3",
   "version": "3.10.13"
  }
 },
 "nbformat": 4,
 "nbformat_minor": 2
}
