{
 "cells": [
  {
   "cell_type": "code",
   "execution_count": 2,
   "metadata": {},
   "outputs": [],
   "source": [
    "%load_ext autoreload\n",
    "%autoreload 2\n",
    "\n",
    "import optuna\n",
    "import pandas as pd\n",
    "import lightgbm as lgb\n",
    "import matplotlib.pyplot as plt\n",
    "import shap\n",
    "import numpy as np\n",
    "import scipy\n",
    "import seaborn as sns\n",
    "\n",
    "from steps.prepare_data import load_processed_data, load_split_processed_data\n",
    "from utils.model import predict, load_model, predict_booster, predict_xgbm"
   ]
  },
  {
   "cell_type": "code",
   "execution_count": 13,
   "metadata": {},
   "outputs": [
    {
     "name": "stdout",
     "output_type": "stream",
     "text": [
      "-----------Train----------\n",
      "\n",
      "Metrics\n",
      "AUC: 0.94\n",
      "Classification Report:\n",
      "              precision    recall  f1-score   support\n",
      "\n",
      "           0       0.96      0.99      0.98    140413\n",
      "           1       0.81      0.37      0.51      9585\n",
      "\n",
      "    accuracy                           0.95    149998\n",
      "   macro avg       0.88      0.68      0.74    149998\n",
      "weighted avg       0.95      0.95      0.95    149998\n",
      "\n",
      "-----------Test----------\n",
      "\n",
      "Metrics\n",
      "AUC: 0.90\n",
      "Classification Report:\n",
      "              precision    recall  f1-score   support\n",
      "\n",
      "           0       0.96      0.99      0.97    140597\n",
      "           1       0.71      0.31      0.43      9403\n",
      "\n",
      "    accuracy                           0.95    150000\n",
      "   macro avg       0.84      0.65      0.70    150000\n",
      "weighted avg       0.94      0.95      0.94    150000\n",
      "\n"
     ]
    }
   ],
   "source": [
    "train_data, test_data = load_split_processed_data()\n",
    "\n",
    "model_name = \"1_BEST_LightGbmV2_p071_r031_090auc_new_features.pickle\"\n",
    "\n",
    "train_data_x = train_data.drop(columns=[\"target\"])\n",
    "train_data_y = train_data[\"target\"]\n",
    "\n",
    "test_data_x = test_data.drop(columns=[\"target\"])\n",
    "test_data_y = test_data[\"target\"]\n",
    "\n",
    "print(\"-----------Train----------\")\n",
    "predict_booster(model_name, train_data)\n",
    "\n",
    "print(\"-----------Test----------\")\n",
    "predict_booster(model_name, test_data)\n",
    "\n",
    "model, features = load_model(model_name)"
   ]
  },
  {
   "cell_type": "code",
   "execution_count": 14,
   "metadata": {},
   "outputs": [
    {
     "data": {
      "text/html": [
       "<div>\n",
       "<style scoped>\n",
       "    .dataframe tbody tr th:only-of-type {\n",
       "        vertical-align: middle;\n",
       "    }\n",
       "\n",
       "    .dataframe tbody tr th {\n",
       "        vertical-align: top;\n",
       "    }\n",
       "\n",
       "    .dataframe thead th {\n",
       "        text-align: right;\n",
       "    }\n",
       "</style>\n",
       "<table border=\"1\" class=\"dataframe\">\n",
       "  <thead>\n",
       "    <tr style=\"text-align: right;\">\n",
       "      <th></th>\n",
       "      <th>Feature</th>\n",
       "      <th>Importance</th>\n",
       "    </tr>\n",
       "  </thead>\n",
       "  <tbody>\n",
       "    <tr>\n",
       "      <th>4</th>\n",
       "      <td>num_act_days_min_mnt3</td>\n",
       "      <td>70274.584247</td>\n",
       "    </tr>\n",
       "    <tr>\n",
       "      <th>15</th>\n",
       "      <td>device_days_usage</td>\n",
       "      <td>68472.152188</td>\n",
       "    </tr>\n",
       "    <tr>\n",
       "      <th>5</th>\n",
       "      <td>num_act_days_mea_mnt1</td>\n",
       "      <td>35108.467629</td>\n",
       "    </tr>\n",
       "    <tr>\n",
       "      <th>2</th>\n",
       "      <td>num_act_days_min_mnt1</td>\n",
       "      <td>24816.159312</td>\n",
       "    </tr>\n",
       "    <tr>\n",
       "      <th>6</th>\n",
       "      <td>loc_market_share</td>\n",
       "      <td>19173.358278</td>\n",
       "    </tr>\n",
       "    <tr>\n",
       "      <th>1</th>\n",
       "      <td>device_brand_other</td>\n",
       "      <td>12554.328125</td>\n",
       "    </tr>\n",
       "    <tr>\n",
       "      <th>54</th>\n",
       "      <td>num_act_days_mea_mnt3</td>\n",
       "      <td>11774.050361</td>\n",
       "    </tr>\n",
       "    <tr>\n",
       "      <th>31</th>\n",
       "      <td>num_act_days_std_mnt3</td>\n",
       "      <td>6010.006061</td>\n",
       "    </tr>\n",
       "    <tr>\n",
       "      <th>28</th>\n",
       "      <td>voice_mts_in_dwork_part_mea_mnt3</td>\n",
       "      <td>5474.799874</td>\n",
       "    </tr>\n",
       "    <tr>\n",
       "      <th>21</th>\n",
       "      <td>lt</td>\n",
       "      <td>5463.130363</td>\n",
       "    </tr>\n",
       "    <tr>\n",
       "      <th>44</th>\n",
       "      <td>device_brand_nan</td>\n",
       "      <td>4627.769560</td>\n",
       "    </tr>\n",
       "    <tr>\n",
       "      <th>86</th>\n",
       "      <td>voice_in_tar_dur_min_mnt1</td>\n",
       "      <td>4391.997242</td>\n",
       "    </tr>\n",
       "    <tr>\n",
       "      <th>25</th>\n",
       "      <td>Balance_uah</td>\n",
       "      <td>4126.196804</td>\n",
       "    </tr>\n",
       "    <tr>\n",
       "      <th>19</th>\n",
       "      <td>days_of_end_last_ppm</td>\n",
       "      <td>4039.148686</td>\n",
       "    </tr>\n",
       "    <tr>\n",
       "      <th>71</th>\n",
       "      <td>all_cnt_std_mnt3</td>\n",
       "      <td>3726.375955</td>\n",
       "    </tr>\n",
       "    <tr>\n",
       "      <th>65</th>\n",
       "      <td>all_cnt_std_mnt1</td>\n",
       "      <td>3670.552908</td>\n",
       "    </tr>\n",
       "    <tr>\n",
       "      <th>83</th>\n",
       "      <td>days_of_last_ppm</td>\n",
       "      <td>3305.285354</td>\n",
       "    </tr>\n",
       "    <tr>\n",
       "      <th>79</th>\n",
       "      <td>data_3g_tv_cnt_std_mnt3</td>\n",
       "      <td>3252.786912</td>\n",
       "    </tr>\n",
       "    <tr>\n",
       "      <th>42</th>\n",
       "      <td>content_cnt_mea_mnt3</td>\n",
       "      <td>3198.519944</td>\n",
       "    </tr>\n",
       "    <tr>\n",
       "      <th>85</th>\n",
       "      <td>sms_in_cnt_std_mnt3</td>\n",
       "      <td>3170.986304</td>\n",
       "    </tr>\n",
       "    <tr>\n",
       "      <th>33</th>\n",
       "      <td>loc_is_obl_center</td>\n",
       "      <td>3125.506023</td>\n",
       "    </tr>\n",
       "    <tr>\n",
       "      <th>20</th>\n",
       "      <td>voice_mts_in_dwork_part_std_mnt1</td>\n",
       "      <td>2894.184526</td>\n",
       "    </tr>\n",
       "    <tr>\n",
       "      <th>87</th>\n",
       "      <td>voice_in_td_cnt_td_mnt3</td>\n",
       "      <td>2758.515655</td>\n",
       "    </tr>\n",
       "    <tr>\n",
       "      <th>76</th>\n",
       "      <td>abon_id</td>\n",
       "      <td>2709.254749</td>\n",
       "    </tr>\n",
       "    <tr>\n",
       "      <th>69</th>\n",
       "      <td>sum_paym_6_month</td>\n",
       "      <td>2688.421319</td>\n",
       "    </tr>\n",
       "    <tr>\n",
       "      <th>106</th>\n",
       "      <td>SUM_of_Duration_sec_mean</td>\n",
       "      <td>2605.969333</td>\n",
       "    </tr>\n",
       "    <tr>\n",
       "      <th>27</th>\n",
       "      <td>day_end_gba</td>\n",
       "      <td>2470.685291</td>\n",
       "    </tr>\n",
       "    <tr>\n",
       "      <th>57</th>\n",
       "      <td>imei_mean_days_usage</td>\n",
       "      <td>1940.724671</td>\n",
       "    </tr>\n",
       "    <tr>\n",
       "      <th>331</th>\n",
       "      <td>other_cnt_sms_in_sum</td>\n",
       "      <td>1869.646772</td>\n",
       "    </tr>\n",
       "    <tr>\n",
       "      <th>84</th>\n",
       "      <td>imei_mean_long_days_usage</td>\n",
       "      <td>1863.344990</td>\n",
       "    </tr>\n",
       "    <tr>\n",
       "      <th>88</th>\n",
       "      <td>voice_out_tar_dur_min_mnt3</td>\n",
       "      <td>1730.991929</td>\n",
       "    </tr>\n",
       "    <tr>\n",
       "      <th>10</th>\n",
       "      <td>voice_mts_in_drest_part_mea_wk1</td>\n",
       "      <td>1664.106477</td>\n",
       "    </tr>\n",
       "    <tr>\n",
       "      <th>23</th>\n",
       "      <td>conn_in_uniq_cnt_td_mnt3</td>\n",
       "      <td>1532.404640</td>\n",
       "    </tr>\n",
       "    <tr>\n",
       "      <th>36</th>\n",
       "      <td>voice_mts_out_dwork_partmea_mnt3</td>\n",
       "      <td>1478.929351</td>\n",
       "    </tr>\n",
       "    <tr>\n",
       "      <th>82</th>\n",
       "      <td>sms_in_cnt_mea_mnt3</td>\n",
       "      <td>1440.122634</td>\n",
       "    </tr>\n",
       "    <tr>\n",
       "      <th>24</th>\n",
       "      <td>voice_in_life_part_std_mnt3</td>\n",
       "      <td>1438.516848</td>\n",
       "    </tr>\n",
       "    <tr>\n",
       "      <th>220</th>\n",
       "      <td>casual_topic_cnt_sms_in_sum</td>\n",
       "      <td>1435.241421</td>\n",
       "    </tr>\n",
       "    <tr>\n",
       "      <th>109</th>\n",
       "      <td>MAX_of_day_cnt_top_apps_sum</td>\n",
       "      <td>1380.896495</td>\n",
       "    </tr>\n",
       "    <tr>\n",
       "      <th>96</th>\n",
       "      <td>SUM_of_Duration_sec_susp_app_mean</td>\n",
       "      <td>1343.170295</td>\n",
       "    </tr>\n",
       "    <tr>\n",
       "      <th>75</th>\n",
       "      <td>ks_num_part_std_mnt3</td>\n",
       "      <td>1339.996486</td>\n",
       "    </tr>\n",
       "    <tr>\n",
       "      <th>39</th>\n",
       "      <td>voice_mts_out_dwork_partstd_mnt1</td>\n",
       "      <td>1319.055703</td>\n",
       "    </tr>\n",
       "    <tr>\n",
       "      <th>26</th>\n",
       "      <td>ks_num_part_mea_wk1</td>\n",
       "      <td>1269.459663</td>\n",
       "    </tr>\n",
       "    <tr>\n",
       "      <th>8</th>\n",
       "      <td>voice_in_kievstar_part_std_mnt1</td>\n",
       "      <td>1225.025560</td>\n",
       "    </tr>\n",
       "    <tr>\n",
       "      <th>14</th>\n",
       "      <td>num_act_days_td_mnt3</td>\n",
       "      <td>1194.659848</td>\n",
       "    </tr>\n",
       "    <tr>\n",
       "      <th>43</th>\n",
       "      <td>cnt_paym_6_month</td>\n",
       "      <td>1154.282035</td>\n",
       "    </tr>\n",
       "    <tr>\n",
       "      <th>110</th>\n",
       "      <td>MAX_of_day_cnt_top_apps_mean</td>\n",
       "      <td>1137.874535</td>\n",
       "    </tr>\n",
       "  </tbody>\n",
       "</table>\n",
       "</div>"
      ],
      "text/plain": [
       "                               Feature    Importance\n",
       "4                num_act_days_min_mnt3  70274.584247\n",
       "15                   device_days_usage  68472.152188\n",
       "5                num_act_days_mea_mnt1  35108.467629\n",
       "2                num_act_days_min_mnt1  24816.159312\n",
       "6                     loc_market_share  19173.358278\n",
       "1                   device_brand_other  12554.328125\n",
       "54               num_act_days_mea_mnt3  11774.050361\n",
       "31               num_act_days_std_mnt3   6010.006061\n",
       "28    voice_mts_in_dwork_part_mea_mnt3   5474.799874\n",
       "21                                  lt   5463.130363\n",
       "44                    device_brand_nan   4627.769560\n",
       "86           voice_in_tar_dur_min_mnt1   4391.997242\n",
       "25                         Balance_uah   4126.196804\n",
       "19                days_of_end_last_ppm   4039.148686\n",
       "71                    all_cnt_std_mnt3   3726.375955\n",
       "65                    all_cnt_std_mnt1   3670.552908\n",
       "83                    days_of_last_ppm   3305.285354\n",
       "79             data_3g_tv_cnt_std_mnt3   3252.786912\n",
       "42                content_cnt_mea_mnt3   3198.519944\n",
       "85                 sms_in_cnt_std_mnt3   3170.986304\n",
       "33                   loc_is_obl_center   3125.506023\n",
       "20    voice_mts_in_dwork_part_std_mnt1   2894.184526\n",
       "87             voice_in_td_cnt_td_mnt3   2758.515655\n",
       "76                             abon_id   2709.254749\n",
       "69                    sum_paym_6_month   2688.421319\n",
       "106           SUM_of_Duration_sec_mean   2605.969333\n",
       "27                         day_end_gba   2470.685291\n",
       "57                imei_mean_days_usage   1940.724671\n",
       "331               other_cnt_sms_in_sum   1869.646772\n",
       "84           imei_mean_long_days_usage   1863.344990\n",
       "88          voice_out_tar_dur_min_mnt3   1730.991929\n",
       "10     voice_mts_in_drest_part_mea_wk1   1664.106477\n",
       "23            conn_in_uniq_cnt_td_mnt3   1532.404640\n",
       "36    voice_mts_out_dwork_partmea_mnt3   1478.929351\n",
       "82                 sms_in_cnt_mea_mnt3   1440.122634\n",
       "24         voice_in_life_part_std_mnt3   1438.516848\n",
       "220        casual_topic_cnt_sms_in_sum   1435.241421\n",
       "109        MAX_of_day_cnt_top_apps_sum   1380.896495\n",
       "96   SUM_of_Duration_sec_susp_app_mean   1343.170295\n",
       "75                ks_num_part_std_mnt3   1339.996486\n",
       "39    voice_mts_out_dwork_partstd_mnt1   1319.055703\n",
       "26                 ks_num_part_mea_wk1   1269.459663\n",
       "8      voice_in_kievstar_part_std_mnt1   1225.025560\n",
       "14                num_act_days_td_mnt3   1194.659848\n",
       "43                    cnt_paym_6_month   1154.282035\n",
       "110       MAX_of_day_cnt_top_apps_mean   1137.874535"
      ]
     },
     "execution_count": 14,
     "metadata": {},
     "output_type": "execute_result"
    }
   ],
   "source": [
    "# # XGBoost\n",
    "# booster = model.get_booster()\n",
    "# importances = booster.get_score(importance_type=\"gain\")\n",
    "# importance_df = pd.DataFrame(list(importances.items()), columns=[\"Feature\", \"Importance\"])\n",
    "\n",
    "# LightGBM\n",
    "importances = model.feature_importance(importance_type=\"gain\")\n",
    "importance_df = pd.DataFrame(list(zip(features, importances)), columns=[\"Feature\", \"Importance\"])\n",
    "\n",
    "\n",
    "# Report\n",
    "feature_importances = importance_df.sort_values(by=\"Importance\", ascending=False)\n",
    "feature_importances = feature_importances[feature_importances.Importance > 1000]\n",
    "\n",
    "feature_importances"
   ]
  },
  {
   "cell_type": "code",
   "execution_count": 15,
   "metadata": {},
   "outputs": [
    {
     "data": {
      "application/vnd.plotly.v1+json": {
       "config": {
        "plotlyServerURL": "https://plot.ly"
       },
       "data": [
        {
         "alignmentgroup": "True",
         "hovertemplate": "Importance=%{x}<br>Feature=%{y}<extra></extra>",
         "legendgroup": "",
         "marker": {
          "color": "#636efa",
          "pattern": {
           "shape": ""
          }
         },
         "name": "",
         "offsetgroup": "",
         "orientation": "h",
         "showlegend": false,
         "textposition": "auto",
         "type": "bar",
         "x": [
          70274.58424663544,
          68472.15218782425,
          35108.46762943268,
          24816.15931224823,
          19173.35827755928,
          12554.328125,
          11774.050360679626,
          6010.006061077118,
          5474.799873590469,
          5463.1303627491,
          4627.769560337067,
          4391.997241973877,
          4126.196803569794,
          4039.1486864089966,
          3726.3759548664093,
          3670.552907705307,
          3305.285353899002,
          3252.7869119644165,
          3198.5199444293976,
          3170.986303806305,
          3125.5060229301453,
          2894.1845259666443,
          2758.515655040741,
          2709.25474858284,
          2688.421319246292,
          2605.9693331718445,
          2470.685291290283,
          1940.7246713638306,
          1869.6467723846436,
          1863.3449897766113,
          1730.991928577423,
          1664.1064774990082,
          1532.4046399593353,
          1478.9293506145477,
          1440.1226336956024,
          1438.5168478488922,
          1435.2414212226868,
          1380.896495103836,
          1343.1702954769135,
          1339.9964859485626,
          1319.055703163147,
          1269.4596633911133,
          1225.0255596637726,
          1194.6598477363586,
          1154.2820348739624,
          1137.8745346069336
         ],
         "xaxis": "x",
         "y": [
          "num_act_days_min_mnt3",
          "device_days_usage",
          "num_act_days_mea_mnt1",
          "num_act_days_min_mnt1",
          "loc_market_share",
          "device_brand_other",
          "num_act_days_mea_mnt3",
          "num_act_days_std_mnt3",
          "voice_mts_in_dwork_part_mea_mnt3",
          "lt",
          "device_brand_nan",
          "voice_in_tar_dur_min_mnt1",
          "Balance_uah",
          "days_of_end_last_ppm",
          "all_cnt_std_mnt3",
          "all_cnt_std_mnt1",
          "days_of_last_ppm",
          "data_3g_tv_cnt_std_mnt3",
          "content_cnt_mea_mnt3",
          "sms_in_cnt_std_mnt3",
          "loc_is_obl_center",
          "voice_mts_in_dwork_part_std_mnt1",
          "voice_in_td_cnt_td_mnt3",
          "abon_id",
          "sum_paym_6_month",
          "SUM_of_Duration_sec_mean",
          "day_end_gba",
          "imei_mean_days_usage",
          "other_cnt_sms_in_sum",
          "imei_mean_long_days_usage",
          "voice_out_tar_dur_min_mnt3",
          "voice_mts_in_drest_part_mea_wk1",
          "conn_in_uniq_cnt_td_mnt3",
          "voice_mts_out_dwork_partmea_mnt3",
          "sms_in_cnt_mea_mnt3",
          "voice_in_life_part_std_mnt3",
          "casual_topic_cnt_sms_in_sum",
          "MAX_of_day_cnt_top_apps_sum",
          "SUM_of_Duration_sec_susp_app_mean",
          "ks_num_part_std_mnt3",
          "voice_mts_out_dwork_partstd_mnt1",
          "ks_num_part_mea_wk1",
          "voice_in_kievstar_part_std_mnt1",
          "num_act_days_td_mnt3",
          "cnt_paym_6_month",
          "MAX_of_day_cnt_top_apps_mean"
         ],
         "yaxis": "y"
        }
       ],
       "layout": {
        "barmode": "relative",
        "height": 1200,
        "legend": {
         "tracegroupgap": 0
        },
        "template": {
         "data": {
          "bar": [
           {
            "error_x": {
             "color": "#2a3f5f"
            },
            "error_y": {
             "color": "#2a3f5f"
            },
            "marker": {
             "line": {
              "color": "#E5ECF6",
              "width": 0.5
             },
             "pattern": {
              "fillmode": "overlay",
              "size": 10,
              "solidity": 0.2
             }
            },
            "type": "bar"
           }
          ],
          "barpolar": [
           {
            "marker": {
             "line": {
              "color": "#E5ECF6",
              "width": 0.5
             },
             "pattern": {
              "fillmode": "overlay",
              "size": 10,
              "solidity": 0.2
             }
            },
            "type": "barpolar"
           }
          ],
          "carpet": [
           {
            "aaxis": {
             "endlinecolor": "#2a3f5f",
             "gridcolor": "white",
             "linecolor": "white",
             "minorgridcolor": "white",
             "startlinecolor": "#2a3f5f"
            },
            "baxis": {
             "endlinecolor": "#2a3f5f",
             "gridcolor": "white",
             "linecolor": "white",
             "minorgridcolor": "white",
             "startlinecolor": "#2a3f5f"
            },
            "type": "carpet"
           }
          ],
          "choropleth": [
           {
            "colorbar": {
             "outlinewidth": 0,
             "ticks": ""
            },
            "type": "choropleth"
           }
          ],
          "contour": [
           {
            "colorbar": {
             "outlinewidth": 0,
             "ticks": ""
            },
            "colorscale": [
             [
              0,
              "#0d0887"
             ],
             [
              0.1111111111111111,
              "#46039f"
             ],
             [
              0.2222222222222222,
              "#7201a8"
             ],
             [
              0.3333333333333333,
              "#9c179e"
             ],
             [
              0.4444444444444444,
              "#bd3786"
             ],
             [
              0.5555555555555556,
              "#d8576b"
             ],
             [
              0.6666666666666666,
              "#ed7953"
             ],
             [
              0.7777777777777778,
              "#fb9f3a"
             ],
             [
              0.8888888888888888,
              "#fdca26"
             ],
             [
              1,
              "#f0f921"
             ]
            ],
            "type": "contour"
           }
          ],
          "contourcarpet": [
           {
            "colorbar": {
             "outlinewidth": 0,
             "ticks": ""
            },
            "type": "contourcarpet"
           }
          ],
          "heatmap": [
           {
            "colorbar": {
             "outlinewidth": 0,
             "ticks": ""
            },
            "colorscale": [
             [
              0,
              "#0d0887"
             ],
             [
              0.1111111111111111,
              "#46039f"
             ],
             [
              0.2222222222222222,
              "#7201a8"
             ],
             [
              0.3333333333333333,
              "#9c179e"
             ],
             [
              0.4444444444444444,
              "#bd3786"
             ],
             [
              0.5555555555555556,
              "#d8576b"
             ],
             [
              0.6666666666666666,
              "#ed7953"
             ],
             [
              0.7777777777777778,
              "#fb9f3a"
             ],
             [
              0.8888888888888888,
              "#fdca26"
             ],
             [
              1,
              "#f0f921"
             ]
            ],
            "type": "heatmap"
           }
          ],
          "heatmapgl": [
           {
            "colorbar": {
             "outlinewidth": 0,
             "ticks": ""
            },
            "colorscale": [
             [
              0,
              "#0d0887"
             ],
             [
              0.1111111111111111,
              "#46039f"
             ],
             [
              0.2222222222222222,
              "#7201a8"
             ],
             [
              0.3333333333333333,
              "#9c179e"
             ],
             [
              0.4444444444444444,
              "#bd3786"
             ],
             [
              0.5555555555555556,
              "#d8576b"
             ],
             [
              0.6666666666666666,
              "#ed7953"
             ],
             [
              0.7777777777777778,
              "#fb9f3a"
             ],
             [
              0.8888888888888888,
              "#fdca26"
             ],
             [
              1,
              "#f0f921"
             ]
            ],
            "type": "heatmapgl"
           }
          ],
          "histogram": [
           {
            "marker": {
             "pattern": {
              "fillmode": "overlay",
              "size": 10,
              "solidity": 0.2
             }
            },
            "type": "histogram"
           }
          ],
          "histogram2d": [
           {
            "colorbar": {
             "outlinewidth": 0,
             "ticks": ""
            },
            "colorscale": [
             [
              0,
              "#0d0887"
             ],
             [
              0.1111111111111111,
              "#46039f"
             ],
             [
              0.2222222222222222,
              "#7201a8"
             ],
             [
              0.3333333333333333,
              "#9c179e"
             ],
             [
              0.4444444444444444,
              "#bd3786"
             ],
             [
              0.5555555555555556,
              "#d8576b"
             ],
             [
              0.6666666666666666,
              "#ed7953"
             ],
             [
              0.7777777777777778,
              "#fb9f3a"
             ],
             [
              0.8888888888888888,
              "#fdca26"
             ],
             [
              1,
              "#f0f921"
             ]
            ],
            "type": "histogram2d"
           }
          ],
          "histogram2dcontour": [
           {
            "colorbar": {
             "outlinewidth": 0,
             "ticks": ""
            },
            "colorscale": [
             [
              0,
              "#0d0887"
             ],
             [
              0.1111111111111111,
              "#46039f"
             ],
             [
              0.2222222222222222,
              "#7201a8"
             ],
             [
              0.3333333333333333,
              "#9c179e"
             ],
             [
              0.4444444444444444,
              "#bd3786"
             ],
             [
              0.5555555555555556,
              "#d8576b"
             ],
             [
              0.6666666666666666,
              "#ed7953"
             ],
             [
              0.7777777777777778,
              "#fb9f3a"
             ],
             [
              0.8888888888888888,
              "#fdca26"
             ],
             [
              1,
              "#f0f921"
             ]
            ],
            "type": "histogram2dcontour"
           }
          ],
          "mesh3d": [
           {
            "colorbar": {
             "outlinewidth": 0,
             "ticks": ""
            },
            "type": "mesh3d"
           }
          ],
          "parcoords": [
           {
            "line": {
             "colorbar": {
              "outlinewidth": 0,
              "ticks": ""
             }
            },
            "type": "parcoords"
           }
          ],
          "pie": [
           {
            "automargin": true,
            "type": "pie"
           }
          ],
          "scatter": [
           {
            "fillpattern": {
             "fillmode": "overlay",
             "size": 10,
             "solidity": 0.2
            },
            "type": "scatter"
           }
          ],
          "scatter3d": [
           {
            "line": {
             "colorbar": {
              "outlinewidth": 0,
              "ticks": ""
             }
            },
            "marker": {
             "colorbar": {
              "outlinewidth": 0,
              "ticks": ""
             }
            },
            "type": "scatter3d"
           }
          ],
          "scattercarpet": [
           {
            "marker": {
             "colorbar": {
              "outlinewidth": 0,
              "ticks": ""
             }
            },
            "type": "scattercarpet"
           }
          ],
          "scattergeo": [
           {
            "marker": {
             "colorbar": {
              "outlinewidth": 0,
              "ticks": ""
             }
            },
            "type": "scattergeo"
           }
          ],
          "scattergl": [
           {
            "marker": {
             "colorbar": {
              "outlinewidth": 0,
              "ticks": ""
             }
            },
            "type": "scattergl"
           }
          ],
          "scattermapbox": [
           {
            "marker": {
             "colorbar": {
              "outlinewidth": 0,
              "ticks": ""
             }
            },
            "type": "scattermapbox"
           }
          ],
          "scatterpolar": [
           {
            "marker": {
             "colorbar": {
              "outlinewidth": 0,
              "ticks": ""
             }
            },
            "type": "scatterpolar"
           }
          ],
          "scatterpolargl": [
           {
            "marker": {
             "colorbar": {
              "outlinewidth": 0,
              "ticks": ""
             }
            },
            "type": "scatterpolargl"
           }
          ],
          "scatterternary": [
           {
            "marker": {
             "colorbar": {
              "outlinewidth": 0,
              "ticks": ""
             }
            },
            "type": "scatterternary"
           }
          ],
          "surface": [
           {
            "colorbar": {
             "outlinewidth": 0,
             "ticks": ""
            },
            "colorscale": [
             [
              0,
              "#0d0887"
             ],
             [
              0.1111111111111111,
              "#46039f"
             ],
             [
              0.2222222222222222,
              "#7201a8"
             ],
             [
              0.3333333333333333,
              "#9c179e"
             ],
             [
              0.4444444444444444,
              "#bd3786"
             ],
             [
              0.5555555555555556,
              "#d8576b"
             ],
             [
              0.6666666666666666,
              "#ed7953"
             ],
             [
              0.7777777777777778,
              "#fb9f3a"
             ],
             [
              0.8888888888888888,
              "#fdca26"
             ],
             [
              1,
              "#f0f921"
             ]
            ],
            "type": "surface"
           }
          ],
          "table": [
           {
            "cells": {
             "fill": {
              "color": "#EBF0F8"
             },
             "line": {
              "color": "white"
             }
            },
            "header": {
             "fill": {
              "color": "#C8D4E3"
             },
             "line": {
              "color": "white"
             }
            },
            "type": "table"
           }
          ]
         },
         "layout": {
          "annotationdefaults": {
           "arrowcolor": "#2a3f5f",
           "arrowhead": 0,
           "arrowwidth": 1
          },
          "autotypenumbers": "strict",
          "coloraxis": {
           "colorbar": {
            "outlinewidth": 0,
            "ticks": ""
           }
          },
          "colorscale": {
           "diverging": [
            [
             0,
             "#8e0152"
            ],
            [
             0.1,
             "#c51b7d"
            ],
            [
             0.2,
             "#de77ae"
            ],
            [
             0.3,
             "#f1b6da"
            ],
            [
             0.4,
             "#fde0ef"
            ],
            [
             0.5,
             "#f7f7f7"
            ],
            [
             0.6,
             "#e6f5d0"
            ],
            [
             0.7,
             "#b8e186"
            ],
            [
             0.8,
             "#7fbc41"
            ],
            [
             0.9,
             "#4d9221"
            ],
            [
             1,
             "#276419"
            ]
           ],
           "sequential": [
            [
             0,
             "#0d0887"
            ],
            [
             0.1111111111111111,
             "#46039f"
            ],
            [
             0.2222222222222222,
             "#7201a8"
            ],
            [
             0.3333333333333333,
             "#9c179e"
            ],
            [
             0.4444444444444444,
             "#bd3786"
            ],
            [
             0.5555555555555556,
             "#d8576b"
            ],
            [
             0.6666666666666666,
             "#ed7953"
            ],
            [
             0.7777777777777778,
             "#fb9f3a"
            ],
            [
             0.8888888888888888,
             "#fdca26"
            ],
            [
             1,
             "#f0f921"
            ]
           ],
           "sequentialminus": [
            [
             0,
             "#0d0887"
            ],
            [
             0.1111111111111111,
             "#46039f"
            ],
            [
             0.2222222222222222,
             "#7201a8"
            ],
            [
             0.3333333333333333,
             "#9c179e"
            ],
            [
             0.4444444444444444,
             "#bd3786"
            ],
            [
             0.5555555555555556,
             "#d8576b"
            ],
            [
             0.6666666666666666,
             "#ed7953"
            ],
            [
             0.7777777777777778,
             "#fb9f3a"
            ],
            [
             0.8888888888888888,
             "#fdca26"
            ],
            [
             1,
             "#f0f921"
            ]
           ]
          },
          "colorway": [
           "#636efa",
           "#EF553B",
           "#00cc96",
           "#ab63fa",
           "#FFA15A",
           "#19d3f3",
           "#FF6692",
           "#B6E880",
           "#FF97FF",
           "#FECB52"
          ],
          "font": {
           "color": "#2a3f5f"
          },
          "geo": {
           "bgcolor": "white",
           "lakecolor": "white",
           "landcolor": "#E5ECF6",
           "showlakes": true,
           "showland": true,
           "subunitcolor": "white"
          },
          "hoverlabel": {
           "align": "left"
          },
          "hovermode": "closest",
          "mapbox": {
           "style": "light"
          },
          "paper_bgcolor": "white",
          "plot_bgcolor": "#E5ECF6",
          "polar": {
           "angularaxis": {
            "gridcolor": "white",
            "linecolor": "white",
            "ticks": ""
           },
           "bgcolor": "#E5ECF6",
           "radialaxis": {
            "gridcolor": "white",
            "linecolor": "white",
            "ticks": ""
           }
          },
          "scene": {
           "xaxis": {
            "backgroundcolor": "#E5ECF6",
            "gridcolor": "white",
            "gridwidth": 2,
            "linecolor": "white",
            "showbackground": true,
            "ticks": "",
            "zerolinecolor": "white"
           },
           "yaxis": {
            "backgroundcolor": "#E5ECF6",
            "gridcolor": "white",
            "gridwidth": 2,
            "linecolor": "white",
            "showbackground": true,
            "ticks": "",
            "zerolinecolor": "white"
           },
           "zaxis": {
            "backgroundcolor": "#E5ECF6",
            "gridcolor": "white",
            "gridwidth": 2,
            "linecolor": "white",
            "showbackground": true,
            "ticks": "",
            "zerolinecolor": "white"
           }
          },
          "shapedefaults": {
           "line": {
            "color": "#2a3f5f"
           }
          },
          "ternary": {
           "aaxis": {
            "gridcolor": "white",
            "linecolor": "white",
            "ticks": ""
           },
           "baxis": {
            "gridcolor": "white",
            "linecolor": "white",
            "ticks": ""
           },
           "bgcolor": "#E5ECF6",
           "caxis": {
            "gridcolor": "white",
            "linecolor": "white",
            "ticks": ""
           }
          },
          "title": {
           "x": 0.05
          },
          "xaxis": {
           "automargin": true,
           "gridcolor": "white",
           "linecolor": "white",
           "ticks": "",
           "title": {
            "standoff": 15
           },
           "zerolinecolor": "white",
           "zerolinewidth": 2
          },
          "yaxis": {
           "automargin": true,
           "gridcolor": "white",
           "linecolor": "white",
           "ticks": "",
           "title": {
            "standoff": 15
           },
           "zerolinecolor": "white",
           "zerolinewidth": 2
          }
         }
        },
        "title": {
         "text": "Feature Importances"
        },
        "width": 800,
        "xaxis": {
         "anchor": "y",
         "domain": [
          0,
          1
         ],
         "title": {
          "text": "Importance"
         }
        },
        "yaxis": {
         "anchor": "x",
         "categoryorder": "total ascending",
         "domain": [
          0,
          1
         ],
         "title": {
          "text": "Feature"
         }
        }
       }
      }
     },
     "metadata": {},
     "output_type": "display_data"
    }
   ],
   "source": [
    "import plotly.express as px\n",
    "\n",
    "fig = px.bar(feature_importances[:50], x=\"Importance\", y=\"Feature\", title=\"Feature Importances\")\n",
    "fig.update_layout(yaxis={\"categoryorder\": \"total ascending\"}, width=800, height=1200)\n",
    "fig.show()"
   ]
  },
  {
   "cell_type": "code",
   "execution_count": 16,
   "metadata": {},
   "outputs": [],
   "source": [
    "explainer = shap.TreeExplainer(model)\n",
    "shap_values = explainer(train_data_x)"
   ]
  },
  {
   "cell_type": "code",
   "execution_count": 17,
   "metadata": {},
   "outputs": [
    {
     "data": {
      "text/plain": [
       "['num_act_days_min_mnt3',\n",
       " 'device_days_usage',\n",
       " 'num_act_days_min_mnt1',\n",
       " 'voice_out_tar_dur_min_mnt3',\n",
       " 'lt',\n",
       " 'loc_market_share',\n",
       " 'days_of_end_last_ppm',\n",
       " 'voice_mts_in_dwork_part_mea_mnt3',\n",
       " 'voice_in_tar_dur_min_mnt1',\n",
       " 'day_end_gba',\n",
       " 'data_3g_tv_cnt_std_mnt3',\n",
       " 'Balance_uah',\n",
       " 'all_cnt_std_mnt1',\n",
       " 'sms_in_cnt_std_mnt3',\n",
       " 'num_act_days_std_mnt3',\n",
       " 'days_of_last_ppm',\n",
       " 'num_act_days_mea_mnt3',\n",
       " 'voice_mts_in_drest_part_mea_wk1',\n",
       " 'num_act_days_mea_mnt1',\n",
       " 'voice_in_td_cnt_td_mnt3',\n",
       " 'abon_id',\n",
       " 'content_cnt_mea_mnt3',\n",
       " 'SUM_of_Duration_sec_susp_app_mean',\n",
       " 'SUM_of_Duration_sec_mean',\n",
       " 'imei_mean_days_usage',\n",
       " 'voice_in_kievstar_part_std_mnt1',\n",
       " 'sum_paym_6_month',\n",
       " 'ks_num_part_mea_wk1',\n",
       " 'device_brand_other',\n",
       " 'all_cnt_std_mnt3',\n",
       " 'imei_mean_long_days_usage',\n",
       " 'MAX_of_day_cnt_top_apps_mean']"
      ]
     },
     "execution_count": 17,
     "metadata": {},
     "output_type": "execute_result"
    }
   ],
   "source": [
    "shap_importance = pd.DataFrame(\n",
    "    list(zip(train_data_x.columns, np.abs(shap_values.values).mean(axis=0))), columns=[\"feature\", \"importance\"]\n",
    ").sort_values(by=\"importance\", ascending=False)\n",
    "\n",
    "shap_importance[shap_importance.importance > 0.03].feature.to_list()"
   ]
  },
  {
   "cell_type": "code",
   "execution_count": 18,
   "metadata": {},
   "outputs": [],
   "source": [
    "shap.summary_plot(shap_values, train_data_x, max_display=150, auto_size_plot=True)"
   ]
  },
  {
   "cell_type": "code",
   "execution_count": 10,
   "metadata": {},
   "outputs": [
    {
     "ename": "",
     "evalue": "",
     "output_type": "error",
     "traceback": [
      "\u001b[1;31mThe Kernel crashed while executing code in the current cell or a previous cell. \n",
      "\u001b[1;31mPlease review the code in the cell(s) to identify a possible cause of the failure. \n",
      "\u001b[1;31mClick <a href='https://aka.ms/vscodeJupyterKernelCrash'>here</a> for more info. \n",
      "\u001b[1;31mView Jupyter <a href='command:jupyter.viewOutput'>log</a> for further details."
     ]
    }
   ],
   "source": [
    "# Обчислення кореляційної матриці\n",
    "corr_matrix = train_data_x.corr()"
   ]
  },
  {
   "cell_type": "code",
   "execution_count": 8,
   "metadata": {},
   "outputs": [],
   "source": [
    "# # Створення теплової карти за допомогою Plotly\n",
    "# fig = px.imshow(\n",
    "#     corr_matrix,\n",
    "#     labels=dict(color=\"Correlation\"),\n",
    "#     x=train_data_x.columns,\n",
    "#     y=train_data_x.columns,\n",
    "#     title=\"Correlation Heatmap of 800 Features\",\n",
    "# )\n",
    "\n",
    "# fig.update_layout(width=1000, height=1000)\n",
    "\n",
    "# # Показати графік\n",
    "# fig.show()"
   ]
  },
  {
   "cell_type": "code",
   "execution_count": 9,
   "metadata": {},
   "outputs": [],
   "source": [
    "# # Clean highly correlated features\n",
    "\n",
    "# threshold = 0.95\n",
    "# top_importances = feature_importances[:50]\n",
    "\n",
    "# upper = corr_matrix.where(np.triu(np.ones(corr_matrix.shape), k=1).astype(bool))\n",
    "\n",
    "# to_drop = [\n",
    "#     column\n",
    "#     for column in upper.columns\n",
    "#     if any(upper[column] > threshold) and not any(top_importances[\"Feature\"].str.contains(column))\n",
    "# ]\n",
    "\n",
    "# print(top_importances[top_importances[\"Feature\"].isin(to_drop)])\n",
    "\n",
    "# df_reduced = train_data_x.drop(columns=to_drop)"
   ]
  },
  {
   "cell_type": "code",
   "execution_count": 10,
   "metadata": {},
   "outputs": [],
   "source": [
    "from sklearn.feature_selection import SelectFromModel\n",
    "\n",
    "selector = SelectFromModel(model, threshold=\"mean\")\n",
    "selector.fit(train_data_x, train_data_y)\n",
    "\n",
    "X_selected = selector.transform(train_data_x)"
   ]
  },
  {
   "cell_type": "code",
   "execution_count": 11,
   "metadata": {},
   "outputs": [
    {
     "data": {
      "text/plain": [
       "array(['all_cnt_min_mnt3', 'days_of_end_last_ppm', 'device_days_usage',\n",
       "       'loc_is_obl_center', 'loc_market_share', 'num_act_days_mea_mnt3',\n",
       "       'num_act_days_min_mnt1', 'num_act_days_min_mnt3',\n",
       "       'num_act_days_std_mnt3', 'voice_in_mts_avg_dur_min_mnt3',\n",
       "       'voice_in_tar_dur_max_mnt1', 'voice_in_tar_dur_mea_wk1',\n",
       "       'voice_in_tar_dur_min_mnt1', 'voice_in_td_cnt_mea_mnt3',\n",
       "       'voice_in_td_cnt_mea_wk1', 'voice_mts_in_dwork_part_max_mnt1'],\n",
       "      dtype=object)"
      ]
     },
     "execution_count": 11,
     "metadata": {},
     "output_type": "execute_result"
    }
   ],
   "source": [
    "selected_features_mask = selector.get_support()\n",
    "\n",
    "# Отримання списку вибраних ознак\n",
    "selected_features = train_data_x.columns[selected_features_mask]\n",
    "\n",
    "selected_features.to_numpy()"
   ]
  },
  {
   "cell_type": "code",
   "execution_count": 12,
   "metadata": {},
   "outputs": [
    {
     "data": {
      "text/plain": [
       "{'Balance_uah',\n",
       " 'MV_ARPU',\n",
       " 'MV_Traf_2G_d_Mb',\n",
       " 'MV_Traf_3G_d_Mb',\n",
       " 'MV_Traf_4G_d_Mb',\n",
       " 'MV_Traf_ACCA_out_v_Min',\n",
       " 'MV_Traf_Cont_inc_s_Cnt',\n",
       " 'MV_Traf_Cont_out_v_Min',\n",
       " 'MV_Traf_inc_s_Cnt',\n",
       " 'MV_Traf_innet_inc_v_Min',\n",
       " 'MV_Traf_innet_out_v_Min',\n",
       " 'MV_Traf_omo_inc_v_Min',\n",
       " 'MV_dou',\n",
       " 'MV_dou_2G_d',\n",
       " 'MV_dou_4G_d',\n",
       " 'MV_dou_data',\n",
       " 'MV_dou_innet_out_v',\n",
       " 'MV_dou_net',\n",
       " 'MV_net_total',\n",
       " 'TM_ID',\n",
       " 'abon_id',\n",
       " 'accum_mts_dur_max_mnt3',\n",
       " 'accum_mts_dur_mea_mnt3',\n",
       " 'accum_mts_dur_std_mnt3',\n",
       " 'accum_mts_dur_td_mnt3',\n",
       " 'accum_oth_dur_td_mnt3',\n",
       " 'all_clc_max_mnt3',\n",
       " 'all_clc_mea_mnt1',\n",
       " 'all_clc_mea_mnt3',\n",
       " 'all_clc_std_mnt3',\n",
       " 'all_clc_td_mnt3',\n",
       " 'all_cnt_max_mnt1',\n",
       " 'all_cnt_max_mnt3',\n",
       " 'all_cnt_mea_mnt1',\n",
       " 'all_cnt_mea_mnt3',\n",
       " 'all_cnt_mea_wk1',\n",
       " 'all_cnt_min_mnt1',\n",
       " 'all_cnt_min_mnt3',\n",
       " 'all_cnt_std_mnt1',\n",
       " 'all_cnt_std_mnt3',\n",
       " 'all_cnt_td_mnt3',\n",
       " 'all_home_clc_max_mnt3',\n",
       " 'all_home_clc_mea_mnt3',\n",
       " 'all_home_clc_std_mnt3',\n",
       " 'all_home_clc_td_mnt3',\n",
       " 'avg_paym_6_month',\n",
       " 'bs_ovrl_OMO_CNT_M3',\n",
       " 'clc_no_vas_roam_max_mnt3',\n",
       " 'clc_no_vas_roam_mea_mnt1',\n",
       " 'clc_no_vas_roam_mea_mnt3',\n",
       " 'clc_no_vas_roam_std_mnt3',\n",
       " 'clc_no_vas_roam_td_mnt3',\n",
       " 'cnt_paym_6_month',\n",
       " 'com_num_part_mea_mnt1',\n",
       " 'com_num_part_mea_mnt3',\n",
       " 'com_num_part_mea_wk1',\n",
       " 'com_num_part_std_mnt1',\n",
       " 'com_num_part_std_mnt3',\n",
       " 'com_num_part_td_mnt3',\n",
       " 'conn_com_part_mea_mnt1',\n",
       " 'conn_com_part_mea_mnt3',\n",
       " 'conn_com_part_mea_wk1',\n",
       " 'conn_com_part_std_mnt1',\n",
       " 'conn_com_part_std_mnt3',\n",
       " 'conn_com_part_td_mnt3',\n",
       " 'conn_in_uniq_cnt_max_mnt3',\n",
       " 'conn_in_uniq_cnt_mea_mnt3',\n",
       " 'conn_in_uniq_cnt_std_mnt1',\n",
       " 'conn_in_uniq_cnt_std_mnt3',\n",
       " 'conn_in_uniq_cnt_td_mnt3',\n",
       " 'conn_out_uniq_cnt_mea_mnt1',\n",
       " 'conn_out_uniq_cnt_mea_mnt3',\n",
       " 'conn_out_uniq_cnt_std_mnt1',\n",
       " 'conn_out_uniq_cnt_std_mnt3',\n",
       " 'conn_out_uniq_cnt_td_mnt3',\n",
       " 'content_cnt_max_mnt1',\n",
       " 'content_cnt_max_mnt3',\n",
       " 'content_cnt_mea_mnt1',\n",
       " 'content_cnt_mea_mnt3',\n",
       " 'content_cnt_mea_wk1',\n",
       " 'content_cnt_min_mnt1',\n",
       " 'content_cnt_min_mnt3',\n",
       " 'content_cnt_std_mnt1',\n",
       " 'content_cnt_std_mnt3',\n",
       " 'content_cnt_td_mnt3',\n",
       " 'count_day_for_last_paym',\n",
       " 'data_3g_dou_std_mnt1',\n",
       " 'data_3g_dou_std_mnt3',\n",
       " 'data_3g_dou_td_mnt3',\n",
       " 'data_3g_tar_vol_max_mnt3',\n",
       " 'data_3g_tar_vol_mea_mnt3',\n",
       " 'data_3g_tar_vol_mea_wk1',\n",
       " 'data_3g_tar_vol_std_mnt1',\n",
       " 'data_3g_tar_vol_std_mnt3',\n",
       " 'data_3g_tar_vol_td_mnt3',\n",
       " 'data_3g_tv_cnt_max_mnt3',\n",
       " 'data_3g_tv_cnt_mea_mnt1',\n",
       " 'data_3g_tv_cnt_mea_mnt3',\n",
       " 'data_3g_tv_cnt_std_mnt1',\n",
       " 'data_3g_tv_cnt_std_mnt3',\n",
       " 'data_3g_tv_cnt_td_mnt3',\n",
       " 'day_end_gba',\n",
       " 'days_of_end_last_ppm',\n",
       " 'days_of_last_ppm',\n",
       " 'device_android_version',\n",
       " 'device_days_usage',\n",
       " 'device_height_mm',\n",
       " 'device_price',\n",
       " 'device_width_mm',\n",
       " 'gprs_tar_vol_max_mnt3',\n",
       " 'gprs_tar_vol_mea_mnt1',\n",
       " 'gprs_tar_vol_mea_mnt3',\n",
       " 'gprs_tar_vol_mea_wk1',\n",
       " 'gprs_tar_vol_std_mnt1',\n",
       " 'gprs_tar_vol_std_mnt3',\n",
       " 'gprs_tar_vol_td_mnt3',\n",
       " 'imei_max_price',\n",
       " 'imei_mean_day_announced',\n",
       " 'imei_mean_days_usage',\n",
       " 'imei_mean_long_days_usage',\n",
       " 'imei_mean_price',\n",
       " 'ks_num_part_max_mnt3',\n",
       " 'ks_num_part_mea_mnt1',\n",
       " 'ks_num_part_mea_mnt3',\n",
       " 'ks_num_part_mea_wk1',\n",
       " 'ks_num_part_std_mnt1',\n",
       " 'ks_num_part_std_mnt3',\n",
       " 'ks_num_part_td_mnt3',\n",
       " 'last_paym',\n",
       " 'loc_cnt_events',\n",
       " 'loc_is_obl_center',\n",
       " 'loc_market_share',\n",
       " 'lt',\n",
       " 'max_paym_6_month',\n",
       " 'min_paym_6_month',\n",
       " 'myvf_day_usage',\n",
       " 'non_accum_internet_vol_max_mnt1',\n",
       " 'non_accum_internet_vol_max_mnt3',\n",
       " 'non_accum_internet_vol_mea_mnt1',\n",
       " 'non_accum_internet_vol_mea_mnt3',\n",
       " 'non_accum_internet_vol_mea_wk1',\n",
       " 'non_accum_internet_vol_min_mnt1',\n",
       " 'non_accum_internet_vol_min_mnt3',\n",
       " 'non_accum_internet_vol_std_mnt1',\n",
       " 'non_accum_internet_vol_std_mnt3',\n",
       " 'non_accum_internet_vol_td_mnt3',\n",
       " 'num_act_days_mea_mnt1',\n",
       " 'num_act_days_mea_mnt3',\n",
       " 'num_act_days_min_mnt1',\n",
       " 'num_act_days_min_mnt3',\n",
       " 'num_act_days_std_mnt1',\n",
       " 'num_act_days_std_mnt3',\n",
       " 'num_act_days_td_mnt3',\n",
       " 'pay_avg_mea_mnt3',\n",
       " 'pay_avg_std_mnt3',\n",
       " 'pay_avg_td_mnt3',\n",
       " 'pay_max_std_mnt3',\n",
       " 'pay_max_td_mnt3',\n",
       " 'pay_sum_mea_mnt3',\n",
       " 'pay_sum_td_mnt3',\n",
       " 'sms_in_cnt_max_mnt3',\n",
       " 'sms_in_cnt_mea_mnt1',\n",
       " 'sms_in_cnt_mea_mnt3',\n",
       " 'sms_in_cnt_std_mnt1',\n",
       " 'sms_in_cnt_std_mnt3',\n",
       " 'sms_in_cnt_td_mnt3',\n",
       " 'std_paym_6_month',\n",
       " 'sum_paym_6_month',\n",
       " 'vas_clc_mea_mnt3',\n",
       " 'vas_clc_std_mnt3',\n",
       " 'vas_clc_td_mnt3',\n",
       " 'voice_in_cmpttrs_avg_durmax_mnt1',\n",
       " 'voice_in_cmpttrs_avg_durmax_mnt3',\n",
       " 'voice_in_cmpttrs_avg_durmea_mnt1',\n",
       " 'voice_in_cmpttrs_avg_durmea_mnt3',\n",
       " 'voice_in_cmpttrs_avg_durmea_wk1',\n",
       " 'voice_in_cmpttrs_avg_durstd_mnt1',\n",
       " 'voice_in_cmpttrs_avg_durstd_mnt3',\n",
       " 'voice_in_cmpttrs_avg_durtd_mnt3',\n",
       " 'voice_in_cmpttrs_td_cnt_std_mnt1',\n",
       " 'voice_in_cmpttrs_td_cnt_std_mnt3',\n",
       " 'voice_in_cmpttrs_td_cnt_td_mnt3',\n",
       " 'voice_in_fix_tar_dur_max_mnt3',\n",
       " 'voice_in_fix_tar_dur_mea_mnt3',\n",
       " 'voice_in_fix_tar_dur_td_mnt3',\n",
       " 'voice_in_kievstar_part_max_mnt1',\n",
       " 'voice_in_kievstar_part_mea_mnt1',\n",
       " 'voice_in_kievstar_part_mea_mnt3',\n",
       " 'voice_in_kievstar_part_mea_wk1',\n",
       " 'voice_in_kievstar_part_std_mnt1',\n",
       " 'voice_in_kievstar_part_std_mnt3',\n",
       " 'voice_in_kievstar_part_td_mnt3',\n",
       " 'voice_in_life_part_max_mnt3',\n",
       " 'voice_in_life_part_mea_mnt1',\n",
       " 'voice_in_life_part_mea_mnt3',\n",
       " 'voice_in_life_part_std_mnt1',\n",
       " 'voice_in_life_part_std_mnt3',\n",
       " 'voice_in_life_part_td_mnt3',\n",
       " 'voice_in_mts_avg_dur_max_mnt1',\n",
       " 'voice_in_mts_avg_dur_max_mnt3',\n",
       " 'voice_in_mts_avg_dur_mea_mnt1',\n",
       " 'voice_in_mts_avg_dur_mea_mnt3',\n",
       " 'voice_in_mts_avg_dur_mea_wk1',\n",
       " 'voice_in_mts_avg_dur_min_mnt1',\n",
       " 'voice_in_mts_avg_dur_min_mnt3',\n",
       " 'voice_in_mts_avg_dur_std_mnt1',\n",
       " 'voice_in_mts_avg_dur_std_mnt3',\n",
       " 'voice_in_mts_avg_dur_td_mnt3',\n",
       " 'voice_in_short_part_max_mnt3',\n",
       " 'voice_in_short_part_mea_mnt1',\n",
       " 'voice_in_short_part_mea_mnt3',\n",
       " 'voice_in_short_part_std_mnt1',\n",
       " 'voice_in_short_part_std_mnt3',\n",
       " 'voice_in_short_part_td_mnt3',\n",
       " 'voice_in_tar_dur_max_mnt1',\n",
       " 'voice_in_tar_dur_max_mnt3',\n",
       " 'voice_in_tar_dur_mea_mnt1',\n",
       " 'voice_in_tar_dur_mea_mnt3',\n",
       " 'voice_in_tar_dur_mea_wk1',\n",
       " 'voice_in_tar_dur_min_mnt1',\n",
       " 'voice_in_tar_dur_min_mnt3',\n",
       " 'voice_in_tar_dur_std_mnt1',\n",
       " 'voice_in_tar_dur_std_mnt3',\n",
       " 'voice_in_tar_dur_td_mnt3',\n",
       " 'voice_in_td_cnt_max_mnt3',\n",
       " 'voice_in_td_cnt_mea_mnt1',\n",
       " 'voice_in_td_cnt_mea_mnt3',\n",
       " 'voice_in_td_cnt_mea_wk1',\n",
       " 'voice_in_td_cnt_std_mnt1',\n",
       " 'voice_in_td_cnt_std_mnt3',\n",
       " 'voice_in_td_cnt_td_mnt3',\n",
       " 'voice_mts_in_drest_part_max_mnt1',\n",
       " 'voice_mts_in_drest_part_max_mnt3',\n",
       " 'voice_mts_in_drest_part_mea_mnt1',\n",
       " 'voice_mts_in_drest_part_mea_mnt3',\n",
       " 'voice_mts_in_drest_part_mea_wk1',\n",
       " 'voice_mts_in_drest_part_min_mnt1',\n",
       " 'voice_mts_in_drest_part_std_mnt1',\n",
       " 'voice_mts_in_drest_part_std_mnt3',\n",
       " 'voice_mts_in_drest_part_td_mnt3',\n",
       " 'voice_mts_in_dwork_part_max_mnt1',\n",
       " 'voice_mts_in_dwork_part_max_mnt3',\n",
       " 'voice_mts_in_dwork_part_mea_mnt1',\n",
       " 'voice_mts_in_dwork_part_mea_mnt3',\n",
       " 'voice_mts_in_dwork_part_mea_wk1',\n",
       " 'voice_mts_in_dwork_part_min_mnt1',\n",
       " 'voice_mts_in_dwork_part_std_mnt1',\n",
       " 'voice_mts_in_dwork_part_std_mnt3',\n",
       " 'voice_mts_in_dwork_part_td_mnt3',\n",
       " 'voice_mts_in_nrest_part_max_mnt3',\n",
       " 'voice_mts_in_nrest_part_mea_mnt1',\n",
       " 'voice_mts_in_nrest_part_mea_mnt3',\n",
       " 'voice_mts_in_nrest_part_mea_wk1',\n",
       " 'voice_mts_in_nrest_part_std_mnt1',\n",
       " 'voice_mts_in_nrest_part_std_mnt3',\n",
       " 'voice_mts_in_nrest_part_td_mnt3',\n",
       " 'voice_mts_in_nwork_part_max_mnt1',\n",
       " 'voice_mts_in_nwork_part_max_mnt3',\n",
       " 'voice_mts_in_nwork_part_mea_mnt1',\n",
       " 'voice_mts_in_nwork_part_mea_mnt3',\n",
       " 'voice_mts_in_nwork_part_mea_wk1',\n",
       " 'voice_mts_in_nwork_part_std_mnt1',\n",
       " 'voice_mts_in_nwork_part_std_mnt3',\n",
       " 'voice_mts_in_nwork_part_td_mnt3',\n",
       " 'voice_mts_out_drest_partmax_mnt1',\n",
       " 'voice_mts_out_drest_partmax_mnt3',\n",
       " 'voice_mts_out_drest_partmea_mnt1',\n",
       " 'voice_mts_out_drest_partmea_mnt3',\n",
       " 'voice_mts_out_drest_partmea_wk1',\n",
       " 'voice_mts_out_drest_partstd_mnt1',\n",
       " 'voice_mts_out_drest_partstd_mnt3',\n",
       " 'voice_mts_out_drest_parttd_mnt3',\n",
       " 'voice_mts_out_dwork_partmax_mnt1',\n",
       " 'voice_mts_out_dwork_partmea_mnt1',\n",
       " 'voice_mts_out_dwork_partmea_mnt3',\n",
       " 'voice_mts_out_dwork_partmea_wk1',\n",
       " 'voice_mts_out_dwork_partstd_mnt1',\n",
       " 'voice_mts_out_dwork_partstd_mnt3',\n",
       " 'voice_mts_out_dwork_parttd_mnt3',\n",
       " 'voice_mts_out_nrest_partmax_mnt3',\n",
       " 'voice_mts_out_nrest_partstd_mnt3',\n",
       " 'voice_mts_out_nrest_parttd_mnt3',\n",
       " 'voice_mts_out_nwork_partmax_mnt1',\n",
       " 'voice_mts_out_nwork_partmea_mnt1',\n",
       " 'voice_mts_out_nwork_partmea_mnt3',\n",
       " 'voice_mts_out_nwork_partmea_wk1',\n",
       " 'voice_mts_out_nwork_partstd_mnt3',\n",
       " 'voice_mts_out_nwork_parttd_mnt3',\n",
       " 'voice_out_cmpttrs_avg_dumax_mnt3',\n",
       " 'voice_out_cmpttrs_avg_dumea_mnt3',\n",
       " 'voice_out_cmpttrs_avg_dumea_wk1',\n",
       " 'voice_out_cmpttrs_avg_dustd_mnt1',\n",
       " 'voice_out_cmpttrs_avg_dustd_mnt3',\n",
       " 'voice_out_cmpttrs_avg_dutd_mnt3',\n",
       " 'voice_out_cmpttrs_td_cntstd_mnt1',\n",
       " 'voice_out_cmpttrs_td_cntstd_mnt3',\n",
       " 'voice_out_cmpttrs_td_cnttd_mnt3',\n",
       " 'voice_out_short_part_max_mnt3',\n",
       " 'voice_out_short_part_mea_mnt1',\n",
       " 'voice_out_short_part_mea_mnt3',\n",
       " 'voice_out_short_part_std_mnt3',\n",
       " 'voice_out_short_part_td_mnt3',\n",
       " 'voice_out_tar_dur_max_mnt3',\n",
       " 'voice_out_tar_dur_mea_mnt3',\n",
       " 'voice_out_tar_dur_std_mnt1',\n",
       " 'voice_out_tar_dur_std_mnt3',\n",
       " 'voice_out_tar_dur_td_mnt3',\n",
       " 'voice_out_td_cnt_max_mnt3',\n",
       " 'voice_out_td_cnt_mea_mnt3',\n",
       " 'voice_out_td_cnt_mea_wk1',\n",
       " 'voice_out_td_cnt_std_mnt1',\n",
       " 'voice_out_td_cnt_std_mnt3',\n",
       " 'voice_out_td_cnt_td_mnt3'}"
      ]
     },
     "execution_count": 12,
     "metadata": {},
     "output_type": "execute_result"
    },
    {
     "ename": "",
     "evalue": "",
     "output_type": "error",
     "traceback": [
      "\u001b[1;31mThe Kernel crashed while executing code in the current cell or a previous cell. \n",
      "\u001b[1;31mPlease review the code in the cell(s) to identify a possible cause of the failure. \n",
      "\u001b[1;31mClick <a href='https://aka.ms/vscodeJupyterKernelCrash'>here</a> for more info. \n",
      "\u001b[1;31mView Jupyter <a href='command:jupyter.viewOutput'>log</a> for further details."
     ]
    }
   ],
   "source": [
    "# fetch array from json file\n",
    "import json\n",
    "\n",
    "with open(\"LightGbmV1_p041_r064_089auc.json\", \"r\") as f:\n",
    "    LightGbmV1_p041_r064_089auc = json.load(f)\n",
    "\n",
    "with open(\"LightGbmV2_p069_r033_090auc_features.json\", \"r\") as f:\n",
    "    LightGbmV2_p069_r033_090auc_features = json.load(f)\n",
    "\n",
    "with open(\"XgboostV1_p070_r032_090auc.json\", \"r\") as f:\n",
    "    XgboostV1_p070_r032_090auc = json.load(f)\n",
    "\n",
    "\n",
    "new_features = set(LightGbmV1_p041_r064_089auc + LightGbmV2_p069_r033_090auc_features + XgboostV1_p070_r032_090auc)\n",
    "\n",
    "new_features"
   ]
  },
  {
   "cell_type": "code",
   "execution_count": null,
   "metadata": {},
   "outputs": [],
   "source": [
    "import warnings\n",
    "\n",
    "import numpy as np\n",
    "import pandas as pd\n",
    "import matplotlib.pyplot as plt\n",
    "import warnings\n",
    "\n",
    "\n",
    "def plot_distribution_pairs(train, test, feature, hue=\"set\", palette=None):\n",
    "    data_df = train.copy()\n",
    "    data_df[\"set\"] = \"train\"\n",
    "    data_df = pd.concat([data_df, test.copy()]).fillna(\"test\")\n",
    "    data_df.replace([np.inf, -np.inf], np.nan, inplace=True)\n",
    "\n",
    "    f, axes = plt.subplots(1, 2, figsize=(14, 6))\n",
    "    for i, s in enumerate(data_df[hue].unique()):\n",
    "        selection = data_df.loc[data_df[hue] == s, feature]\n",
    "        # Filter 'selection' to include only the central 95% of the data\n",
    "        q_025, q_975 = np.percentile(selection, [2.5, 97.5])\n",
    "        selection_filtered = selection[(selection >= q_025) & (selection <= q_975)]\n",
    "        with warnings.catch_warnings():\n",
    "            warnings.simplefilter(\"ignore\", category=FutureWarning)\n",
    "            sns.histplot(selection_filtered, color=palette[i], ax=axes[0], label=s)\n",
    "            sns.boxplot(x=hue, y=feature, data=data_df, palette=palette, ax=axes[1])\n",
    "    axes[0].set_title(f\"Paired train/test distributions of {feature}\")\n",
    "    axes[1].set_title(f\"Paired train/test boxplots of {feature}\")\n",
    "    axes[0].legend()\n",
    "    axes[1].legend()\n",
    "    plt.show()\n",
    "\n",
    "\n",
    "for feature in train.columns:\n",
    "    plot_distribution_pairs(train, test, feature, palette=color_list)"
   ]
  }
 ],
 "metadata": {
  "kernelspec": {
   "display_name": "Python 3",
   "language": "python",
   "name": "python3"
  },
  "language_info": {
   "codemirror_mode": {
    "name": "ipython",
    "version": 3
   },
   "file_extension": ".py",
   "mimetype": "text/x-python",
   "name": "python",
   "nbconvert_exporter": "python",
   "pygments_lexer": "ipython3",
   "version": "3.10.13"
  }
 },
 "nbformat": 4,
 "nbformat_minor": 2
}
