{
 "cells": [
  {
   "cell_type": "code",
   "execution_count": 4,
   "metadata": {},
   "outputs": [
    {
     "name": "stdout",
     "output_type": "stream",
     "text": [
      "The autoreload extension is already loaded. To reload it, use:\n",
      "  %reload_ext autoreload\n"
     ]
    }
   ],
   "source": [
    "%load_ext autoreload\n",
    "%autoreload 2\n",
    "\n",
    "import optuna\n",
    "import pandas as pd\n",
    "import lightgbm as lgb\n",
    "import matplotlib.pyplot as plt\n",
    "import shap\n",
    "import numpy as np\n",
    "import scipy\n",
    "import seaborn as sns\n",
    "\n",
    "from steps.prepare_data import load_processed_data, load_split_processed_data\n",
    "from utils.model import predict, load_model, predict_booster, predict_xgbm"
   ]
  },
  {
   "cell_type": "code",
   "execution_count": 5,
   "metadata": {},
   "outputs": [
    {
     "name": "stdout",
     "output_type": "stream",
     "text": [
      "-----------Train----------\n",
      "\n",
      "Metrics\n",
      "AUC: 0.98\n",
      "Classification Report:\n",
      "              precision    recall  f1-score   support\n",
      "\n",
      "           0       0.98      0.99      0.98    140413\n",
      "           1       0.76      0.64      0.70      9585\n",
      "\n",
      "    accuracy                           0.96    149998\n",
      "   macro avg       0.87      0.82      0.84    149998\n",
      "weighted avg       0.96      0.96      0.96    149998\n",
      "\n",
      "-----------Test----------\n",
      "\n",
      "Metrics\n",
      "AUC: 0.90\n",
      "Classification Report:\n",
      "              precision    recall  f1-score   support\n",
      "\n",
      "           0       0.96      0.98      0.97    140597\n",
      "           1       0.58      0.44      0.50      9403\n",
      "\n",
      "    accuracy                           0.95    150000\n",
      "   macro avg       0.77      0.71      0.74    150000\n",
      "weighted avg       0.94      0.95      0.94    150000\n",
      "\n"
     ]
    }
   ],
   "source": [
    "train_data, test_data = load_split_processed_data()\n",
    "\n",
    "model_name = \"LightGbmV2_all_features_v1_with_oversampling_1_priority_v2.pickle\"\n",
    "\n",
    "train_data_x = train_data.drop(columns=[\"target\"])\n",
    "train_data_y = train_data[\"target\"]\n",
    "\n",
    "test_data_x = test_data.drop(columns=[\"target\"])\n",
    "test_data_y = test_data[\"target\"]\n",
    "\n",
    "print(\"-----------Train----------\")\n",
    "predict_booster(model_name, train_data)\n",
    "\n",
    "print(\"-----------Test----------\")\n",
    "predict_booster(model_name, test_data)\n",
    "\n",
    "model, features = load_model(model_name)"
   ]
  },
  {
   "cell_type": "code",
   "execution_count": 8,
   "metadata": {},
   "outputs": [],
   "source": [
    "# train_data, test_data = load_split_processed_data()\n",
    "\n",
    "# model_name = \"LightGbmV2_new_total_features_fe_with_selection_p71_r34_090auc.pickle\"\n",
    "\n",
    "# train_data_x = train_data.drop(columns=[\"target\"])\n",
    "# train_data_y = train_data[\"target\"]\n",
    "\n",
    "# test_data_x = test_data.drop(columns=[\"target\"])\n",
    "# test_data_y = test_data[\"target\"]\n",
    "\n",
    "# print(\"-----------Train----------\")\n",
    "# predict_booster(model_name, train_data)\n",
    "\n",
    "# print(\"-----------Test----------\")\n",
    "# predict_booster(model_name, test_data)\n",
    "\n",
    "# model_second, features_second = load_model(model_name)"
   ]
  },
  {
   "cell_type": "code",
   "execution_count": 8,
   "metadata": {},
   "outputs": [
    {
     "data": {
      "text/plain": [
       "['num_act_days_min_mnt1',\n",
       " 'num_act_days_min_mnt3',\n",
       " 'num_act_days_mea_mnt1',\n",
       " 'num_act_days_min_total',\n",
       " 'MV_dou_net',\n",
       " 'device_days_usage',\n",
       " 'voice_mts_in_nwork_part_td_total',\n",
       " 'voice_mts_in_dwork_part_td_total',\n",
       " 'voice_in_life_part_td_total',\n",
       " 'voice_mts_in_drest_part_td_total',\n",
       " 'accum_mts_dur_max_total',\n",
       " 'num_act_days_mea_total',\n",
       " 'loc_market_share',\n",
       " 'loc_is_obl_center',\n",
       " 'num_act_days_td_mnt3',\n",
       " 'accum_mts_dur_td_total',\n",
       " 'voice_mts_in_drest_part_std_total',\n",
       " 'voice_mts_in_nrest_part_td_total',\n",
       " 'com_num_part_td_total',\n",
       " 'num_act_days_std_total',\n",
       " 'voice_in_kievstar_part_std_mnt1',\n",
       " 'num_act_days_std_mnt3',\n",
       " 'sms_in_cnt_mea_wk1',\n",
       " 'conn_in_uniq_cnt_td_total',\n",
       " 'days_of_end_last_ppm',\n",
       " 'voice_out_short_part_td_total',\n",
       " 'voice_in_short_part_td_total',\n",
       " 'num_act_days_td_total',\n",
       " 'cnt_paym_6_month',\n",
       " 'voice_in_kievstar_part_td_total',\n",
       " 'voice_mts_out_dwork_partmea_mnt3',\n",
       " 'voice_mts_in_dwork_part_std_mnt1',\n",
       " 'vodafone_services_category_act_count',\n",
       " 'voice_mts_in_drest_part_mea_wk1',\n",
       " 'conn_com_part_td_total',\n",
       " 'sms_clc_mea_total',\n",
       " 'ks_num_part_td_total',\n",
       " 'voice_mts_in_drest_part_mea_mnt3',\n",
       " 'accum_mts_dur_std_total',\n",
       " 'voice_mts_out_dwork_parttd_total',\n",
       " 'sms_out_cnt_std_total',\n",
       " 'conn_in_uniq_cnt_td_mnt3',\n",
       " 'num_act_days_max_total',\n",
       " 'conn_com_part_max_total',\n",
       " 'voice_mts_out_drest_parttd_total',\n",
       " 'voice_mts_in_nrest_part_mea_total',\n",
       " 'bank_companies_cnt_sms_in_count',\n",
       " 'com_num_part_std_total',\n",
       " 'lt',\n",
       " 'ks_num_part_std_mnt3',\n",
       " 'voice_in_life_part_mea_total',\n",
       " 'num_act_days_mea_mnt3',\n",
       " 'voice_mts_in_dwork_part_max_total',\n",
       " 'voice_in_life_part_std_mnt3',\n",
       " 'all_home_clc_td_total',\n",
       " 'voice_in_kievstar_part_std_total',\n",
       " 'content_cnt_td_total',\n",
       " 'voice_in_kievstar_part_mea_total',\n",
       " 'casual_topic_topic_act_count',\n",
       " 'vodafone_services_cnt_sms_out_count',\n",
       " 'voice_in_life_part_std_total',\n",
       " 'voice_mts_in_dwork_part_mea_mnt3',\n",
       " 'voice_mts_out_dwork_partmax_total',\n",
       " 'conn_com_part_std_total',\n",
       " 'other_cnt_sms_in_sum',\n",
       " 'voice_mts_in_drest_part_mea_total',\n",
       " 'ks_num_part_max_total',\n",
       " 'messengars_topic_topic_act_count',\n",
       " 'conn_out_uniq_cnt_td_total',\n",
       " 'sum_paym_6_month',\n",
       " 'Balance_uah',\n",
       " 'voice_in_short_part_mea_total',\n",
       " 'taxy_companies_call_cnt_out_count',\n",
       " 'accum_oth_dur_td_total',\n",
       " 'ks_num_part_mea_total',\n",
       " 'voice_in_td_cnt_td_mnt3',\n",
       " 'sms_in_cnt_td_total',\n",
       " 'gprs_tar_vol_min_total',\n",
       " 'bank_companies_cnt_sms_in_sum',\n",
       " 'sms_in_cnt_mea_mnt3',\n",
       " 'voice_mts_out_drest_partmea_total',\n",
       " 'sms_in_cnt_std_total',\n",
       " 'voice_mts_in_nrest_part_max_total',\n",
       " 'voice_mts_in_nwork_part_max_total',\n",
       " 'voice_in_td_cnt_td_total',\n",
       " 'casual_topic_call_cnt_out_count',\n",
       " 'other_call_cnt_out_count',\n",
       " 'voice_mts_in_dwork_part_min_total',\n",
       " 'voice_mts_out_dwork_partmin_total',\n",
       " 'vodafone_act_count',\n",
       " 'voice_in_life_part_max_total',\n",
       " 'com_num_part_min_total',\n",
       " 'sms_in_cnt_max_total',\n",
       " 'voice_mts_in_drest_part_min_total',\n",
       " 'conn_in_uniq_cnt_std_total',\n",
       " 'voice_mts_out_nwork_parttd_total',\n",
       " 'other_call_dur_in_count',\n",
       " 'conn_com_part_mea_total',\n",
       " 'accum_mts_dur_mea_total',\n",
       " 'days_of_last_ppm',\n",
       " 'sms_in_cnt_max_mnt3',\n",
       " 'data_3g_tv_cnt_std_mnt3',\n",
       " 'voice_mts_out_nwork_partmin_total',\n",
       " 'voice_mts_out_nwork_partmax_total',\n",
       " 'all_home_clc_mea_total',\n",
       " 'voice_in_kievstar_part_max_total',\n",
       " 'voice_in_kievstar_part_min_total',\n",
       " 'vodafone_services_category_act_share',\n",
       " 'voice_mts_in_nwork_part_std_total',\n",
       " 'casual_act_count',\n",
       " 'casual_topic_call_cnt_in_count',\n",
       " 'ks_num_part_std_total',\n",
       " 'data_3g_tv_cnt_std_total',\n",
       " 'vas_clc_td_total',\n",
       " 'voice_mts_in_dwork_part_mea_total',\n",
       " 'voice_mts_in_dwork_part_std_total',\n",
       " 'taxy_companies_cnt_sms_out_count',\n",
       " 'myvf_day_usage',\n",
       " 'day_end_gba',\n",
       " 'content_cnt_mea_mnt3',\n",
       " 'vodafone_topic_topic_act_count',\n",
       " 'num_act_days_std_diff',\n",
       " 'ks_num_part_min_total',\n",
       " 'voice_in_short_part_std_total',\n",
       " 'MV_dou_4G_d',\n",
       " 'voice_out_short_part_mea_total',\n",
       " 'accum_oth_dur_mea_total',\n",
       " 'voice_mts_in_drest_part_max_total',\n",
       " 'voice_mts_in_nwork_part_mea_total',\n",
       " 'voice_in_td_cnt_std_diff',\n",
       " 'conn_in_uniq_cnt_max_total',\n",
       " 'all_cnt_std_mnt1',\n",
       " 'all_cnt_std_total',\n",
       " 'bank_companies_cnt_sms_in_sum_share',\n",
       " 'other_cnt_sms_in_sum_share',\n",
       " 'SUM_of_Count_events_susp_app_sum',\n",
       " 'conn_in_uniq_cnt_mea_total',\n",
       " 'all_cnt_std_mnt3',\n",
       " 'casual_topic_call_dur_in_count',\n",
       " 'pay_max_max_total',\n",
       " 'vodafone_topic_cnt_sms_in_sum',\n",
       " 'conn_com_part_min_total',\n",
       " 'conn_in_uniq_cnt_mea_diff',\n",
       " 'voice_in_cmpttrs_td_cnt_td_total',\n",
       " 'voice_mts_in_nrest_part_std_total',\n",
       " 'finance_topic_topic_act_count',\n",
       " 'all_home_clc_max_total',\n",
       " 'voice_mts_out_nrest_partstd_total',\n",
       " 'ks_num_part_std_diff',\n",
       " 'vodafone_topic_call_cnt_out_count',\n",
       " 'voice_in_cmpttrs_avg_durmea_total',\n",
       " 'voice_in_td_cnt_max_total',\n",
       " 'data_3g_dou_td_total',\n",
       " 'voice_mts_out_dwork_partmea_total',\n",
       " 'clc_no_vas_roam_td_total',\n",
       " 'data_3g_dou_td_mnt3',\n",
       " 'voice_mts_out_drest_partstd_total',\n",
       " 'all_clc_td_total',\n",
       " 'vodafone_support_call_cnt_out_sum',\n",
       " 'other_cnt_sms_in_count',\n",
       " 'vodafone_services_cnt_sms_in_count',\n",
       " 'voice_in_cmpttrs_avg_durstd_total',\n",
       " 'num_act_days_mea_diff',\n",
       " 'voice_mts_out_dwork_partstd_mnt1',\n",
       " 'messengars_topic_topic_act_share',\n",
       " 'data_3g_tv_cnt_td_total',\n",
       " 'voice_mts_out_dwork_partstd_total',\n",
       " 'casual_topic_cnt_sms_in_sum',\n",
       " 'vodafone_services_cnt_sms_in_sum_share',\n",
       " 'content_cnt_min_total',\n",
       " 'sms_in_cnt_mea_total',\n",
       " 'rescue_numbers_cnt_sms_out_count',\n",
       " 'imei_mean_days_usage',\n",
       " 'non_accum_internet_vol_max_diff',\n",
       " 'non_accum_internet_vol_mea_diff',\n",
       " 'accum_oth_dur_std_total',\n",
       " 'com_num_part_max_total',\n",
       " 'data_3g_tv_cnt_max_total',\n",
       " 'clc_no_vas_roam_max_total',\n",
       " 'casual_topic_topic_act_share',\n",
       " 'pay_avg_std_total',\n",
       " 'non_accum_internet_vol_max_total',\n",
       " 'data_3g_tv_cnt_mea_total',\n",
       " 'MAX_of_day_cnt_susp_app_sum',\n",
       " 'com_num_part_mea_total',\n",
       " 'messengars_companies_category_act_count',\n",
       " 'non_accum_internet_vol_mea_total',\n",
       " 'voice_out_short_part_std_total',\n",
       " 'clc_no_vas_roam_std_total',\n",
       " 'non_accum_internet_vol_std_total',\n",
       " 'finance_topic_call_cnt_in_count',\n",
       " 'accum_oth_dur_max_total',\n",
       " 'casual_topic_cnt_sms_in_count',\n",
       " 'clc_no_vas_roam_mea_total',\n",
       " 'rescue_numbers_call_dur_out_count',\n",
       " 'voice_mts_out_nrest_partmax_total',\n",
       " 'content_cnt_mea_diff',\n",
       " 'MAX_of_day_cnt_sum',\n",
       " 'vodafone_services_cnt_sms_in_sum',\n",
       " 'messengars_topic_call_cnt_out_count',\n",
       " 'all_cnt_min_total',\n",
       " 'non_accum_internet_vol_std_diff',\n",
       " 'voice_in_td_cnt_max_diff',\n",
       " 'finance_topic_call_cnt_out_count',\n",
       " 'voice_out_td_cnt_td_total',\n",
       " 'voice_out_td_cnt_std_total',\n",
       " 'voice_in_td_cnt_std_total',\n",
       " 'voice_mts_out_nwork_partstd_total',\n",
       " 'rescue_numbers_call_cnt_out_count',\n",
       " 'MAX_of_day_cnt_susp_app_share',\n",
       " 'content_cnt_mea_total',\n",
       " 'voice_out_td_cnt_mea_diff',\n",
       " 'pay_avg_max_total',\n",
       " 'other_call_dur_out_count',\n",
       " 'vodafone_survey_cnt_sms_out_count',\n",
       " 'voice_mts_in_dwork_part_mea_diff',\n",
       " 'voice_mts_in_dwork_part_std_diff',\n",
       " 'conn_out_uniq_cnt_min_total',\n",
       " 'finance_topic_call_dur_in_count',\n",
       " 'non_accum_internet_vol_td_total',\n",
       " 'voice_in_tar_dur_mea_total',\n",
       " 'casual_act_share',\n",
       " 'gprs_tar_vol_max_total',\n",
       " 'pay_avg_td_total',\n",
       " 'conn_out_uniq_cnt_std_total',\n",
       " 'voice_in_short_part_max_total',\n",
       " 'all_cnt_td_total',\n",
       " 'voice_in_td_cnt_min_total',\n",
       " 'casual_topic_cnt_sms_in_sum_share',\n",
       " 'voice_in_td_cnt_mea_total',\n",
       " 'vodafone_support_call_dur_out_sum',\n",
       " 'finance_topic_topic_act_share',\n",
       " 'content_cnt_std_total',\n",
       " 'all_cnt_max_total',\n",
       " 'voice_in_mts_avg_dur_min_total',\n",
       " 'conn_out_uniq_cnt_max_total',\n",
       " 'SUM_of_Duration_sec_susp_app_share',\n",
       " 'all_cnt_mea_diff',\n",
       " 'pay_max_std_total',\n",
       " 'data_3g_dou_mea_total',\n",
       " 'pay_sum_std_total',\n",
       " 'voice_out_cmpttrs_td_cnttd_total',\n",
       " 'vodafone_services_cnt_sms_out_sum_share',\n",
       " 'voice_in_kievstar_part_mea_diff',\n",
       " 'vodafone_services_cnt_sms_out_sum']"
      ]
     },
     "execution_count": 8,
     "metadata": {},
     "output_type": "execute_result"
    },
    {
     "ename": "",
     "evalue": "",
     "output_type": "error",
     "traceback": [
      "\u001b[1;31mThe Kernel crashed while executing code in the current cell or a previous cell. \n",
      "\u001b[1;31mPlease review the code in the cell(s) to identify a possible cause of the failure. \n",
      "\u001b[1;31mClick <a href='https://aka.ms/vscodeJupyterKernelCrash'>here</a> for more info. \n",
      "\u001b[1;31mView Jupyter <a href='command:jupyter.viewOutput'>log</a> for further details."
     ]
    }
   ],
   "source": [
    "# # XGBoost\n",
    "# booster = model.get_booster()\n",
    "# importances = booster.get_score(importance_type=\"gain\")\n",
    "# importance_df = pd.DataFrame(list(importances.items()), columns=[\"Feature\", \"Importance\"])\n",
    "\n",
    "# LightGBM\n",
    "importances = model.feature_importance(importance_type=\"gain\")\n",
    "importance_df = pd.DataFrame(list(zip(features, importances)), columns=[\"Feature\", \"Importance\"])\n",
    "\n",
    "\n",
    "# Report\n",
    "feature_importances = importance_df.sort_values(by=\"Importance\", ascending=False)\n",
    "feature_importances = feature_importances[feature_importances.Importance > 300]\n",
    "\n",
    "booster_feature_importances = list(feature_importances.Feature)\n",
    "\n",
    "booster_feature_importances"
   ]
  },
  {
   "cell_type": "code",
   "execution_count": 5,
   "metadata": {},
   "outputs": [
    {
     "data": {
      "application/vnd.plotly.v1+json": {
       "config": {
        "plotlyServerURL": "https://plot.ly"
       },
       "data": [
        {
         "alignmentgroup": "True",
         "hovertemplate": "Importance=%{x}<br>Feature=%{y}<extra></extra>",
         "legendgroup": "",
         "marker": {
          "color": "#636efa",
          "pattern": {
           "shape": ""
          }
         },
         "name": "",
         "offsetgroup": "",
         "orientation": "h",
         "showlegend": false,
         "textposition": "auto",
         "type": "bar",
         "x": [
          41147.29988074303,
          33746.729098796844,
          11345.68766617775,
          8972.123704195023,
          5744.024965763092,
          4570.365242481232,
          3099.2085988521576,
          2410.7503728866577,
          2316.5660848617554,
          2111.7576665878296,
          1985.917057275772,
          1818.161150932312,
          1738.9558625221252,
          1640.9616794586182,
          1404.313789844513,
          1324.1926321983337,
          1203.2645568847656,
          1143.2920002937317,
          1127.988228559494,
          1109.486171722412,
          1109.0153260231018,
          1105.913198709488,
          1040.109043121338,
          964.5500752925873,
          958.6055009365082,
          921.0776059627533,
          907.0935671329498,
          793.1487922668457,
          790.9722895622253,
          654.125162601471,
          652.7729678153992,
          649.3030908107758,
          647.1781446933746,
          623.1195571422577,
          618.3757934570312,
          599.9907145500183,
          586.4416265487671,
          570.5763092041016,
          562.1893784999847,
          554.463885307312,
          549.6090846061707,
          523.9333207607269,
          513.3507807254791,
          493.4696321487427,
          487.3832516670227,
          479.56450390815735,
          477.74721336364746,
          470.82716059684753,
          469.26452016830444,
          468.9421012401581,
          467.42678236961365,
          460.1558895111084,
          452.06910014152527,
          440.51106357574463,
          438.6395044326782,
          434.82043075561523,
          433.93612837791443,
          420.0404586791992,
          418.9087288379669,
          417.05926060676575,
          410.64285039901733,
          404.77170968055725,
          400.65714025497437,
          395.73970794677734,
          394.74018383026123,
          393.65818881988525,
          392.97629141807556,
          389.91720056533813,
          388.22365283966064,
          382.846732378006,
          378.5354392528534,
          378.2014739513397,
          378.1511492729187,
          376.1275236606598,
          373.8355097770691,
          371.8460624217987,
          366.1383500099182,
          365.896689414978,
          364.21990990638733,
          356.31381034851074,
          355.9887204170227,
          355.3788709640503,
          355.370228767395,
          353.7085359096527,
          351.45445013046265,
          346.89948987960815,
          344.6280279159546,
          343.51227045059204,
          340.89968085289,
          340.01664876937866,
          336.72024607658386,
          335.3558278083801,
          332.79497957229614,
          332.7313380241394,
          332.6923198699951,
          332.37736988067627,
          331.93849897384644,
          330.9597969055176,
          327.8089599609375,
          326.85936999320984,
          324.79974460601807,
          320.83496379852295,
          315.60511922836304,
          312.0513005256653,
          309.5940594673157,
          306.99481678009033,
          306.8110890388489,
          303.64142179489136,
          303.6374890804291,
          303.57949018478394
         ],
         "xaxis": "x",
         "y": [
          "device_days_usage",
          "num_act_days_min_total",
          "num_act_days_mea_total",
          "loc_market_share",
          "num_act_days_min_mnt3",
          "num_act_days_std_total",
          "lt",
          "num_act_days_std_mnt3",
          "num_act_days_mea_mnt1",
          "Balance_uah",
          "days_of_last_ppm",
          "voice_mts_in_dwork_part_mea_total",
          "days_of_end_last_ppm",
          "num_act_days_mea_mnt3",
          "loc_is_obl_center",
          "all_cnt_std_mnt1",
          "imei_mean_days_usage",
          "voice_mts_in_dwork_part_mea_mnt3",
          "all_cnt_std_total",
          "day_end_gba",
          "content_cnt_mea_mnt3",
          "other_cnt_sms_in_sum",
          "sms_in_cnt_std_total",
          "sum_paym_6_month",
          "all_cnt_std_mnt3",
          "all_cnt_max_total",
          "MAX_of_day_cnt_susp_app_sum",
          "voice_in_td_cnt_mea_total",
          "voice_in_tar_dur_min_total",
          "all_cnt_mea_diff",
          "content_cnt_mea_total",
          "data_3g_tv_cnt_std_mnt3",
          "voice_mts_in_drest_part_mea_total",
          "voice_in_mts_avg_dur_mea_total",
          "sms_in_cnt_mea_total",
          "conn_in_uniq_cnt_mea_total",
          "conn_in_uniq_cnt_std_total",
          "non_accum_internet_vol_mea_diff",
          "content_cnt_mea_diff",
          "non_accum_internet_vol_max_diff",
          "ks_num_part_mea_total",
          "num_act_days_std_diff",
          "voice_in_td_cnt_td_mnt3",
          "sms_in_cnt_max_total",
          "casual_topic_cnt_sms_in_sum",
          "SUM_of_Count_events_susp_app_sum",
          "voice_in_tar_dur_td_total",
          "voice_mts_in_drest_part_td_total",
          "voice_mts_in_dwork_part_std_diff",
          "voice_in_short_part_td_total",
          "content_cnt_std_diff",
          "voice_in_mts_avg_dur_td_total",
          "conn_com_part_td_total",
          "MV_dou_4G_d",
          "voice_in_kievstar_part_mea_total",
          "voice_mts_in_drest_part_std_total",
          "conn_out_uniq_cnt_min_total",
          "SUM_of_Volume_kb_susp_app_share",
          "conn_in_uniq_cnt_td_mnt3",
          "voice_out_td_cnt_mea_diff",
          "data_3g_tv_cnt_td_total",
          "all_cnt_std_diff",
          "voice_mts_out_dwork_partmea_mnt3",
          "myvf_day_usage",
          "voice_mts_in_dwork_part_max_total",
          "voice_mts_in_dwork_part_std_total",
          "data_3g_tv_cnt_std_total",
          "SUM_of_Duration_sec_susp_app_share",
          "conn_out_uniq_cnt_mea_total",
          "voice_in_life_part_std_total",
          "sms_in_cnt_td_total",
          "MAX_of_day_cnt_sum",
          "voice_in_life_part_td_total",
          "voice_mts_out_dwork_partstd_total",
          "voice_in_life_part_mea_total",
          "voice_in_mts_avg_dur_min_total",
          "voice_out_tar_dur_min_mnt3",
          "voice_out_cmpttrs_avg_dumea_total",
          "content_cnt_td_total",
          "voice_in_td_cnt_std_diff",
          "voice_in_cmpttrs_avg_durmea_total",
          "conn_com_part_mea_total",
          "com_num_part_td_total",
          "voice_out_short_part_td_total",
          "voice_in_tar_dur_std_diff",
          "content_cnt_min_total",
          "num_act_days_td_total",
          "sms_in_cnt_max_mnt3",
          "gprs_tar_vol_td_total",
          "conn_in_uniq_cnt_std_diff",
          "voice_in_mts_avg_dur_max_total",
          "voice_mts_out_drest_parttd_total",
          "voice_out_tar_dur_mea_diff",
          "non_accum_internet_vol_std_diff",
          "bank_companies_cnt_sms_in_sum_share",
          "accum_mts_dur_mea_total",
          "voice_in_td_cnt_max_diff",
          "data_3g_tv_cnt_max_total",
          "ks_num_part_std_mnt3",
          "voice_mts_in_nrest_part_td_total",
          "non_accum_internet_vol_min_total",
          "MAX_of_day_cnt_susp_app_share",
          "voice_mts_in_dwork_part_td_total",
          "content_cnt_std_total",
          "ks_num_part_std_diff",
          "casual_topic_topic_act_count",
          "voice_in_mts_avg_dur_std_total",
          "voice_in_kievstar_part_td_total",
          "voice_mts_in_drest_part_max_total",
          "gprs_tar_vol_std_diff"
         ],
         "yaxis": "y"
        }
       ],
       "layout": {
        "barmode": "relative",
        "height": 1200,
        "legend": {
         "tracegroupgap": 0
        },
        "template": {
         "data": {
          "bar": [
           {
            "error_x": {
             "color": "#2a3f5f"
            },
            "error_y": {
             "color": "#2a3f5f"
            },
            "marker": {
             "line": {
              "color": "#E5ECF6",
              "width": 0.5
             },
             "pattern": {
              "fillmode": "overlay",
              "size": 10,
              "solidity": 0.2
             }
            },
            "type": "bar"
           }
          ],
          "barpolar": [
           {
            "marker": {
             "line": {
              "color": "#E5ECF6",
              "width": 0.5
             },
             "pattern": {
              "fillmode": "overlay",
              "size": 10,
              "solidity": 0.2
             }
            },
            "type": "barpolar"
           }
          ],
          "carpet": [
           {
            "aaxis": {
             "endlinecolor": "#2a3f5f",
             "gridcolor": "white",
             "linecolor": "white",
             "minorgridcolor": "white",
             "startlinecolor": "#2a3f5f"
            },
            "baxis": {
             "endlinecolor": "#2a3f5f",
             "gridcolor": "white",
             "linecolor": "white",
             "minorgridcolor": "white",
             "startlinecolor": "#2a3f5f"
            },
            "type": "carpet"
           }
          ],
          "choropleth": [
           {
            "colorbar": {
             "outlinewidth": 0,
             "ticks": ""
            },
            "type": "choropleth"
           }
          ],
          "contour": [
           {
            "colorbar": {
             "outlinewidth": 0,
             "ticks": ""
            },
            "colorscale": [
             [
              0,
              "#0d0887"
             ],
             [
              0.1111111111111111,
              "#46039f"
             ],
             [
              0.2222222222222222,
              "#7201a8"
             ],
             [
              0.3333333333333333,
              "#9c179e"
             ],
             [
              0.4444444444444444,
              "#bd3786"
             ],
             [
              0.5555555555555556,
              "#d8576b"
             ],
             [
              0.6666666666666666,
              "#ed7953"
             ],
             [
              0.7777777777777778,
              "#fb9f3a"
             ],
             [
              0.8888888888888888,
              "#fdca26"
             ],
             [
              1,
              "#f0f921"
             ]
            ],
            "type": "contour"
           }
          ],
          "contourcarpet": [
           {
            "colorbar": {
             "outlinewidth": 0,
             "ticks": ""
            },
            "type": "contourcarpet"
           }
          ],
          "heatmap": [
           {
            "colorbar": {
             "outlinewidth": 0,
             "ticks": ""
            },
            "colorscale": [
             [
              0,
              "#0d0887"
             ],
             [
              0.1111111111111111,
              "#46039f"
             ],
             [
              0.2222222222222222,
              "#7201a8"
             ],
             [
              0.3333333333333333,
              "#9c179e"
             ],
             [
              0.4444444444444444,
              "#bd3786"
             ],
             [
              0.5555555555555556,
              "#d8576b"
             ],
             [
              0.6666666666666666,
              "#ed7953"
             ],
             [
              0.7777777777777778,
              "#fb9f3a"
             ],
             [
              0.8888888888888888,
              "#fdca26"
             ],
             [
              1,
              "#f0f921"
             ]
            ],
            "type": "heatmap"
           }
          ],
          "heatmapgl": [
           {
            "colorbar": {
             "outlinewidth": 0,
             "ticks": ""
            },
            "colorscale": [
             [
              0,
              "#0d0887"
             ],
             [
              0.1111111111111111,
              "#46039f"
             ],
             [
              0.2222222222222222,
              "#7201a8"
             ],
             [
              0.3333333333333333,
              "#9c179e"
             ],
             [
              0.4444444444444444,
              "#bd3786"
             ],
             [
              0.5555555555555556,
              "#d8576b"
             ],
             [
              0.6666666666666666,
              "#ed7953"
             ],
             [
              0.7777777777777778,
              "#fb9f3a"
             ],
             [
              0.8888888888888888,
              "#fdca26"
             ],
             [
              1,
              "#f0f921"
             ]
            ],
            "type": "heatmapgl"
           }
          ],
          "histogram": [
           {
            "marker": {
             "pattern": {
              "fillmode": "overlay",
              "size": 10,
              "solidity": 0.2
             }
            },
            "type": "histogram"
           }
          ],
          "histogram2d": [
           {
            "colorbar": {
             "outlinewidth": 0,
             "ticks": ""
            },
            "colorscale": [
             [
              0,
              "#0d0887"
             ],
             [
              0.1111111111111111,
              "#46039f"
             ],
             [
              0.2222222222222222,
              "#7201a8"
             ],
             [
              0.3333333333333333,
              "#9c179e"
             ],
             [
              0.4444444444444444,
              "#bd3786"
             ],
             [
              0.5555555555555556,
              "#d8576b"
             ],
             [
              0.6666666666666666,
              "#ed7953"
             ],
             [
              0.7777777777777778,
              "#fb9f3a"
             ],
             [
              0.8888888888888888,
              "#fdca26"
             ],
             [
              1,
              "#f0f921"
             ]
            ],
            "type": "histogram2d"
           }
          ],
          "histogram2dcontour": [
           {
            "colorbar": {
             "outlinewidth": 0,
             "ticks": ""
            },
            "colorscale": [
             [
              0,
              "#0d0887"
             ],
             [
              0.1111111111111111,
              "#46039f"
             ],
             [
              0.2222222222222222,
              "#7201a8"
             ],
             [
              0.3333333333333333,
              "#9c179e"
             ],
             [
              0.4444444444444444,
              "#bd3786"
             ],
             [
              0.5555555555555556,
              "#d8576b"
             ],
             [
              0.6666666666666666,
              "#ed7953"
             ],
             [
              0.7777777777777778,
              "#fb9f3a"
             ],
             [
              0.8888888888888888,
              "#fdca26"
             ],
             [
              1,
              "#f0f921"
             ]
            ],
            "type": "histogram2dcontour"
           }
          ],
          "mesh3d": [
           {
            "colorbar": {
             "outlinewidth": 0,
             "ticks": ""
            },
            "type": "mesh3d"
           }
          ],
          "parcoords": [
           {
            "line": {
             "colorbar": {
              "outlinewidth": 0,
              "ticks": ""
             }
            },
            "type": "parcoords"
           }
          ],
          "pie": [
           {
            "automargin": true,
            "type": "pie"
           }
          ],
          "scatter": [
           {
            "fillpattern": {
             "fillmode": "overlay",
             "size": 10,
             "solidity": 0.2
            },
            "type": "scatter"
           }
          ],
          "scatter3d": [
           {
            "line": {
             "colorbar": {
              "outlinewidth": 0,
              "ticks": ""
             }
            },
            "marker": {
             "colorbar": {
              "outlinewidth": 0,
              "ticks": ""
             }
            },
            "type": "scatter3d"
           }
          ],
          "scattercarpet": [
           {
            "marker": {
             "colorbar": {
              "outlinewidth": 0,
              "ticks": ""
             }
            },
            "type": "scattercarpet"
           }
          ],
          "scattergeo": [
           {
            "marker": {
             "colorbar": {
              "outlinewidth": 0,
              "ticks": ""
             }
            },
            "type": "scattergeo"
           }
          ],
          "scattergl": [
           {
            "marker": {
             "colorbar": {
              "outlinewidth": 0,
              "ticks": ""
             }
            },
            "type": "scattergl"
           }
          ],
          "scattermapbox": [
           {
            "marker": {
             "colorbar": {
              "outlinewidth": 0,
              "ticks": ""
             }
            },
            "type": "scattermapbox"
           }
          ],
          "scatterpolar": [
           {
            "marker": {
             "colorbar": {
              "outlinewidth": 0,
              "ticks": ""
             }
            },
            "type": "scatterpolar"
           }
          ],
          "scatterpolargl": [
           {
            "marker": {
             "colorbar": {
              "outlinewidth": 0,
              "ticks": ""
             }
            },
            "type": "scatterpolargl"
           }
          ],
          "scatterternary": [
           {
            "marker": {
             "colorbar": {
              "outlinewidth": 0,
              "ticks": ""
             }
            },
            "type": "scatterternary"
           }
          ],
          "surface": [
           {
            "colorbar": {
             "outlinewidth": 0,
             "ticks": ""
            },
            "colorscale": [
             [
              0,
              "#0d0887"
             ],
             [
              0.1111111111111111,
              "#46039f"
             ],
             [
              0.2222222222222222,
              "#7201a8"
             ],
             [
              0.3333333333333333,
              "#9c179e"
             ],
             [
              0.4444444444444444,
              "#bd3786"
             ],
             [
              0.5555555555555556,
              "#d8576b"
             ],
             [
              0.6666666666666666,
              "#ed7953"
             ],
             [
              0.7777777777777778,
              "#fb9f3a"
             ],
             [
              0.8888888888888888,
              "#fdca26"
             ],
             [
              1,
              "#f0f921"
             ]
            ],
            "type": "surface"
           }
          ],
          "table": [
           {
            "cells": {
             "fill": {
              "color": "#EBF0F8"
             },
             "line": {
              "color": "white"
             }
            },
            "header": {
             "fill": {
              "color": "#C8D4E3"
             },
             "line": {
              "color": "white"
             }
            },
            "type": "table"
           }
          ]
         },
         "layout": {
          "annotationdefaults": {
           "arrowcolor": "#2a3f5f",
           "arrowhead": 0,
           "arrowwidth": 1
          },
          "autotypenumbers": "strict",
          "coloraxis": {
           "colorbar": {
            "outlinewidth": 0,
            "ticks": ""
           }
          },
          "colorscale": {
           "diverging": [
            [
             0,
             "#8e0152"
            ],
            [
             0.1,
             "#c51b7d"
            ],
            [
             0.2,
             "#de77ae"
            ],
            [
             0.3,
             "#f1b6da"
            ],
            [
             0.4,
             "#fde0ef"
            ],
            [
             0.5,
             "#f7f7f7"
            ],
            [
             0.6,
             "#e6f5d0"
            ],
            [
             0.7,
             "#b8e186"
            ],
            [
             0.8,
             "#7fbc41"
            ],
            [
             0.9,
             "#4d9221"
            ],
            [
             1,
             "#276419"
            ]
           ],
           "sequential": [
            [
             0,
             "#0d0887"
            ],
            [
             0.1111111111111111,
             "#46039f"
            ],
            [
             0.2222222222222222,
             "#7201a8"
            ],
            [
             0.3333333333333333,
             "#9c179e"
            ],
            [
             0.4444444444444444,
             "#bd3786"
            ],
            [
             0.5555555555555556,
             "#d8576b"
            ],
            [
             0.6666666666666666,
             "#ed7953"
            ],
            [
             0.7777777777777778,
             "#fb9f3a"
            ],
            [
             0.8888888888888888,
             "#fdca26"
            ],
            [
             1,
             "#f0f921"
            ]
           ],
           "sequentialminus": [
            [
             0,
             "#0d0887"
            ],
            [
             0.1111111111111111,
             "#46039f"
            ],
            [
             0.2222222222222222,
             "#7201a8"
            ],
            [
             0.3333333333333333,
             "#9c179e"
            ],
            [
             0.4444444444444444,
             "#bd3786"
            ],
            [
             0.5555555555555556,
             "#d8576b"
            ],
            [
             0.6666666666666666,
             "#ed7953"
            ],
            [
             0.7777777777777778,
             "#fb9f3a"
            ],
            [
             0.8888888888888888,
             "#fdca26"
            ],
            [
             1,
             "#f0f921"
            ]
           ]
          },
          "colorway": [
           "#636efa",
           "#EF553B",
           "#00cc96",
           "#ab63fa",
           "#FFA15A",
           "#19d3f3",
           "#FF6692",
           "#B6E880",
           "#FF97FF",
           "#FECB52"
          ],
          "font": {
           "color": "#2a3f5f"
          },
          "geo": {
           "bgcolor": "white",
           "lakecolor": "white",
           "landcolor": "#E5ECF6",
           "showlakes": true,
           "showland": true,
           "subunitcolor": "white"
          },
          "hoverlabel": {
           "align": "left"
          },
          "hovermode": "closest",
          "mapbox": {
           "style": "light"
          },
          "paper_bgcolor": "white",
          "plot_bgcolor": "#E5ECF6",
          "polar": {
           "angularaxis": {
            "gridcolor": "white",
            "linecolor": "white",
            "ticks": ""
           },
           "bgcolor": "#E5ECF6",
           "radialaxis": {
            "gridcolor": "white",
            "linecolor": "white",
            "ticks": ""
           }
          },
          "scene": {
           "xaxis": {
            "backgroundcolor": "#E5ECF6",
            "gridcolor": "white",
            "gridwidth": 2,
            "linecolor": "white",
            "showbackground": true,
            "ticks": "",
            "zerolinecolor": "white"
           },
           "yaxis": {
            "backgroundcolor": "#E5ECF6",
            "gridcolor": "white",
            "gridwidth": 2,
            "linecolor": "white",
            "showbackground": true,
            "ticks": "",
            "zerolinecolor": "white"
           },
           "zaxis": {
            "backgroundcolor": "#E5ECF6",
            "gridcolor": "white",
            "gridwidth": 2,
            "linecolor": "white",
            "showbackground": true,
            "ticks": "",
            "zerolinecolor": "white"
           }
          },
          "shapedefaults": {
           "line": {
            "color": "#2a3f5f"
           }
          },
          "ternary": {
           "aaxis": {
            "gridcolor": "white",
            "linecolor": "white",
            "ticks": ""
           },
           "baxis": {
            "gridcolor": "white",
            "linecolor": "white",
            "ticks": ""
           },
           "bgcolor": "#E5ECF6",
           "caxis": {
            "gridcolor": "white",
            "linecolor": "white",
            "ticks": ""
           }
          },
          "title": {
           "x": 0.05
          },
          "xaxis": {
           "automargin": true,
           "gridcolor": "white",
           "linecolor": "white",
           "ticks": "",
           "title": {
            "standoff": 15
           },
           "zerolinecolor": "white",
           "zerolinewidth": 2
          },
          "yaxis": {
           "automargin": true,
           "gridcolor": "white",
           "linecolor": "white",
           "ticks": "",
           "title": {
            "standoff": 15
           },
           "zerolinecolor": "white",
           "zerolinewidth": 2
          }
         }
        },
        "title": {
         "text": "Feature Importances"
        },
        "width": 800,
        "xaxis": {
         "anchor": "y",
         "domain": [
          0,
          1
         ],
         "title": {
          "text": "Importance"
         }
        },
        "yaxis": {
         "anchor": "x",
         "categoryorder": "total ascending",
         "domain": [
          0,
          1
         ],
         "title": {
          "text": "Feature"
         }
        }
       }
      }
     },
     "metadata": {},
     "output_type": "display_data"
    }
   ],
   "source": [
    "import plotly.express as px\n",
    "\n",
    "fig = px.bar(feature_importances, x=\"Importance\", y=\"Feature\", title=\"Feature Importances\")\n",
    "fig.update_layout(yaxis={\"categoryorder\": \"total ascending\"}, width=800, height=1200)\n",
    "fig.show()"
   ]
  },
  {
   "cell_type": "code",
   "execution_count": 6,
   "metadata": {},
   "outputs": [],
   "source": [
    "explainer = shap.TreeExplainer(model)\n",
    "shap_values = explainer(train_data_x)"
   ]
  },
  {
   "cell_type": "code",
   "execution_count": 13,
   "metadata": {},
   "outputs": [
    {
     "data": {
      "text/plain": [
       "['num_act_days_min_total',\n",
       " 'device_days_usage',\n",
       " 'num_act_days_mea_total',\n",
       " 'lt',\n",
       " 'loc_market_share',\n",
       " 'conn_in_uniq_cnt_mea_total',\n",
       " 'Balance_uah',\n",
       " 'num_act_days_std_total',\n",
       " 'MAX_of_day_cnt_susp_app_sum',\n",
       " 'days_of_end_last_ppm',\n",
       " 'voice_in_td_cnt_td_mnt3',\n",
       " 'day_end_gba',\n",
       " 'voice_mts_in_dwork_part_mea_mnt3',\n",
       " 'imei_mean_days_usage',\n",
       " 'casual_topic_cnt_sms_in_sum',\n",
       " 'sum_paym_6_month',\n",
       " 'days_of_last_ppm',\n",
       " 'voice_mts_in_drest_part_mea_total',\n",
       " 'casual_act_count',\n",
       " 'content_cnt_mea_mnt3',\n",
       " 'bank_companies_cnt_sms_in_sum_share',\n",
       " 'data_3g_tv_cnt_std_mnt3',\n",
       " 'SUM_of_Count_events_susp_app_sum',\n",
       " 'voice_out_td_cnt_std_total',\n",
       " 'voice_in_tar_dur_min_total',\n",
       " 'sms_in_cnt_std_total',\n",
       " 'other_cnt_sms_in_sum',\n",
       " 'content_cnt_mea_diff',\n",
       " 'sms_in_cnt_mea_total',\n",
       " 'voice_in_tar_dur_min_mnt1',\n",
       " 'all_cnt_std_total',\n",
       " 'data_3g_tv_cnt_max_total',\n",
       " 'non_accum_internet_vol_mea_diff',\n",
       " 'all_cnt_std_mnt3']"
      ]
     },
     "execution_count": 13,
     "metadata": {},
     "output_type": "execute_result"
    }
   ],
   "source": [
    "shap_importance = pd.DataFrame(\n",
    "    list(zip(train_data_x.columns, np.abs(shap_values.values).mean(axis=0))), columns=[\"feature\", \"importance\"]\n",
    ").sort_values(by=\"importance\", ascending=False)\n",
    "\n",
    "shap_features = shap_importance[shap_importance.importance > 0.03].feature.to_list()\n",
    "\n",
    "shap_features"
   ]
  },
  {
   "cell_type": "code",
   "execution_count": 14,
   "metadata": {},
   "outputs": [
    {
     "data": {
      "image/png": "[encoded data removed]",
      "text/plain": [
       "<Figure size 800x2110 with 2 Axes>"
      ]
     },
     "metadata": {},
     "output_type": "display_data"
    }
   ],
   "source": [
    "shap.summary_plot(shap_values, train_data_x, max_display=150, auto_size_plot=True)"
   ]
  },
  {
   "cell_type": "code",
   "execution_count": 15,
   "metadata": {},
   "outputs": [
    {
     "data": {
      "text/plain": [
       "['voice_in_tar_dur_min_total',\n",
       " 'casual_act_count',\n",
       " 'casual_topic_cnt_sms_in_sum',\n",
       " 'day_end_gba',\n",
       " 'sms_in_cnt_mea_mnt3',\n",
       " 'MAX_of_day_cnt_susp_app_sum',\n",
       " 'voice_mts_in_dwork_part_mea_total',\n",
       " 'content_cnt_mea_mnt3',\n",
       " 'sum_paym_6_month',\n",
       " 'num_act_days_mea_total',\n",
       " 'num_act_days_mea_mnt1',\n",
       " 'non_accum_internet_vol_td_total',\n",
       " 'other_cnt_sms_in_sum',\n",
       " 'voice_in_td_cnt_td_mnt3',\n",
       " 'loc_is_obl_center',\n",
       " 'voice_mts_in_dwork_part_std_total',\n",
       " 'days_of_end_last_ppm',\n",
       " 'days_of_last_ppm',\n",
       " 'all_cnt_std_mnt1',\n",
       " 'sms_in_cnt_std_total',\n",
       " 'content_cnt_mea_diff',\n",
       " 'device_days_usage',\n",
       " 'sms_in_cnt_mea_total',\n",
       " 'non_accum_internet_vol_mea_diff',\n",
       " 'voice_out_td_cnt_std_total',\n",
       " 'num_act_days_std_mnt3',\n",
       " 'conn_in_uniq_cnt_mea_total',\n",
       " 'num_act_days_std_total',\n",
       " 'num_act_days_td_total',\n",
       " 'imei_mean_days_usage',\n",
       " 'bank_companies_cnt_sms_in_sum_share',\n",
       " 'num_act_days_mea_mnt3',\n",
       " 'data_3g_tv_cnt_std_mnt3',\n",
       " 'voice_in_tar_dur_min_mnt1',\n",
       " 'MV_dou_net',\n",
       " 'all_cnt_std_mnt3',\n",
       " 'voice_mts_in_drest_part_mea_total',\n",
       " 'lt',\n",
       " 'num_act_days_min_total',\n",
       " 'all_cnt_std_total',\n",
       " 'loc_market_share',\n",
       " 'voice_mts_in_dwork_part_mea_mnt3',\n",
       " 'data_3g_tv_cnt_max_total',\n",
       " 'Balance_uah',\n",
       " 'all_cnt_mea_diff',\n",
       " 'SUM_of_Count_events_susp_app_sum']"
      ]
     },
     "execution_count": 15,
     "metadata": {},
     "output_type": "execute_result"
    }
   ],
   "source": [
    "FEATURES = shap_features + booster_feature_importances\n",
    "\n",
    "list(set(FEATURES))"
   ]
  },
  {
   "cell_type": "code",
   "execution_count": 10,
   "metadata": {},
   "outputs": [
    {
     "ename": "",
     "evalue": "",
     "output_type": "error",
     "traceback": [
      "\u001b[1;31mThe Kernel crashed while executing code in the current cell or a previous cell. \n",
      "\u001b[1;31mPlease review the code in the cell(s) to identify a possible cause of the failure. \n",
      "\u001b[1;31mClick <a href='https://aka.ms/vscodeJupyterKernelCrash'>here</a> for more info. \n",
      "\u001b[1;31mView Jupyter <a href='command:jupyter.viewOutput'>log</a> for further details."
     ]
    }
   ],
   "source": [
    "# Обчислення кореляційної матриці\n",
    "corr_matrix = train_data_x.corr()"
   ]
  },
  {
   "cell_type": "code",
   "execution_count": 8,
   "metadata": {},
   "outputs": [],
   "source": [
    "# # Створення теплової карти за допомогою Plotly\n",
    "# fig = px.imshow(\n",
    "#     corr_matrix,\n",
    "#     labels=dict(color=\"Correlation\"),\n",
    "#     x=train_data_x.columns,\n",
    "#     y=train_data_x.columns,\n",
    "#     title=\"Correlation Heatmap of 800 Features\",\n",
    "# )\n",
    "\n",
    "# fig.update_layout(width=1000, height=1000)\n",
    "\n",
    "# # Показати графік\n",
    "# fig.show()"
   ]
  },
  {
   "cell_type": "code",
   "execution_count": 9,
   "metadata": {},
   "outputs": [],
   "source": [
    "# # Clean highly correlated features\n",
    "\n",
    "# threshold = 0.95\n",
    "# top_importances = feature_importances[:50]\n",
    "\n",
    "# upper = corr_matrix.where(np.triu(np.ones(corr_matrix.shape), k=1).astype(bool))\n",
    "\n",
    "# to_drop = [\n",
    "#     column\n",
    "#     for column in upper.columns\n",
    "#     if any(upper[column] > threshold) and not any(top_importances[\"Feature\"].str.contains(column))\n",
    "# ]\n",
    "\n",
    "# print(top_importances[top_importances[\"Feature\"].isin(to_drop)])\n",
    "\n",
    "# df_reduced = train_data_x.drop(columns=to_drop)"
   ]
  },
  {
   "cell_type": "code",
   "execution_count": 10,
   "metadata": {},
   "outputs": [],
   "source": [
    "from sklearn.feature_selection import SelectFromModel\n",
    "\n",
    "selector = SelectFromModel(model, threshold=\"mean\")\n",
    "selector.fit(train_data_x, train_data_y)\n",
    "\n",
    "X_selected = selector.transform(train_data_x)"
   ]
  },
  {
   "cell_type": "code",
   "execution_count": 11,
   "metadata": {},
   "outputs": [
    {
     "data": {
      "text/plain": [
       "array(['all_cnt_min_mnt3', 'days_of_end_last_ppm', 'device_days_usage',\n",
       "       'loc_is_obl_center', 'loc_market_share', 'num_act_days_mea_mnt3',\n",
       "       'num_act_days_min_mnt1', 'num_act_days_min_mnt3',\n",
       "       'num_act_days_std_mnt3', 'voice_in_mts_avg_dur_min_mnt3',\n",
       "       'voice_in_tar_dur_max_mnt1', 'voice_in_tar_dur_mea_wk1',\n",
       "       'voice_in_tar_dur_min_mnt1', 'voice_in_td_cnt_mea_mnt3',\n",
       "       'voice_in_td_cnt_mea_wk1', 'voice_mts_in_dwork_part_max_mnt1'],\n",
       "      dtype=object)"
      ]
     },
     "execution_count": 11,
     "metadata": {},
     "output_type": "execute_result"
    }
   ],
   "source": [
    "selected_features_mask = selector.get_support()\n",
    "\n",
    "# Отримання списку вибраних ознак\n",
    "selected_features = train_data_x.columns[selected_features_mask]\n",
    "\n",
    "selected_features.to_numpy()"
   ]
  },
  {
   "cell_type": "code",
   "execution_count": 12,
   "metadata": {},
   "outputs": [
    {
     "data": {
      "text/plain": [
       "{'Balance_uah',\n",
       " 'MV_ARPU',\n",
       " 'MV_Traf_2G_d_Mb',\n",
       " 'MV_Traf_3G_d_Mb',\n",
       " 'MV_Traf_4G_d_Mb',\n",
       " 'MV_Traf_ACCA_out_v_Min',\n",
       " 'MV_Traf_Cont_inc_s_Cnt',\n",
       " 'MV_Traf_Cont_out_v_Min',\n",
       " 'MV_Traf_inc_s_Cnt',\n",
       " 'MV_Traf_innet_inc_v_Min',\n",
       " 'MV_Traf_innet_out_v_Min',\n",
       " 'MV_Traf_omo_inc_v_Min',\n",
       " 'MV_dou',\n",
       " 'MV_dou_2G_d',\n",
       " 'MV_dou_4G_d',\n",
       " 'MV_dou_data',\n",
       " 'MV_dou_innet_out_v',\n",
       " 'MV_dou_net',\n",
       " 'MV_net_total',\n",
       " 'TM_ID',\n",
       " 'abon_id',\n",
       " 'accum_mts_dur_max_mnt3',\n",
       " 'accum_mts_dur_mea_mnt3',\n",
       " 'accum_mts_dur_std_mnt3',\n",
       " 'accum_mts_dur_td_mnt3',\n",
       " 'accum_oth_dur_td_mnt3',\n",
       " 'all_clc_max_mnt3',\n",
       " 'all_clc_mea_mnt1',\n",
       " 'all_clc_mea_mnt3',\n",
       " 'all_clc_std_mnt3',\n",
       " 'all_clc_td_mnt3',\n",
       " 'all_cnt_max_mnt1',\n",
       " 'all_cnt_max_mnt3',\n",
       " 'all_cnt_mea_mnt1',\n",
       " 'all_cnt_mea_mnt3',\n",
       " 'all_cnt_mea_wk1',\n",
       " 'all_cnt_min_mnt1',\n",
       " 'all_cnt_min_mnt3',\n",
       " 'all_cnt_std_mnt1',\n",
       " 'all_cnt_std_mnt3',\n",
       " 'all_cnt_td_mnt3',\n",
       " 'all_home_clc_max_mnt3',\n",
       " 'all_home_clc_mea_mnt3',\n",
       " 'all_home_clc_std_mnt3',\n",
       " 'all_home_clc_td_mnt3',\n",
       " 'avg_paym_6_month',\n",
       " 'bs_ovrl_OMO_CNT_M3',\n",
       " 'clc_no_vas_roam_max_mnt3',\n",
       " 'clc_no_vas_roam_mea_mnt1',\n",
       " 'clc_no_vas_roam_mea_mnt3',\n",
       " 'clc_no_vas_roam_std_mnt3',\n",
       " 'clc_no_vas_roam_td_mnt3',\n",
       " 'cnt_paym_6_month',\n",
       " 'com_num_part_mea_mnt1',\n",
       " 'com_num_part_mea_mnt3',\n",
       " 'com_num_part_mea_wk1',\n",
       " 'com_num_part_std_mnt1',\n",
       " 'com_num_part_std_mnt3',\n",
       " 'com_num_part_td_mnt3',\n",
       " 'conn_com_part_mea_mnt1',\n",
       " 'conn_com_part_mea_mnt3',\n",
       " 'conn_com_part_mea_wk1',\n",
       " 'conn_com_part_std_mnt1',\n",
       " 'conn_com_part_std_mnt3',\n",
       " 'conn_com_part_td_mnt3',\n",
       " 'conn_in_uniq_cnt_max_mnt3',\n",
       " 'conn_in_uniq_cnt_mea_mnt3',\n",
       " 'conn_in_uniq_cnt_std_mnt1',\n",
       " 'conn_in_uniq_cnt_std_mnt3',\n",
       " 'conn_in_uniq_cnt_td_mnt3',\n",
       " 'conn_out_uniq_cnt_mea_mnt1',\n",
       " 'conn_out_uniq_cnt_mea_mnt3',\n",
       " 'conn_out_uniq_cnt_std_mnt1',\n",
       " 'conn_out_uniq_cnt_std_mnt3',\n",
       " 'conn_out_uniq_cnt_td_mnt3',\n",
       " 'content_cnt_max_mnt1',\n",
       " 'content_cnt_max_mnt3',\n",
       " 'content_cnt_mea_mnt1',\n",
       " 'content_cnt_mea_mnt3',\n",
       " 'content_cnt_mea_wk1',\n",
       " 'content_cnt_min_mnt1',\n",
       " 'content_cnt_min_mnt3',\n",
       " 'content_cnt_std_mnt1',\n",
       " 'content_cnt_std_mnt3',\n",
       " 'content_cnt_td_mnt3',\n",
       " 'count_day_for_last_paym',\n",
       " 'data_3g_dou_std_mnt1',\n",
       " 'data_3g_dou_std_mnt3',\n",
       " 'data_3g_dou_td_mnt3',\n",
       " 'data_3g_tar_vol_max_mnt3',\n",
       " 'data_3g_tar_vol_mea_mnt3',\n",
       " 'data_3g_tar_vol_mea_wk1',\n",
       " 'data_3g_tar_vol_std_mnt1',\n",
       " 'data_3g_tar_vol_std_mnt3',\n",
       " 'data_3g_tar_vol_td_mnt3',\n",
       " 'data_3g_tv_cnt_max_mnt3',\n",
       " 'data_3g_tv_cnt_mea_mnt1',\n",
       " 'data_3g_tv_cnt_mea_mnt3',\n",
       " 'data_3g_tv_cnt_std_mnt1',\n",
       " 'data_3g_tv_cnt_std_mnt3',\n",
       " 'data_3g_tv_cnt_td_mnt3',\n",
       " 'day_end_gba',\n",
       " 'days_of_end_last_ppm',\n",
       " 'days_of_last_ppm',\n",
       " 'device_android_version',\n",
       " 'device_days_usage',\n",
       " 'device_height_mm',\n",
       " 'device_price',\n",
       " 'device_width_mm',\n",
       " 'gprs_tar_vol_max_mnt3',\n",
       " 'gprs_tar_vol_mea_mnt1',\n",
       " 'gprs_tar_vol_mea_mnt3',\n",
       " 'gprs_tar_vol_mea_wk1',\n",
       " 'gprs_tar_vol_std_mnt1',\n",
       " 'gprs_tar_vol_std_mnt3',\n",
       " 'gprs_tar_vol_td_mnt3',\n",
       " 'imei_max_price',\n",
       " 'imei_mean_day_announced',\n",
       " 'imei_mean_days_usage',\n",
       " 'imei_mean_long_days_usage',\n",
       " 'imei_mean_price',\n",
       " 'ks_num_part_max_mnt3',\n",
       " 'ks_num_part_mea_mnt1',\n",
       " 'ks_num_part_mea_mnt3',\n",
       " 'ks_num_part_mea_wk1',\n",
       " 'ks_num_part_std_mnt1',\n",
       " 'ks_num_part_std_mnt3',\n",
       " 'ks_num_part_td_mnt3',\n",
       " 'last_paym',\n",
       " 'loc_cnt_events',\n",
       " 'loc_is_obl_center',\n",
       " 'loc_market_share',\n",
       " 'lt',\n",
       " 'max_paym_6_month',\n",
       " 'min_paym_6_month',\n",
       " 'myvf_day_usage',\n",
       " 'non_accum_internet_vol_max_mnt1',\n",
       " 'non_accum_internet_vol_max_mnt3',\n",
       " 'non_accum_internet_vol_mea_mnt1',\n",
       " 'non_accum_internet_vol_mea_mnt3',\n",
       " 'non_accum_internet_vol_mea_wk1',\n",
       " 'non_accum_internet_vol_min_mnt1',\n",
       " 'non_accum_internet_vol_min_mnt3',\n",
       " 'non_accum_internet_vol_std_mnt1',\n",
       " 'non_accum_internet_vol_std_mnt3',\n",
       " 'non_accum_internet_vol_td_mnt3',\n",
       " 'num_act_days_mea_mnt1',\n",
       " 'num_act_days_mea_mnt3',\n",
       " 'num_act_days_min_mnt1',\n",
       " 'num_act_days_min_mnt3',\n",
       " 'num_act_days_std_mnt1',\n",
       " 'num_act_days_std_mnt3',\n",
       " 'num_act_days_td_mnt3',\n",
       " 'pay_avg_mea_mnt3',\n",
       " 'pay_avg_std_mnt3',\n",
       " 'pay_avg_td_mnt3',\n",
       " 'pay_max_std_mnt3',\n",
       " 'pay_max_td_mnt3',\n",
       " 'pay_sum_mea_mnt3',\n",
       " 'pay_sum_td_mnt3',\n",
       " 'sms_in_cnt_max_mnt3',\n",
       " 'sms_in_cnt_mea_mnt1',\n",
       " 'sms_in_cnt_mea_mnt3',\n",
       " 'sms_in_cnt_std_mnt1',\n",
       " 'sms_in_cnt_std_mnt3',\n",
       " 'sms_in_cnt_td_mnt3',\n",
       " 'std_paym_6_month',\n",
       " 'sum_paym_6_month',\n",
       " 'vas_clc_mea_mnt3',\n",
       " 'vas_clc_std_mnt3',\n",
       " 'vas_clc_td_mnt3',\n",
       " 'voice_in_cmpttrs_avg_durmax_mnt1',\n",
       " 'voice_in_cmpttrs_avg_durmax_mnt3',\n",
       " 'voice_in_cmpttrs_avg_durmea_mnt1',\n",
       " 'voice_in_cmpttrs_avg_durmea_mnt3',\n",
       " 'voice_in_cmpttrs_avg_durmea_wk1',\n",
       " 'voice_in_cmpttrs_avg_durstd_mnt1',\n",
       " 'voice_in_cmpttrs_avg_durstd_mnt3',\n",
       " 'voice_in_cmpttrs_avg_durtd_mnt3',\n",
       " 'voice_in_cmpttrs_td_cnt_std_mnt1',\n",
       " 'voice_in_cmpttrs_td_cnt_std_mnt3',\n",
       " 'voice_in_cmpttrs_td_cnt_td_mnt3',\n",
       " 'voice_in_fix_tar_dur_max_mnt3',\n",
       " 'voice_in_fix_tar_dur_mea_mnt3',\n",
       " 'voice_in_fix_tar_dur_td_mnt3',\n",
       " 'voice_in_kievstar_part_max_mnt1',\n",
       " 'voice_in_kievstar_part_mea_mnt1',\n",
       " 'voice_in_kievstar_part_mea_mnt3',\n",
       " 'voice_in_kievstar_part_mea_wk1',\n",
       " 'voice_in_kievstar_part_std_mnt1',\n",
       " 'voice_in_kievstar_part_std_mnt3',\n",
       " 'voice_in_kievstar_part_td_mnt3',\n",
       " 'voice_in_life_part_max_mnt3',\n",
       " 'voice_in_life_part_mea_mnt1',\n",
       " 'voice_in_life_part_mea_mnt3',\n",
       " 'voice_in_life_part_std_mnt1',\n",
       " 'voice_in_life_part_std_mnt3',\n",
       " 'voice_in_life_part_td_mnt3',\n",
       " 'voice_in_mts_avg_dur_max_mnt1',\n",
       " 'voice_in_mts_avg_dur_max_mnt3',\n",
       " 'voice_in_mts_avg_dur_mea_mnt1',\n",
       " 'voice_in_mts_avg_dur_mea_mnt3',\n",
       " 'voice_in_mts_avg_dur_mea_wk1',\n",
       " 'voice_in_mts_avg_dur_min_mnt1',\n",
       " 'voice_in_mts_avg_dur_min_mnt3',\n",
       " 'voice_in_mts_avg_dur_std_mnt1',\n",
       " 'voice_in_mts_avg_dur_std_mnt3',\n",
       " 'voice_in_mts_avg_dur_td_mnt3',\n",
       " 'voice_in_short_part_max_mnt3',\n",
       " 'voice_in_short_part_mea_mnt1',\n",
       " 'voice_in_short_part_mea_mnt3',\n",
       " 'voice_in_short_part_std_mnt1',\n",
       " 'voice_in_short_part_std_mnt3',\n",
       " 'voice_in_short_part_td_mnt3',\n",
       " 'voice_in_tar_dur_max_mnt1',\n",
       " 'voice_in_tar_dur_max_mnt3',\n",
       " 'voice_in_tar_dur_mea_mnt1',\n",
       " 'voice_in_tar_dur_mea_mnt3',\n",
       " 'voice_in_tar_dur_mea_wk1',\n",
       " 'voice_in_tar_dur_min_mnt1',\n",
       " 'voice_in_tar_dur_min_mnt3',\n",
       " 'voice_in_tar_dur_std_mnt1',\n",
       " 'voice_in_tar_dur_std_mnt3',\n",
       " 'voice_in_tar_dur_td_mnt3',\n",
       " 'voice_in_td_cnt_max_mnt3',\n",
       " 'voice_in_td_cnt_mea_mnt1',\n",
       " 'voice_in_td_cnt_mea_mnt3',\n",
       " 'voice_in_td_cnt_mea_wk1',\n",
       " 'voice_in_td_cnt_std_mnt1',\n",
       " 'voice_in_td_cnt_std_mnt3',\n",
       " 'voice_in_td_cnt_td_mnt3',\n",
       " 'voice_mts_in_drest_part_max_mnt1',\n",
       " 'voice_mts_in_drest_part_max_mnt3',\n",
       " 'voice_mts_in_drest_part_mea_mnt1',\n",
       " 'voice_mts_in_drest_part_mea_mnt3',\n",
       " 'voice_mts_in_drest_part_mea_wk1',\n",
       " 'voice_mts_in_drest_part_min_mnt1',\n",
       " 'voice_mts_in_drest_part_std_mnt1',\n",
       " 'voice_mts_in_drest_part_std_mnt3',\n",
       " 'voice_mts_in_drest_part_td_mnt3',\n",
       " 'voice_mts_in_dwork_part_max_mnt1',\n",
       " 'voice_mts_in_dwork_part_max_mnt3',\n",
       " 'voice_mts_in_dwork_part_mea_mnt1',\n",
       " 'voice_mts_in_dwork_part_mea_mnt3',\n",
       " 'voice_mts_in_dwork_part_mea_wk1',\n",
       " 'voice_mts_in_dwork_part_min_mnt1',\n",
       " 'voice_mts_in_dwork_part_std_mnt1',\n",
       " 'voice_mts_in_dwork_part_std_mnt3',\n",
       " 'voice_mts_in_dwork_part_td_mnt3',\n",
       " 'voice_mts_in_nrest_part_max_mnt3',\n",
       " 'voice_mts_in_nrest_part_mea_mnt1',\n",
       " 'voice_mts_in_nrest_part_mea_mnt3',\n",
       " 'voice_mts_in_nrest_part_mea_wk1',\n",
       " 'voice_mts_in_nrest_part_std_mnt1',\n",
       " 'voice_mts_in_nrest_part_std_mnt3',\n",
       " 'voice_mts_in_nrest_part_td_mnt3',\n",
       " 'voice_mts_in_nwork_part_max_mnt1',\n",
       " 'voice_mts_in_nwork_part_max_mnt3',\n",
       " 'voice_mts_in_nwork_part_mea_mnt1',\n",
       " 'voice_mts_in_nwork_part_mea_mnt3',\n",
       " 'voice_mts_in_nwork_part_mea_wk1',\n",
       " 'voice_mts_in_nwork_part_std_mnt1',\n",
       " 'voice_mts_in_nwork_part_std_mnt3',\n",
       " 'voice_mts_in_nwork_part_td_mnt3',\n",
       " 'voice_mts_out_drest_partmax_mnt1',\n",
       " 'voice_mts_out_drest_partmax_mnt3',\n",
       " 'voice_mts_out_drest_partmea_mnt1',\n",
       " 'voice_mts_out_drest_partmea_mnt3',\n",
       " 'voice_mts_out_drest_partmea_wk1',\n",
       " 'voice_mts_out_drest_partstd_mnt1',\n",
       " 'voice_mts_out_drest_partstd_mnt3',\n",
       " 'voice_mts_out_drest_parttd_mnt3',\n",
       " 'voice_mts_out_dwork_partmax_mnt1',\n",
       " 'voice_mts_out_dwork_partmea_mnt1',\n",
       " 'voice_mts_out_dwork_partmea_mnt3',\n",
       " 'voice_mts_out_dwork_partmea_wk1',\n",
       " 'voice_mts_out_dwork_partstd_mnt1',\n",
       " 'voice_mts_out_dwork_partstd_mnt3',\n",
       " 'voice_mts_out_dwork_parttd_mnt3',\n",
       " 'voice_mts_out_nrest_partmax_mnt3',\n",
       " 'voice_mts_out_nrest_partstd_mnt3',\n",
       " 'voice_mts_out_nrest_parttd_mnt3',\n",
       " 'voice_mts_out_nwork_partmax_mnt1',\n",
       " 'voice_mts_out_nwork_partmea_mnt1',\n",
       " 'voice_mts_out_nwork_partmea_mnt3',\n",
       " 'voice_mts_out_nwork_partmea_wk1',\n",
       " 'voice_mts_out_nwork_partstd_mnt3',\n",
       " 'voice_mts_out_nwork_parttd_mnt3',\n",
       " 'voice_out_cmpttrs_avg_dumax_mnt3',\n",
       " 'voice_out_cmpttrs_avg_dumea_mnt3',\n",
       " 'voice_out_cmpttrs_avg_dumea_wk1',\n",
       " 'voice_out_cmpttrs_avg_dustd_mnt1',\n",
       " 'voice_out_cmpttrs_avg_dustd_mnt3',\n",
       " 'voice_out_cmpttrs_avg_dutd_mnt3',\n",
       " 'voice_out_cmpttrs_td_cntstd_mnt1',\n",
       " 'voice_out_cmpttrs_td_cntstd_mnt3',\n",
       " 'voice_out_cmpttrs_td_cnttd_mnt3',\n",
       " 'voice_out_short_part_max_mnt3',\n",
       " 'voice_out_short_part_mea_mnt1',\n",
       " 'voice_out_short_part_mea_mnt3',\n",
       " 'voice_out_short_part_std_mnt3',\n",
       " 'voice_out_short_part_td_mnt3',\n",
       " 'voice_out_tar_dur_max_mnt3',\n",
       " 'voice_out_tar_dur_mea_mnt3',\n",
       " 'voice_out_tar_dur_std_mnt1',\n",
       " 'voice_out_tar_dur_std_mnt3',\n",
       " 'voice_out_tar_dur_td_mnt3',\n",
       " 'voice_out_td_cnt_max_mnt3',\n",
       " 'voice_out_td_cnt_mea_mnt3',\n",
       " 'voice_out_td_cnt_mea_wk1',\n",
       " 'voice_out_td_cnt_std_mnt1',\n",
       " 'voice_out_td_cnt_std_mnt3',\n",
       " 'voice_out_td_cnt_td_mnt3'}"
      ]
     },
     "execution_count": 12,
     "metadata": {},
     "output_type": "execute_result"
    },
    {
     "ename": "",
     "evalue": "",
     "output_type": "error",
     "traceback": [
      "\u001b[1;31mThe Kernel crashed while executing code in the current cell or a previous cell. \n",
      "\u001b[1;31mPlease review the code in the cell(s) to identify a possible cause of the failure. \n",
      "\u001b[1;31mClick <a href='https://aka.ms/vscodeJupyterKernelCrash'>here</a> for more info. \n",
      "\u001b[1;31mView Jupyter <a href='command:jupyter.viewOutput'>log</a> for further details."
     ]
    }
   ],
   "source": [
    "# fetch array from json file\n",
    "import json\n",
    "\n",
    "with open(\"LightGbmV1_p041_r064_089auc.json\", \"r\") as f:\n",
    "    LightGbmV1_p041_r064_089auc = json.load(f)\n",
    "\n",
    "with open(\"LightGbmV2_p069_r033_090auc_features.json\", \"r\") as f:\n",
    "    LightGbmV2_p069_r033_090auc_features = json.load(f)\n",
    "\n",
    "with open(\"XgboostV1_p070_r032_090auc.json\", \"r\") as f:\n",
    "    XgboostV1_p070_r032_090auc = json.load(f)\n",
    "\n",
    "\n",
    "new_features = set(LightGbmV1_p041_r064_089auc + LightGbmV2_p069_r033_090auc_features + XgboostV1_p070_r032_090auc)\n",
    "\n",
    "new_features"
   ]
  },
  {
   "cell_type": "code",
   "execution_count": null,
   "metadata": {},
   "outputs": [],
   "source": [
    "import warnings\n",
    "\n",
    "import numpy as np\n",
    "import pandas as pd\n",
    "import matplotlib.pyplot as plt\n",
    "import warnings\n",
    "\n",
    "\n",
    "def plot_distribution_pairs(train, test, feature, hue=\"set\", palette=None):\n",
    "    data_df = train.copy()\n",
    "    data_df[\"set\"] = \"train\"\n",
    "    data_df = pd.concat([data_df, test.copy()]).fillna(\"test\")\n",
    "    data_df.replace([np.inf, -np.inf], np.nan, inplace=True)\n",
    "\n",
    "    f, axes = plt.subplots(1, 2, figsize=(14, 6))\n",
    "    for i, s in enumerate(data_df[hue].unique()):\n",
    "        selection = data_df.loc[data_df[hue] == s, feature]\n",
    "        # Filter 'selection' to include only the central 95% of the data\n",
    "        q_025, q_975 = np.percentile(selection, [2.5, 97.5])\n",
    "        selection_filtered = selection[(selection >= q_025) & (selection <= q_975)]\n",
    "        with warnings.catch_warnings():\n",
    "            warnings.simplefilter(\"ignore\", category=FutureWarning)\n",
    "            sns.histplot(selection_filtered, color=palette[i], ax=axes[0], label=s)\n",
    "            sns.boxplot(x=hue, y=feature, data=data_df, palette=palette, ax=axes[1])\n",
    "    axes[0].set_title(f\"Paired train/test distributions of {feature}\")\n",
    "    axes[1].set_title(f\"Paired train/test boxplots of {feature}\")\n",
    "    axes[0].legend()\n",
    "    axes[1].legend()\n",
    "    plt.show()\n",
    "\n",
    "\n",
    "for feature in train.columns:\n",
    "    plot_distribution_pairs(train, test, feature, palette=color_list)"
   ]
  }
 ],
 "metadata": {
  "kernelspec": {
   "display_name": "Python 3",
   "language": "python",
   "name": "python3"
  },
  "language_info": {
   "codemirror_mode": {
    "name": "ipython",
    "version": 3
   },
   "file_extension": ".py",
   "mimetype": "text/x-python",
   "name": "python",
   "nbconvert_exporter": "python",
   "pygments_lexer": "ipython3",
   "version": "3.10.13"
  }
 },
 "nbformat": 4,
 "nbformat_minor": 2
}
