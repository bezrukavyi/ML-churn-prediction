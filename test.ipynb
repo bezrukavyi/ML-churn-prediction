{
 "cells": [
  {
   "cell_type": "code",
   "execution_count": 56,
   "metadata": {},
   "outputs": [
    {
     "name": "stdout",
     "output_type": "stream",
     "text": [
      "The autoreload extension is already loaded. To reload it, use:\n",
      "  %reload_ext autoreload\n"
     ]
    }
   ],
   "source": [
    "%load_ext autoreload\n",
    "%autoreload 2\n",
    "\n",
    "import optuna\n",
    "from steps.prepare_data import load_processed_data\n",
    "from utils.model import predict"
   ]
  },
  {
   "cell_type": "code",
   "execution_count": 60,
   "metadata": {},
   "outputs": [
    {
     "name": "stdout",
     "output_type": "stream",
     "text": [
      "Train\n",
      "\n",
      "Metrics\n",
      "Accuracy: 0.9377858371444953\n",
      "Precision: 0.5066871068351219\n",
      "FPR: 0.06646108266328617 \n",
      "\n",
      "Test\n",
      "\n",
      "Metrics\n",
      "Accuracy: 0.89296\n",
      "Precision: 0.33299864451026656\n",
      "FPR: 0.09449703763238192 \n",
      "\n"
     ]
    },
    {
     "data": {
      "text/plain": [
       "array([0., 0., 0., ..., 0., 0., 1.])"
      ]
     },
     "execution_count": 60,
     "metadata": {},
     "output_type": "execute_result"
    }
   ],
   "source": [
    "train_data, test_data = load_processed_data()\n",
    "\n",
    "model_name = \"LightGbmV1_refactoring_v2.pickle\"\n",
    "\n",
    "print(\"Train\")\n",
    "predict(model_name, train_data)\n",
    "\n",
    "print(\"Test\")\n",
    "predict(model_name, test_data)\n",
    "\n",
    "None"
   ]
  }
 ],
 "metadata": {
  "language_info": {
   "name": "python"
  }
 },
 "nbformat": 4,
 "nbformat_minor": 2
}
