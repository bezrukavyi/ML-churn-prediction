{
 "cells": [
  {
   "cell_type": "code",
   "execution_count": 2,
   "metadata": {},
   "outputs": [],
   "source": [
    "%load_ext autoreload\n",
    "%autoreload 2\n",
    "\n",
    "import optuna\n",
    "import pandas as pd\n",
    "import lightgbm as lgb\n",
    "import matplotlib.pyplot as plt\n",
    "import shap\n",
    "import numpy as np\n",
    "import scipy\n",
    "import seaborn as sns\n",
    "\n",
    "from steps.prepare_data import load_split_processed_data, process_train_data, process_test_data\n",
    "from utils.model import predict_booster, load_model, Metrics, predict_xgbm, predict"
   ]
  },
  {
   "cell_type": "code",
   "execution_count": 3,
   "metadata": {},
   "outputs": [
    {
     "name": "stdout",
     "output_type": "stream",
     "text": [
      "-----------Train----------\n",
      "\n",
      "Metrics\n",
      "AUC: 0.97\n",
      "Classification Report:\n",
      "              precision    recall  f1-score   support\n",
      "\n",
      "           0       0.97      0.99      0.98    140413\n",
      "           1       0.80      0.53      0.64      9585\n",
      "\n",
      "    accuracy                           0.96    149998\n",
      "   macro avg       0.88      0.76      0.81    149998\n",
      "weighted avg       0.96      0.96      0.96    149998\n",
      "\n",
      "-----------Test----------\n",
      "\n",
      "Metrics\n",
      "AUC: 0.90\n",
      "Classification Report:\n",
      "              precision    recall  f1-score   support\n",
      "\n",
      "           0       0.96      0.98      0.97    140597\n",
      "           1       0.62      0.40      0.48      9403\n",
      "\n",
      "    accuracy                           0.95    150000\n",
      "   macro avg       0.79      0.69      0.73    150000\n",
      "weighted avg       0.94      0.95      0.94    150000\n",
      "\n"
     ]
    }
   ],
   "source": [
    "train_data, test_data = load_split_processed_data()\n",
    "\n",
    "model_name = \"LightGbmV2_LightGbmV2_all_features_v1_with_oversampling_1_priority_v4_auc_score.pickle\"\n",
    "\n",
    "train_data_x = train_data.drop(columns=[\"target\"])\n",
    "train_data_y = train_data[\"target\"]\n",
    "\n",
    "test_data_x = test_data.drop(columns=[\"target\"])\n",
    "test_data_y = test_data[\"target\"]\n",
    "\n",
    "print(\"-----------Train----------\")\n",
    "predict_booster(model_name, train_data)\n",
    "\n",
    "print(\"-----------Test----------\")\n",
    "predict_booster(model_name, test_data)\n",
    "\n",
    "model_first, features_firsts = load_model(model_name)"
   ]
  },
  {
   "cell_type": "code",
   "execution_count": 1,
   "metadata": {},
   "outputs": [
    {
     "ename": "NameError",
     "evalue": "name 'load_split_processed_data' is not defined",
     "output_type": "error",
     "traceback": [
      "\u001b[0;31m---------------------------------------------------------------------------\u001b[0m",
      "\u001b[0;31mNameError\u001b[0m                                 Traceback (most recent call last)",
      "Cell \u001b[0;32mIn[1], line 1\u001b[0m\n\u001b[0;32m----> 1\u001b[0m train_data, test_data \u001b[38;5;241m=\u001b[39m \u001b[43mload_split_processed_data\u001b[49m()\n\u001b[1;32m      3\u001b[0m model_name \u001b[38;5;241m=\u001b[39m \u001b[38;5;124m\"\u001b[39m\u001b[38;5;124mLightGbmV2_LightGbmV2_all_features_v1_with_oversampling_1_priority_v4_auc_score.pickle\u001b[39m\u001b[38;5;124m\"\u001b[39m\n\u001b[1;32m      5\u001b[0m train_data_x \u001b[38;5;241m=\u001b[39m train_data\u001b[38;5;241m.\u001b[39mdrop(columns\u001b[38;5;241m=\u001b[39m[\u001b[38;5;124m\"\u001b[39m\u001b[38;5;124mtarget\u001b[39m\u001b[38;5;124m\"\u001b[39m])\n",
      "\u001b[0;31mNameError\u001b[0m: name 'load_split_processed_data' is not defined"
     ]
    }
   ],
   "source": [
    "train_data, test_data = load_split_processed_data()\n",
    "\n",
    "model_name = \"LightGbmV2_LightGbmV2_all_features_v1_with_oversampling_1_priority_v4_auc_score.pickle\"\n",
    "\n",
    "train_data_x = train_data.drop(columns=[\"target\"])\n",
    "train_data_y = train_data[\"target\"]\n",
    "\n",
    "test_data_x = test_data.drop(columns=[\"target\"])\n",
    "test_data_y = test_data[\"target\"]\n",
    "\n",
    "print(\"-----------Train----------\")\n",
    "predict_booster(model_name, train_data)\n",
    "\n",
    "print(\"-----------Test----------\")\n",
    "predict_booster(model_name, test_data)\n",
    "\n",
    "model_second, features_second = load_model(model_name)"
   ]
  },
  {
   "cell_type": "code",
   "execution_count": 7,
   "metadata": {},
   "outputs": [
    {
     "ename": "NameError",
     "evalue": "name 'model_second' is not defined",
     "output_type": "error",
     "traceback": [
      "\u001b[0;31m---------------------------------------------------------------------------\u001b[0m",
      "\u001b[0;31mNameError\u001b[0m                                 Traceback (most recent call last)",
      "Cell \u001b[0;32mIn[7], line 9\u001b[0m\n\u001b[1;32m      6\u001b[0m y_true \u001b[38;5;241m=\u001b[39m dataframe\u001b[38;5;241m.\u001b[39mtarget\n\u001b[1;32m      8\u001b[0m y_pred_proba_first \u001b[38;5;241m=\u001b[39m model_first\u001b[38;5;241m.\u001b[39mpredict(X, num_iteration\u001b[38;5;241m=\u001b[39mmodel_first\u001b[38;5;241m.\u001b[39mbest_iteration)\n\u001b[0;32m----> 9\u001b[0m y_pred_proba_second \u001b[38;5;241m=\u001b[39m \u001b[43mmodel_second\u001b[49m\u001b[38;5;241m.\u001b[39mpredict(X, num_iteration\u001b[38;5;241m=\u001b[39mmodel_second\u001b[38;5;241m.\u001b[39mbest_iteration)\n\u001b[1;32m     11\u001b[0m y_pred_proba \u001b[38;5;241m=\u001b[39m \u001b[38;5;241m0.4\u001b[39m \u001b[38;5;241m*\u001b[39m y_pred_proba_first \u001b[38;5;241m+\u001b[39m \u001b[38;5;241m0.6\u001b[39m \u001b[38;5;241m*\u001b[39m y_pred_proba_second\n\u001b[1;32m     13\u001b[0m threshold \u001b[38;5;241m=\u001b[39m \u001b[38;5;241m0.5\u001b[39m\n",
      "\u001b[0;31mNameError\u001b[0m: name 'model_second' is not defined"
     ]
    }
   ],
   "source": [
    "dataframe = test_data\n",
    "\n",
    "features = features_firsts\n",
    "\n",
    "X = dataframe[features]\n",
    "y_true = dataframe.target\n",
    "\n",
    "y_pred_proba_first = model_first.predict(X, num_iteration=model_first.best_iteration)\n",
    "y_pred_proba_second = model_second.predict(X, num_iteration=model_second.best_iteration)\n",
    "\n",
    "y_pred_proba = 0.4 * y_pred_proba_first + 0.6 * y_pred_proba_second\n",
    "\n",
    "threshold = 0.5\n",
    "y_pred = (y_pred_proba >= threshold).astype(int)\n",
    "\n",
    "Metrics().call(y_true, y_pred, y_pred_proba)"
   ]
  }
 ],
 "metadata": {
  "kernelspec": {
   "display_name": "Python 3",
   "language": "python",
   "name": "python3"
  },
  "language_info": {
   "codemirror_mode": {
    "name": "ipython",
    "version": 3
   },
   "file_extension": ".py",
   "mimetype": "text/x-python",
   "name": "python",
   "nbconvert_exporter": "python",
   "pygments_lexer": "ipython3",
   "version": "3.10.13"
  }
 },
 "nbformat": 4,
 "nbformat_minor": 2
}
