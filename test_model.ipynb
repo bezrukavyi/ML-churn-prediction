{
 "cells": [
  {
   "cell_type": "code",
   "execution_count": 28,
   "metadata": {},
   "outputs": [
    {
     "name": "stdout",
     "output_type": "stream",
     "text": [
      "The autoreload extension is already loaded. To reload it, use:\n",
      "  %reload_ext autoreload\n"
     ]
    }
   ],
   "source": [
    "%load_ext autoreload\n",
    "%autoreload 2\n",
    "\n",
    "import optuna\n",
    "import pandas as pd\n",
    "import lightgbm as lgb\n",
    "import matplotlib.pyplot as plt\n",
    "import shap\n",
    "import numpy as np\n",
    "import scipy\n",
    "import seaborn as sns\n",
    "\n",
    "from steps.prepare_data import load_split_processed_data, process_train_data, process_test_data\n",
    "from utils.model import predict_booster, load_model, Metrics, predict_xgbm"
   ]
  },
  {
   "cell_type": "code",
   "execution_count": 34,
   "metadata": {},
   "outputs": [
    {
     "name": "stdout",
     "output_type": "stream",
     "text": [
      "-----------Train----------\n",
      "\n",
      "Metrics\n",
      "AUC: 0.96\n",
      "Classification Report:\n",
      "              precision    recall  f1-score   support\n",
      "\n",
      "           0       0.96      0.99      0.98    140413\n",
      "           1       0.83      0.42      0.56      9585\n",
      "\n",
      "    accuracy                           0.96    149998\n",
      "   macro avg       0.89      0.71      0.77    149998\n",
      "weighted avg       0.95      0.96      0.95    149998\n",
      "\n",
      "-----------Test----------\n",
      "\n",
      "Metrics\n",
      "AUC: 0.90\n",
      "Classification Report:\n",
      "              precision    recall  f1-score   support\n",
      "\n",
      "           0       0.96      0.99      0.97    140597\n",
      "           1       0.69      0.33      0.45      9403\n",
      "\n",
      "    accuracy                           0.95    150000\n",
      "   macro avg       0.82      0.66      0.71    150000\n",
      "weighted avg       0.94      0.95      0.94    150000\n",
      "\n"
     ]
    }
   ],
   "source": [
    "# process_train_data()\n",
    "# process_test_data()\n",
    "\n",
    "train_data, test_data = load_split_processed_data()\n",
    "\n",
    "model_name = \"BEST_LightGbmV2_p069_r033_090auc_90_features.pickle\"\n",
    "\n",
    "print(\"-----------Train----------\")\n",
    "predict_booster(model_name, train_data)\n",
    "\n",
    "print(\"-----------Test----------\")\n",
    "predict_booster(model_name, test_data)\n",
    "\n",
    "None"
   ]
  }
 ],
 "metadata": {
  "kernelspec": {
   "display_name": "Python 3",
   "language": "python",
   "name": "python3"
  },
  "language_info": {
   "codemirror_mode": {
    "name": "ipython",
    "version": 3
   },
   "file_extension": ".py",
   "mimetype": "text/x-python",
   "name": "python",
   "nbconvert_exporter": "python",
   "pygments_lexer": "ipython3",
   "version": "3.10.13"
  }
 },
 "nbformat": 4,
 "nbformat_minor": 2
}
