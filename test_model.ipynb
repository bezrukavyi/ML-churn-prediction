{
 "cells": [
  {
   "cell_type": "code",
   "execution_count": 35,
   "metadata": {},
   "outputs": [
    {
     "name": "stdout",
     "output_type": "stream",
     "text": [
      "The autoreload extension is already loaded. To reload it, use:\n",
      "  %reload_ext autoreload\n"
     ]
    }
   ],
   "source": [
    "%load_ext autoreload\n",
    "%autoreload 2\n",
    "\n",
    "import optuna\n",
    "import pandas as pd\n",
    "import lightgbm as lgb\n",
    "import matplotlib.pyplot as plt\n",
    "import shap\n",
    "import numpy as np\n",
    "import scipy\n",
    "import seaborn as sns\n",
    "\n",
    "from steps.prepare_data import load_split_processed_data, process_train_data, process_test_data\n",
    "from utils.model import predict_booster, load_model, Metrics, predict_xgbm"
   ]
  },
  {
   "cell_type": "code",
   "execution_count": 36,
   "metadata": {},
   "outputs": [
    {
     "name": "stdout",
     "output_type": "stream",
     "text": [
      "-----------Train----------\n",
      "\n",
      "Metrics\n",
      "AUC: 0.97\n",
      "Classification Report:\n",
      "              precision    recall  f1-score   support\n",
      "\n",
      "           0       0.97      1.00      0.98    140413\n",
      "           1       0.88      0.48      0.62      9585\n",
      "\n",
      "    accuracy                           0.96    149998\n",
      "   macro avg       0.92      0.74      0.80    149998\n",
      "weighted avg       0.96      0.96      0.96    149998\n",
      "\n",
      "-----------Test----------\n",
      "\n",
      "Metrics\n",
      "AUC: 0.90\n",
      "Classification Report:\n",
      "              precision    recall  f1-score   support\n",
      "\n",
      "           0       0.96      0.99      0.97    140597\n",
      "           1       0.68      0.33      0.45      9403\n",
      "\n",
      "    accuracy                           0.95    150000\n",
      "   macro avg       0.82      0.66      0.71    150000\n",
      "weighted avg       0.94      0.95      0.94    150000\n",
      "\n"
     ]
    },
    {
     "ename": "",
     "evalue": "",
     "output_type": "error",
     "traceback": [
      "\u001b[1;31mThe Kernel crashed while executing code in the current cell or a previous cell. \n",
      "\u001b[1;31mPlease review the code in the cell(s) to identify a possible cause of the failure. \n",
      "\u001b[1;31mClick <a href='https://aka.ms/vscodeJupyterKernelCrash'>here</a> for more info. \n",
      "\u001b[1;31mView Jupyter <a href='command:jupyter.viewOutput'>log</a> for further details."
     ]
    }
   ],
   "source": [
    "# process_train_data()\n",
    "# process_test_data()\n",
    "\n",
    "train_data, test_data = load_split_processed_data()\n",
    "\n",
    "model_name = \"LightGbmV2_reduced_features_v2_tuning_v3.pickle\"\n",
    "\n",
    "print(\"-----------Train----------\")\n",
    "predict_booster(model_name, train_data)\n",
    "\n",
    "print(\"-----------Test----------\")\n",
    "predict_booster(model_name, test_data)\n",
    "\n",
    "None"
   ]
  }
 ],
 "metadata": {
  "kernelspec": {
   "display_name": "Python 3",
   "language": "python",
   "name": "python3"
  },
  "language_info": {
   "codemirror_mode": {
    "name": "ipython",
    "version": 3
   },
   "file_extension": ".py",
   "mimetype": "text/x-python",
   "name": "python",
   "nbconvert_exporter": "python",
   "pygments_lexer": "ipython3",
   "version": "3.10.13"
  }
 },
 "nbformat": 4,
 "nbformat_minor": 2
}
