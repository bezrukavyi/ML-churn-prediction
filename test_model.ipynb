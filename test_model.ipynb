{
 "cells": [
  {
   "cell_type": "code",
   "execution_count": 10,
   "metadata": {},
   "outputs": [
    {
     "name": "stdout",
     "output_type": "stream",
     "text": [
      "The autoreload extension is already loaded. To reload it, use:\n",
      "  %reload_ext autoreload\n"
     ]
    }
   ],
   "source": [
    "%load_ext autoreload\n",
    "%autoreload 2\n",
    "\n",
    "import optuna\n",
    "import pandas as pd\n",
    "import lightgbm as lgb\n",
    "import matplotlib.pyplot as plt\n",
    "import shap\n",
    "import numpy as np\n",
    "import scipy\n",
    "import seaborn as sns\n",
    "\n",
    "from steps.prepare_data import load_split_processed_data, process_train_data, process_test_data\n",
    "from utils.model import predict_booster, load_model, Metrics, predict_xgbm, predict"
   ]
  },
  {
   "cell_type": "code",
   "execution_count": 11,
   "metadata": {},
   "outputs": [
    {
     "name": "stderr",
     "output_type": "stream",
     "text": [
      "2024-07-05 00:27:48 - Running pipeline: TRANSFORM_TRAIN (0:09:36)\n",
      "2024-07-05 00:27:48 - 0. Running step: set_missings (0:09:36)\n"
     ]
    },
    {
     "name": "stdout",
     "output_type": "stream",
     "text": [
      "Processing train data...\n",
      "-----------------\n"
     ]
    },
    {
     "name": "stderr",
     "output_type": "stream",
     "text": [
      "2024-07-05 00:27:51 - 1. Running step: reduce_mem_usage (0:09:38)\n",
      "2024-07-05 00:27:51 - 2. Running step: merge_train_dpi_features (0:09:39)\n"
     ]
    },
    {
     "name": "stdout",
     "output_type": "stream",
     "text": [
      "Mem. usage decreased to 231.19 Mb (75.0% reduction)\n"
     ]
    },
    {
     "name": "stderr",
     "output_type": "stream",
     "text": [
      "2024-07-05 00:27:51 - 3. Running step: merge_train_fe_features (0:09:39)\n",
      "2024-07-05 00:27:52 - 4. Running step: merge_train_fe_total_features (0:09:40)\n",
      "2024-07-05 00:27:52 - 5. Running step: merge_train_bnum_features (0:09:40)\n",
      "2024-07-05 00:27:53 - 6. Running step: remove_abon_id_step (0:09:41)\n",
      "2024-07-05 00:27:53 - 7. Running step: feature_selection (0:09:41)\n",
      "2024-07-05 00:27:53 - 9. Done (0:09:41)\n"
     ]
    },
    {
     "name": "stdout",
     "output_type": "stream",
     "text": [
      "-----------------\n",
      "\n",
      "Shape: (149998, 613)\n",
      "Columns: Index(['device_brand_nan', 'voice_mts_in_dwork_part_td_mnt3',\n",
      "       'data_3g_dou_std_mnt3', 'voice_in_kievstar_part_mea_total',\n",
      "       'com_num_part_max_mnt3', 'conn_com_part_std_total', 'MV_Traf_3G_d_Mb',\n",
      "       'voice_out_td_cnt_std_diff', 'voice_mts_in_dwork_part_std_total',\n",
      "       'count_day_for_last_paym',\n",
      "       ...\n",
      "       'vodafone_topic_cnt_sms_in_sum', 'messengers_topic_cnt_sms_in_sum',\n",
      "       'finance_topic_cnt_sms_in_sum', 'casual_topic_cnt_sms_in_sum_share',\n",
      "       'vodafone_topic_cnt_sms_in_sum_share',\n",
      "       'finance_topic_cnt_sms_in_sum_share',\n",
      "       'messengers_topic_cnt_sms_in_sum_share', 'vodafone_act_cnt_sms_in',\n",
      "       'casual_act_cnt_sms_in', 'target'],\n",
      "      dtype='object', length=613)\n"
     ]
    },
    {
     "name": "stderr",
     "output_type": "stream",
     "text": [
      "2024-07-05 00:27:54 - Running pipeline: TRANSFORM_TEST (0:09:42)\n",
      "2024-07-05 00:27:54 - 0. Running step: set_missings (0:09:42)\n"
     ]
    },
    {
     "name": "stdout",
     "output_type": "stream",
     "text": [
      "Data saved\n",
      "Processing test data...\n",
      "-----------------\n"
     ]
    },
    {
     "name": "stderr",
     "output_type": "stream",
     "text": [
      "2024-07-05 00:27:57 - 1. Running step: reduce_mem_usage (0:09:45)\n",
      "2024-07-05 00:27:57 - 2. Running step: merge_test_dpi_features (0:09:45)\n"
     ]
    },
    {
     "name": "stdout",
     "output_type": "stream",
     "text": [
      "Mem. usage decreased to 225.88 Mb (75.5% reduction)\n"
     ]
    },
    {
     "name": "stderr",
     "output_type": "stream",
     "text": [
      "2024-07-05 00:27:58 - 3. Running step: merge_test_bnum_features (0:09:46)\n",
      "2024-07-05 00:27:58 - 4. Running step: merge_test_fe_features (0:09:46)\n",
      "2024-07-05 00:27:58 - 5. Running step: merge_test_fe_total_features (0:09:46)\n",
      "2024-07-05 00:27:59 - 7. Done (0:09:47)\n"
     ]
    },
    {
     "name": "stdout",
     "output_type": "stream",
     "text": [
      "-----------------\n",
      "\n",
      "Shape: (150000, 1467)\n",
      "Columns: Index(['Ama_rchrgmnt_sum_max_mnt1', 'content_clc_mea_mnt1',\n",
      "       'content_cnt_max_mnt1', 'voice_out_short_part_max_mnt1',\n",
      "       'voice_mts_in_nrest_part_std_mnt1', 'num_act_days_max_mnt1',\n",
      "       'sms_roam_clc_min_mnt1', 'voice_in_cmpttrs_avg_durmin_mnt1',\n",
      "       'com_num_part_mea_mnt1', 'pay_avg_mea_mnt1',\n",
      "       ...\n",
      "       'accum_oth_dur_td_total', 'data_3g_tv_cnt_td_total',\n",
      "       'voice_in_td_cnt_min_total', 'abon_part_td_total',\n",
      "       'com_num_part_std_total', 'sms_in_cnt_std_total',\n",
      "       'pay_p2p_out_sum_td_total', 'pay_max_td_total',\n",
      "       'voice_in_short_part_td_total', 'voice_out_cmpttrs_avg_dumin_total'],\n",
      "      dtype='object', length=1467)\n",
      "Data saved\n"
     ]
    }
   ],
   "source": [
    "process_train_data()\n",
    "process_test_data()"
   ]
  },
  {
   "cell_type": "code",
   "execution_count": 1,
   "metadata": {},
   "outputs": [
    {
     "ename": "NameError",
     "evalue": "name 'load_split_processed_data' is not defined",
     "output_type": "error",
     "traceback": [
      "\u001b[0;31m---------------------------------------------------------------------------\u001b[0m",
      "\u001b[0;31mNameError\u001b[0m                                 Traceback (most recent call last)",
      "Cell \u001b[0;32mIn[1], line 1\u001b[0m\n\u001b[0;32m----> 1\u001b[0m train_data, test_data \u001b[38;5;241m=\u001b[39m \u001b[43mload_split_processed_data\u001b[49m()\n\u001b[1;32m      3\u001b[0m model_name \u001b[38;5;241m=\u001b[39m \u001b[38;5;124m\"\u001b[39m\u001b[38;5;124mXgboostV1_new_feature_selection_v1_with_tuning_v2.pickle\u001b[39m\u001b[38;5;124m\"\u001b[39m\n\u001b[1;32m      5\u001b[0m train_data_x \u001b[38;5;241m=\u001b[39m train_data\u001b[38;5;241m.\u001b[39mdrop(columns\u001b[38;5;241m=\u001b[39m[\u001b[38;5;124m\"\u001b[39m\u001b[38;5;124mtarget\u001b[39m\u001b[38;5;124m\"\u001b[39m])\n",
      "\u001b[0;31mNameError\u001b[0m: name 'load_split_processed_data' is not defined"
     ]
    }
   ],
   "source": [
    "train_data, test_data = load_split_processed_data()\n",
    "\n",
    "model_name = \"LightGbmV2_LightGbmV2_all_features_v1_with_oversampling_1_priority_v4_auc_score.pickle\"\n",
    "\n",
    "train_data_x = train_data.drop(columns=[\"target\"])\n",
    "train_data_y = train_data[\"target\"]\n",
    "\n",
    "test_data_x = test_data.drop(columns=[\"target\"])\n",
    "test_data_y = test_data[\"target\"]\n",
    "\n",
    "print(\"-----------Train----------\")\n",
    "predict_booster(model_name, train_data)\n",
    "\n",
    "print(\"-----------Test----------\")\n",
    "predict_booster(model_name, test_data)\n",
    "\n",
    "model_first, features_firsts = load_model(model_name)"
   ]
  },
  {
   "cell_type": "code",
   "execution_count": 1,
   "metadata": {},
   "outputs": [
    {
     "ename": "NameError",
     "evalue": "name 'load_split_processed_data' is not defined",
     "output_type": "error",
     "traceback": [
      "\u001b[0;31m---------------------------------------------------------------------------\u001b[0m",
      "\u001b[0;31mNameError\u001b[0m                                 Traceback (most recent call last)",
      "Cell \u001b[0;32mIn[1], line 1\u001b[0m\n\u001b[0;32m----> 1\u001b[0m train_data, test_data \u001b[38;5;241m=\u001b[39m \u001b[43mload_split_processed_data\u001b[49m()\n\u001b[1;32m      3\u001b[0m model_name \u001b[38;5;241m=\u001b[39m \u001b[38;5;124m\"\u001b[39m\u001b[38;5;124mLightGbmV2_LightGbmV2_all_features_v1_with_oversampling_1_priority_v4_auc_score.pickle\u001b[39m\u001b[38;5;124m\"\u001b[39m\n\u001b[1;32m      5\u001b[0m train_data_x \u001b[38;5;241m=\u001b[39m train_data\u001b[38;5;241m.\u001b[39mdrop(columns\u001b[38;5;241m=\u001b[39m[\u001b[38;5;124m\"\u001b[39m\u001b[38;5;124mtarget\u001b[39m\u001b[38;5;124m\"\u001b[39m])\n",
      "\u001b[0;31mNameError\u001b[0m: name 'load_split_processed_data' is not defined"
     ]
    }
   ],
   "source": [
    "train_data, test_data = load_split_processed_data()\n",
    "\n",
    "model_name = \"LightGbmV2_LightGbmV2_all_features_v1_with_oversampling_1_priority_v4_auc_score.pickle\"\n",
    "\n",
    "train_data_x = train_data.drop(columns=[\"target\"])\n",
    "train_data_y = train_data[\"target\"]\n",
    "\n",
    "test_data_x = test_data.drop(columns=[\"target\"])\n",
    "test_data_y = test_data[\"target\"]\n",
    "\n",
    "print(\"-----------Train----------\")\n",
    "predict_booster(model_name, train_data)\n",
    "\n",
    "print(\"-----------Test----------\")\n",
    "predict_booster(model_name, test_data)\n",
    "\n",
    "model_second, features_second = load_model(model_name)"
   ]
  },
  {
   "cell_type": "code",
   "execution_count": 7,
   "metadata": {},
   "outputs": [
    {
     "ename": "NameError",
     "evalue": "name 'model_second' is not defined",
     "output_type": "error",
     "traceback": [
      "\u001b[0;31m---------------------------------------------------------------------------\u001b[0m",
      "\u001b[0;31mNameError\u001b[0m                                 Traceback (most recent call last)",
      "Cell \u001b[0;32mIn[7], line 9\u001b[0m\n\u001b[1;32m      6\u001b[0m y_true \u001b[38;5;241m=\u001b[39m dataframe\u001b[38;5;241m.\u001b[39mtarget\n\u001b[1;32m      8\u001b[0m y_pred_proba_first \u001b[38;5;241m=\u001b[39m model_first\u001b[38;5;241m.\u001b[39mpredict(X, num_iteration\u001b[38;5;241m=\u001b[39mmodel_first\u001b[38;5;241m.\u001b[39mbest_iteration)\n\u001b[0;32m----> 9\u001b[0m y_pred_proba_second \u001b[38;5;241m=\u001b[39m \u001b[43mmodel_second\u001b[49m\u001b[38;5;241m.\u001b[39mpredict(X, num_iteration\u001b[38;5;241m=\u001b[39mmodel_second\u001b[38;5;241m.\u001b[39mbest_iteration)\n\u001b[1;32m     11\u001b[0m y_pred_proba \u001b[38;5;241m=\u001b[39m \u001b[38;5;241m0.4\u001b[39m \u001b[38;5;241m*\u001b[39m y_pred_proba_first \u001b[38;5;241m+\u001b[39m \u001b[38;5;241m0.6\u001b[39m \u001b[38;5;241m*\u001b[39m y_pred_proba_second\n\u001b[1;32m     13\u001b[0m threshold \u001b[38;5;241m=\u001b[39m \u001b[38;5;241m0.5\u001b[39m\n",
      "\u001b[0;31mNameError\u001b[0m: name 'model_second' is not defined"
     ]
    }
   ],
   "source": [
    "dataframe = test_data\n",
    "\n",
    "features = features_firsts\n",
    "\n",
    "X = dataframe[features]\n",
    "y_true = dataframe.target\n",
    "\n",
    "y_pred_proba_first = model_first.predict(X, num_iteration=model_first.best_iteration)\n",
    "y_pred_proba_second = model_second.predict(X, num_iteration=model_second.best_iteration)\n",
    "\n",
    "y_pred_proba = 0.4 * y_pred_proba_first + 0.6 * y_pred_proba_second\n",
    "\n",
    "threshold = 0.5\n",
    "y_pred = (y_pred_proba >= threshold).astype(int)\n",
    "\n",
    "Metrics().call(y_true, y_pred, y_pred_proba)"
   ]
  }
 ],
 "metadata": {
  "kernelspec": {
   "display_name": "Python 3",
   "language": "python",
   "name": "python3"
  },
  "language_info": {
   "codemirror_mode": {
    "name": "ipython",
    "version": 3
   },
   "file_extension": ".py",
   "mimetype": "text/x-python",
   "name": "python",
   "nbconvert_exporter": "python",
   "pygments_lexer": "ipython3",
   "version": "3.10.13"
  }
 },
 "nbformat": 4,
 "nbformat_minor": 2
}
