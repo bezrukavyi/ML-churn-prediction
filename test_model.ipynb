{
 "cells": [
  {
   "cell_type": "code",
   "execution_count": 2,
   "metadata": {},
   "outputs": [],
   "source": [
    "%load_ext autoreload\n",
    "%autoreload 2\n",
    "\n",
    "import optuna\n",
    "import pandas as pd\n",
    "import lightgbm as lgb\n",
    "import matplotlib.pyplot as plt\n",
    "import shap\n",
    "import numpy as np\n",
    "import scipy\n",
    "import seaborn as sns\n",
    "\n",
    "from steps.prepare_data import load_split_processed_data, process_train_data, process_test_data\n",
    "from utils.model import predict_booster, load_model, Metrics, predict_xgbm, predict"
   ]
  },
  {
   "cell_type": "code",
   "execution_count": 4,
   "metadata": {},
   "outputs": [],
   "source": [
    "train_data, test_data = load_split_processed_data()\n",
    "\n",
    "model_name = \"LightGbmV2_new_total_features_fe_with_selection_v2_tuning_v2.pickle\"\n",
    "\n",
    "train_data_x = train_data.drop(columns=[\"target\"])\n",
    "train_data_y = train_data[\"target\"]\n",
    "\n",
    "test_data_x = test_data.drop(columns=[\"target\"])\n",
    "test_data_y = test_data[\"target\"]\n",
    "\n",
    "print(\"-----------Train----------\")\n",
    "predict_booster(model_name, train_data)\n",
    "\n",
    "print(\"-----------Test----------\")\n",
    "predict_booster(model_name, test_data)\n",
    "\n",
    "model_first, features_firsts = load_model(model_name)"
   ]
  },
  {
   "cell_type": "code",
   "execution_count": 16,
   "metadata": {},
   "outputs": [
    {
     "name": "stdout",
     "output_type": "stream",
     "text": [
      "-----------Train----------\n",
      "\n",
      "Metrics\n",
      "AUC: 0.94\n",
      "Classification Report:\n",
      "              precision    recall  f1-score   support\n",
      "\n",
      "           0       0.96      0.99      0.98    140413\n",
      "           1       0.81      0.37      0.51      9585\n",
      "\n",
      "    accuracy                           0.95    149998\n",
      "   macro avg       0.88      0.68      0.74    149998\n",
      "weighted avg       0.95      0.95      0.95    149998\n",
      "\n",
      "-----------Test----------\n",
      "\n",
      "Metrics\n",
      "AUC: 0.90\n",
      "Classification Report:\n",
      "              precision    recall  f1-score   support\n",
      "\n",
      "           0       0.96      0.99      0.97    140597\n",
      "           1       0.71      0.31      0.43      9403\n",
      "\n",
      "    accuracy                           0.95    150000\n",
      "   macro avg       0.84      0.65      0.70    150000\n",
      "weighted avg       0.94      0.95      0.94    150000\n",
      "\n"
     ]
    }
   ],
   "source": [
    "train_data, test_data = load_split_processed_data()\n",
    "\n",
    "model_name = \"1_BEST_LightGbmV2_p071_r031_090auc_new_features.pickle\"\n",
    "\n",
    "train_data_x = train_data.drop(columns=[\"target\"])\n",
    "train_data_y = train_data[\"target\"]\n",
    "\n",
    "test_data_x = test_data.drop(columns=[\"target\"])\n",
    "test_data_y = test_data[\"target\"]\n",
    "\n",
    "print(\"-----------Train----------\")\n",
    "predict_booster(model_name, train_data)\n",
    "\n",
    "print(\"-----------Test----------\")\n",
    "predict_booster(model_name, test_data)\n",
    "\n",
    "model_second, features_second = load_model(model_name)"
   ]
  },
  {
   "cell_type": "code",
   "execution_count": 17,
   "metadata": {},
   "outputs": [
    {
     "name": "stdout",
     "output_type": "stream",
     "text": [
      "\n",
      "Metrics\n",
      "AUC: 0.90\n",
      "Classification Report:\n",
      "              precision    recall  f1-score   support\n",
      "\n",
      "           0       0.97      0.97      0.97    140597\n",
      "           1       0.52      0.53      0.52      9403\n",
      "\n",
      "    accuracy                           0.94    150000\n",
      "   macro avg       0.75      0.75      0.75    150000\n",
      "weighted avg       0.94      0.94      0.94    150000\n",
      "\n"
     ]
    }
   ],
   "source": [
    "dataframe = test_data\n",
    "\n",
    "features = features_firsts\n",
    "\n",
    "X = dataframe[features]\n",
    "y_true = dataframe.target\n",
    "\n",
    "y_pred_proba_first = model_first.predict(X, num_iteration=model_first.best_iteration)\n",
    "y_pred_proba_second = model_second.predict(X, num_iteration=model_second.best_iteration)\n",
    "\n",
    "y_pred_proba = 0.4 * y_pred_proba_first + 0.6 * y_pred_proba_second\n",
    "\n",
    "threshold = 0.5\n",
    "y_pred = (y_pred_proba >= threshold).astype(int)\n",
    "\n",
    "Metrics().call(y_true, y_pred, y_pred_proba)"
   ]
  }
 ],
 "metadata": {
  "kernelspec": {
   "display_name": "Python 3",
   "language": "python",
   "name": "python3"
  },
  "language_info": {
   "codemirror_mode": {
    "name": "ipython",
    "version": 3
   },
   "file_extension": ".py",
   "mimetype": "text/x-python",
   "name": "python",
   "nbconvert_exporter": "python",
   "pygments_lexer": "ipython3",
   "version": "3.10.13"
  }
 },
 "nbformat": 4,
 "nbformat_minor": 2
}
