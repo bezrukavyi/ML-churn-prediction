{
 "cells": [
  {
   "cell_type": "code",
   "execution_count": 7,
   "metadata": {},
   "outputs": [
    {
     "name": "stdout",
     "output_type": "stream",
     "text": [
      "The autoreload extension is already loaded. To reload it, use:\n",
      "  %reload_ext autoreload\n"
     ]
    }
   ],
   "source": [
    "%load_ext autoreload\n",
    "%autoreload 2\n",
    "\n",
    "import optuna\n",
    "import pandas as pd\n",
    "import lightgbm as lgb\n",
    "import matplotlib.pyplot as plt\n",
    "import shap\n",
    "import numpy as np\n",
    "import scipy\n",
    "import seaborn as sns\n",
    "\n",
    "from steps.prepare_data import load_split_processed_data, process_train_data, process_test_data\n",
    "from utils.model import predict, load_model, Metrics, save_model"
   ]
  },
  {
   "cell_type": "code",
   "execution_count": 8,
   "metadata": {},
   "outputs": [
    {
     "name": "stdout",
     "output_type": "stream",
     "text": [
      "\n",
      "Metrics\n",
      "AUC: 0.90\n",
      "Classification Report:\n",
      "              precision    recall  f1-score   support\n",
      "\n",
      "           0       0.96      0.99      0.97    140597\n",
      "           1       0.72      0.31      0.44      9403\n",
      "\n",
      "    accuracy                           0.95    150000\n",
      "   macro avg       0.84      0.65      0.71    150000\n",
      "weighted avg       0.94      0.95      0.94    150000\n",
      "\n",
      "Save 1.BEST_LightGbmV2_p072_r031_090auc_new_features_after_dropcorrelations\n"
     ]
    },
    {
     "data": {
      "text/plain": [
       "'1.BEST_LightGbmV2_p072_r031_090auc_new_features_after_dropcorrelations'"
      ]
     },
     "execution_count": 8,
     "metadata": {},
     "output_type": "execute_result"
    }
   ],
   "source": [
    "# process_train_data()\n",
    "# process_test_data()\n",
    "\n",
    "train_data, test_data = load_split_processed_data()\n",
    "\n",
    "model_params = {\n",
    "    \"random_state\": 42,\n",
    "    \"seed\": 42,\n",
    "    \"objective\": \"binary\",\n",
    "    \"metric\": \"average_precision\",\n",
    "    \"verbosity\": -1,\n",
    "    \"boosting_type\": \"gbdt\",\n",
    "    \"feature_pre_filter\": False,\n",
    "    \"lambda_l1\": 2.549324596128614,\n",
    "    \"lambda_l2\": 5.886365933437645,\n",
    "    \"learning_rate\": 0.04281241059661248,\n",
    "    \"num_leaves\": 109,\n",
    "    \"feature_fraction\": 0.9080048414519606,\n",
    "    \"bagging_fraction\": 0.8771663737338224,\n",
    "    \"max_depth\": 10,\n",
    "    \"early_stopping_rounds\": 126,\n",
    "}\n",
    "\n",
    "\n",
    "train_x = train_data.drop(columns=\"target\")\n",
    "train_y = train_data.target\n",
    "\n",
    "valid_x = test_data.drop(\"target\", axis=1)[train_x.columns]\n",
    "valid_y = test_data.target\n",
    "\n",
    "dtrain = lgb.Dataset(train_x, label=train_y)\n",
    "dvalid = lgb.Dataset(valid_x, label=valid_y, reference=dtrain)\n",
    "\n",
    "model = lgb.train(\n",
    "    model_params,\n",
    "    dtrain,\n",
    "    valid_sets=[dvalid],\n",
    ")\n",
    "\n",
    "X = test_data[train_x.columns]\n",
    "y_true = test_data.target\n",
    "\n",
    "y_pred_proba = model.predict(X, num_iteration=model.best_iteration)\n",
    "threshold = 0.5\n",
    "y_pred = (y_pred_proba >= threshold).astype(int)\n",
    "\n",
    "Metrics().call(y_true, y_pred, y_pred_proba)\n",
    "\n",
    "save_model(model, \"1.BEST_LightGbmV2_p072_r031_090auc_new_features_after_dropcorrelations\", list(train_x.columns))"
   ]
  }
 ],
 "metadata": {
  "kernelspec": {
   "display_name": "Python 3",
   "language": "python",
   "name": "python3"
  },
  "language_info": {
   "codemirror_mode": {
    "name": "ipython",
    "version": 3
   },
   "file_extension": ".py",
   "mimetype": "text/x-python",
   "name": "python",
   "nbconvert_exporter": "python",
   "pygments_lexer": "ipython3",
   "version": "3.10.13"
  }
 },
 "nbformat": 4,
 "nbformat_minor": 2
}
