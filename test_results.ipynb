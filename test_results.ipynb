{
 "cells": [
  {
   "cell_type": "code",
   "execution_count": 55,
   "metadata": {},
   "outputs": [
    {
     "name": "stdout",
     "output_type": "stream",
     "text": [
      "The autoreload extension is already loaded. To reload it, use:\n",
      "  %reload_ext autoreload\n"
     ]
    }
   ],
   "source": [
    "%load_ext autoreload\n",
    "%autoreload 2\n",
    "\n",
    "import optuna\n",
    "import pandas as pd\n",
    "import lightgbm as lgb\n",
    "import matplotlib.pyplot as plt\n",
    "import shap\n",
    "import numpy as np\n",
    "import scipy\n",
    "import seaborn as sns\n",
    "\n",
    "from steps.prepare_data import load_split_processed_data, process_train_data, process_test_data\n",
    "from utils.model import predict, load_model, Metrics, save_model"
   ]
  },
  {
   "cell_type": "code",
   "execution_count": 57,
   "metadata": {},
   "outputs": [
    {
     "name": "stderr",
     "output_type": "stream",
     "text": [
      "2024-06-23 08:44:07 - Running pipeline: TRANSFORM_TRAIN (7:55:41)\n",
      "2024-06-23 08:44:07 - 0. Running step: set_missings (7:55:41)\n"
     ]
    },
    {
     "name": "stdout",
     "output_type": "stream",
     "text": [
      "Processing train data...\n",
      "-----------------\n"
     ]
    },
    {
     "name": "stderr",
     "output_type": "stream",
     "text": [
      "2024-06-23 08:44:10 - 1. Running step: reduce_mem_usage (7:55:44)\n",
      "2024-06-23 08:44:11 - 2. Running step: feature_selection (7:55:45)\n",
      "2024-06-23 08:44:11 - 3. Running step: merge_train_dpi_features (7:55:45)\n",
      "2024-06-23 08:44:11 - 4. Running step: merge_train_bnum_features (7:55:45)\n"
     ]
    },
    {
     "name": "stdout",
     "output_type": "stream",
     "text": [
      "Mem. usage decreased to 231.19 Mb (75.0% reduction)\n"
     ]
    },
    {
     "name": "stderr",
     "output_type": "stream",
     "text": [
      "2024-06-23 08:44:11 - 5. Running step: merge_train_fe_features (7:55:45)\n",
      "2024-06-23 08:44:12 - 6. Running step: merge_train_fe_total_features (7:55:46)\n",
      "2024-06-23 08:44:12 - 7. Running step: feature_selection_new (7:55:46)\n",
      "2024-06-23 08:44:12 - 8. Running step: feature_selection_new (7:55:46)\n",
      "2024-06-23 08:44:12 - 10. Done (7:55:46)\n",
      "2024-06-23 08:44:12 - Running pipeline: TRANSFORM_TEST (7:55:46)\n",
      "2024-06-23 08:44:12 - 0. Running step: set_missings (7:55:46)\n"
     ]
    },
    {
     "name": "stdout",
     "output_type": "stream",
     "text": [
      "-----------------\n",
      "\n",
      "Shape: (149998, 50)\n",
      "Columns: Index(['sms_in_cnt_std_total', 'casual_act_count', 'loc_market_share',\n",
      "       'imei_mean_days_usage', 'SUM_of_Count_events_susp_app_sum',\n",
      "       'voice_mts_in_dwork_part_mea_mnt3', 'num_act_days_std_total',\n",
      "       'voice_out_td_cnt_std_total', 'MV_dou_net',\n",
      "       'non_accum_internet_vol_td_total', 'voice_in_td_cnt_td_mnt3',\n",
      "       'MAX_of_day_cnt_susp_app_sum', 'data_3g_tv_cnt_std_mnt3',\n",
      "       'content_cnt_mea_diff', 'days_of_end_last_ppm',\n",
      "       'num_act_days_min_total', 'num_act_days_mea_mnt3', 'Balance_uah',\n",
      "       'sum_paym_6_month', 'day_end_gba', 'sms_in_cnt_max_total',\n",
      "       'voice_in_tar_dur_min_mnt1', 'voice_mts_in_dwork_part_mea_total',\n",
      "       'other_cnt_sms_in_sum', 'voice_in_tar_dur_min_total',\n",
      "       'num_act_days_td_total', 'all_cnt_std_mnt3', 'all_cnt_mea_diff',\n",
      "       'non_accum_internet_vol_mea_diff', 'sms_in_cnt_mea_total',\n",
      "       'casual_topic_cnt_sms_in_sum', 'num_act_days_min_mnt3',\n",
      "       'num_act_days_std_mnt3', 'num_act_days_mea_total',\n",
      "       'voice_mts_in_drest_part_mea_total',\n",
      "       'bank_companies_cnt_sms_in_sum_share', 'data_3g_tv_cnt_max_total',\n",
      "       'voice_mts_in_dwork_part_std_total', 'days_of_last_ppm',\n",
      "       'all_cnt_std_total', 'all_cnt_std_mnt1', 'lt', 'num_act_days_min_mnt1',\n",
      "       'sms_in_cnt_mea_mnt3', 'num_act_days_mea_mnt1', 'loc_is_obl_center',\n",
      "       'device_days_usage', 'conn_in_uniq_cnt_mea_total',\n",
      "       'content_cnt_mea_mnt3', 'target'],\n",
      "      dtype='object')\n",
      "Data saved\n",
      "Processing test data...\n",
      "-----------------\n"
     ]
    },
    {
     "name": "stderr",
     "output_type": "stream",
     "text": [
      "2024-06-23 08:44:15 - 1. Running step: reduce_mem_usage (7:55:49)\n",
      "2024-06-23 08:44:16 - 2. Running step: feature_selection (7:55:50)\n",
      "2024-06-23 08:44:16 - 3. Running step: merge_test_dpi_features (7:55:50)\n",
      "2024-06-23 08:44:16 - 4. Running step: merge_test_bnum_features (7:55:50)\n"
     ]
    },
    {
     "name": "stdout",
     "output_type": "stream",
     "text": [
      "Mem. usage decreased to 225.88 Mb (75.5% reduction)\n"
     ]
    },
    {
     "name": "stderr",
     "output_type": "stream",
     "text": [
      "2024-06-23 08:44:16 - 5. Running step: merge_test_fe_features (7:55:50)\n",
      "2024-06-23 08:44:17 - 6. Running step: merge_test_fe_total_features (7:55:50)\n",
      "2024-06-23 08:44:17 - 8. Done (7:55:51)\n"
     ]
    },
    {
     "name": "stdout",
     "output_type": "stream",
     "text": [
      "-----------------\n",
      "\n",
      "Shape: (150000, 951)\n",
      "Columns: Index(['num_act_days_mea_wk1', 'device_brand_other', 'num_act_days_min_mnt1',\n",
      "       'active_ppm', 'num_act_days_min_mnt3', 'num_act_days_mea_mnt1',\n",
      "       'loc_market_share', 'voice_mts_in_dwork_part_min_mnt1',\n",
      "       'voice_in_kievstar_part_std_mnt1', 'device_type_smartphone',\n",
      "       ...\n",
      "       'accum_oth_dur_td_total', 'data_3g_tv_cnt_td_total',\n",
      "       'voice_in_td_cnt_min_total', 'abon_part_td_total',\n",
      "       'com_num_part_std_total', 'sms_in_cnt_std_total',\n",
      "       'pay_p2p_out_sum_td_total', 'pay_max_td_total',\n",
      "       'voice_in_short_part_td_total', 'voice_out_cmpttrs_avg_dumin_total'],\n",
      "      dtype='object', length=951)\n",
      "Data saved\n",
      "\n",
      "Metrics\n",
      "AUC: 0.90\n",
      "Classification Report:\n",
      "              precision    recall  f1-score   support\n",
      "\n",
      "           0       0.96      0.99      0.97    140597\n",
      "           1       0.71      0.32      0.44      9403\n",
      "\n",
      "    accuracy                           0.95    150000\n",
      "   macro avg       0.83      0.66      0.71    150000\n",
      "weighted avg       0.94      0.95      0.94    150000\n",
      "\n",
      "Columns:  Index(['sms_in_cnt_std_total', 'casual_act_count', 'loc_market_share',\n",
      "       'imei_mean_days_usage', 'SUM_of_Count_events_susp_app_sum',\n",
      "       'voice_mts_in_dwork_part_mea_mnt3', 'num_act_days_std_total',\n",
      "       'voice_out_td_cnt_std_total', 'MV_dou_net',\n",
      "       'non_accum_internet_vol_td_total', 'voice_in_td_cnt_td_mnt3',\n",
      "       'MAX_of_day_cnt_susp_app_sum', 'data_3g_tv_cnt_std_mnt3',\n",
      "       'content_cnt_mea_diff', 'days_of_end_last_ppm',\n",
      "       'num_act_days_min_total', 'num_act_days_mea_mnt3', 'Balance_uah',\n",
      "       'sum_paym_6_month', 'day_end_gba', 'sms_in_cnt_max_total',\n",
      "       'voice_in_tar_dur_min_mnt1', 'voice_mts_in_dwork_part_mea_total',\n",
      "       'other_cnt_sms_in_sum', 'voice_in_tar_dur_min_total',\n",
      "       'num_act_days_td_total', 'all_cnt_std_mnt3', 'all_cnt_mea_diff',\n",
      "       'non_accum_internet_vol_mea_diff', 'sms_in_cnt_mea_total',\n",
      "       'casual_topic_cnt_sms_in_sum', 'num_act_days_min_mnt3',\n",
      "       'num_act_days_std_mnt3', 'num_act_days_mea_total',\n",
      "       'voice_mts_in_drest_part_mea_total',\n",
      "       'bank_companies_cnt_sms_in_sum_share', 'data_3g_tv_cnt_max_total',\n",
      "       'voice_mts_in_dwork_part_std_total', 'days_of_last_ppm',\n",
      "       'all_cnt_std_total', 'all_cnt_std_mnt1', 'lt', 'num_act_days_min_mnt1',\n",
      "       'sms_in_cnt_mea_mnt3', 'num_act_days_mea_mnt1', 'loc_is_obl_center',\n",
      "       'device_days_usage', 'conn_in_uniq_cnt_mea_total',\n",
      "       'content_cnt_mea_mnt3'],\n",
      "      dtype='object')\n"
     ]
    }
   ],
   "source": [
    "process_train_data()\n",
    "process_test_data()\n",
    "\n",
    "train_data, test_data = load_split_processed_data()\n",
    "\n",
    "model_params = {\n",
    "    \"random_state\": 42,\n",
    "    \"seed\": 42,\n",
    "    \"objective\": \"binary\",\n",
    "    \"metric\": \"binary_logloss\",\n",
    "    \"verbosity\": -1,\n",
    "    \"boosting_type\": \"gbdt\",\n",
    "    \"feature_pre_filter\": False,\n",
    "    \"lambda_l1\": 2.740292203572801,\n",
    "    \"lambda_l2\": 9.502614592851208,\n",
    "    \"learning_rate\": 0.07586188568634152,\n",
    "    \"num_leaves\": 93,\n",
    "    \"feature_fraction\": 0.34049127666480095,\n",
    "    \"bagging_fraction\": 0.8460348477289328,\n",
    "    \"max_depth\": 10,\n",
    "    \"early_stopping_rounds\": 88,\n",
    "}\n",
    "\n",
    "\n",
    "train_x = train_data.drop(columns=\"target\")\n",
    "train_y = train_data.target\n",
    "\n",
    "valid_x = test_data.drop(\"target\", axis=1)[train_x.columns]\n",
    "valid_y = test_data.target\n",
    "\n",
    "dtrain = lgb.Dataset(train_x, label=train_y)\n",
    "dvalid = lgb.Dataset(valid_x, label=valid_y, reference=dtrain)\n",
    "\n",
    "model = lgb.train(\n",
    "    model_params,\n",
    "    dtrain,\n",
    "    valid_sets=[dvalid],\n",
    ")\n",
    "\n",
    "X = test_data[train_x.columns]\n",
    "y_true = test_data.target\n",
    "\n",
    "y_pred_proba = model.predict(X, num_iteration=model.best_iteration)\n",
    "threshold = 0.5\n",
    "y_pred = (y_pred_proba >= threshold).astype(int)\n",
    "\n",
    "Metrics().call(y_true, y_pred, y_pred_proba)\n",
    "\n",
    "print(\"Columns: \", train_x.columns)"
   ]
  },
  {
   "cell_type": "code",
   "execution_count": 54,
   "metadata": {},
   "outputs": [
    {
     "name": "stdout",
     "output_type": "stream",
     "text": [
      "Save LightGbmV2_new_total_features_p072_r032_090auc\n"
     ]
    },
    {
     "data": {
      "text/plain": [
       "'LightGbmV2_new_total_features_p072_r032_090auc'"
      ]
     },
     "execution_count": 54,
     "metadata": {},
     "output_type": "execute_result"
    }
   ],
   "source": [
    "save_model(model, \"LightGbmV2_new_total_features_p072_r032_090auc\", list(train_x.columns))"
   ]
  }
 ],
 "metadata": {
  "kernelspec": {
   "display_name": "Python 3",
   "language": "python",
   "name": "python3"
  },
  "language_info": {
   "codemirror_mode": {
    "name": "ipython",
    "version": 3
   },
   "file_extension": ".py",
   "mimetype": "text/x-python",
   "name": "python",
   "nbconvert_exporter": "python",
   "pygments_lexer": "ipython3",
   "version": "3.10.13"
  }
 },
 "nbformat": 4,
 "nbformat_minor": 2
}
