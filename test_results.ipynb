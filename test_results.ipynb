{
 "cells": [
  {
   "cell_type": "code",
   "execution_count": 1,
   "metadata": {},
   "outputs": [],
   "source": [
    "%load_ext autoreload\n",
    "%autoreload 2\n",
    "\n",
    "import optuna\n",
    "import pandas as pd\n",
    "import lightgbm as lgb\n",
    "import matplotlib.pyplot as plt\n",
    "import shap\n",
    "import numpy as np\n",
    "import scipy\n",
    "import seaborn as sns\n",
    "\n",
    "from steps.prepare_data import load_split_processed_data, process_train_data, process_test_data\n",
    "from utils.model import predict, load_model, Metrics, save_model"
   ]
  },
  {
   "cell_type": "code",
   "execution_count": 15,
   "metadata": {},
   "outputs": [
    {
     "name": "stderr",
     "output_type": "stream",
     "text": [
      "2024-06-23 13:49:19 - Running pipeline: TRANSFORM_TRAIN (1:00:41)\n",
      "2024-06-23 13:49:19 - 0. Running step: set_missings (1:00:41)\n"
     ]
    },
    {
     "name": "stdout",
     "output_type": "stream",
     "text": [
      "Processing train data...\n",
      "-----------------\n"
     ]
    },
    {
     "name": "stderr",
     "output_type": "stream",
     "text": [
      "2024-06-23 13:49:22 - 1. Running step: reduce_mem_usage (1:00:43)\n",
      "2024-06-23 13:49:22 - 2. Running step: feature_selection (1:00:44)\n",
      "2024-06-23 13:49:22 - 3. Running step: merge_train_dpi_features (1:00:44)\n",
      "2024-06-23 13:49:22 - 4. Running step: merge_train_bnum_features (1:00:44)\n"
     ]
    },
    {
     "name": "stdout",
     "output_type": "stream",
     "text": [
      "Mem. usage decreased to 231.19 Mb (75.0% reduction)\n"
     ]
    },
    {
     "name": "stderr",
     "output_type": "stream",
     "text": [
      "2024-06-23 13:49:23 - 5. Running step: merge_train_fe_features (1:00:44)\n",
      "2024-06-23 13:49:23 - 6. Running step: merge_train_fe_total_features (1:00:45)\n",
      "2024-06-23 13:49:23 - 7. Running step: feature_selection_new (1:00:45)\n",
      "2024-06-23 13:49:24 - 8. Running step: merge_train_fe_slope_features (1:00:45)\n",
      "2024-06-23 13:49:24 - 9. Running step: feature_selection_new (1:00:46)\n",
      "2024-06-23 13:49:24 - 10. Running step: drop_high_correlation (1:00:46)\n",
      "2024-06-23 13:49:46 - 12. Done (1:01:08)\n",
      "2024-06-23 13:49:46 - Running pipeline: TRANSFORM_TEST (1:01:08)\n",
      "2024-06-23 13:49:46 - 0. Running step: set_missings (1:01:08)\n"
     ]
    },
    {
     "name": "stdout",
     "output_type": "stream",
     "text": [
      "Features to drop: ['sms_in_cnt_max_total', 'voice_in_tar_dur_min_total', 'num_act_days_mea_mnt1', 'voice_in_roam_clc_mea_slope', 'com_num_part_min_slope', 'pay_p2p_in_sum_std_slope', 'voice_mts_out_nrest_partstd_slope', 'voice_in_short_part_max_slope', 'pay_sum_max_slope', 'conn_com_part_mea_slope', 'voice_out_fix_tar_dur_std_slope', 'pay_avg_std_slope', 'pay_max_max_slope', 'gprs_clc_max_slope', 'sms_roam_clc_std_slope', 'voice_mts_in_drest_part_std_slope', 'voice_mts_out_nrest_partmea_slope', 'pay_sum_mea_slope', 'voice_in_fix_tar_dur_std_slope', 'voice_out_short_part_std_slope', 'voice_in_kievstar_part_max_slope', 'clc_no_vas_roam_max_slope', 'voice_mts_in_nrest_part_max_slope', 'pay_avg_min_slope', 'voice_mts_out_nwork_partmax_slope', 'ama_volume_std_slope', 'voice_in_cmpttrs_avg_durstd_slope', 'non_accum_internet_vol_max_slope', 'abon_part_std_slope', 'pay_p2p_out_sum_min_slope', 'voice_mts_out_drest_partmax_slope', 'voice_mts_out_dwork_partmax_slope', 'pay_avg_max_slope', 'all_roam_clc_max_slope', 'pay_max_std_slope', 'all_clc_std_slope', 'ks_num_part_max_slope', 'vas_clc_std_slope', 'voice_mts_in_nwork_part_std_slope', 'content_clc_max_slope', 'voice_in_roam_clc_max_slope', 'gprs_tar_vol_max_slope', 'data_3g_tar_vol_max_slope', 'voice_in_short_part_std_slope', 'conn_com_part_max_slope', 'voice_in_life_part_std_slope', 'block_all_dur_max_slope', 'voice_in_life_part_max_slope', 'voice_mts_in_nwork_part_mea_slope', 'com_num_part_std_slope']\n",
      "-----------------\n",
      "\n",
      "Shape: (149998, 300)\n",
      "Columns: Index(['sms_in_cnt_std_total', 'casual_act_count', 'loc_market_share',\n",
      "       'imei_mean_days_usage', 'SUM_of_Count_events_susp_app_sum',\n",
      "       'voice_mts_in_dwork_part_mea_mnt3', 'num_act_days_std_total',\n",
      "       'voice_out_td_cnt_std_total', 'MV_dou_net',\n",
      "       'non_accum_internet_vol_td_total',\n",
      "       ...\n",
      "       'voice_in_roam_clc_td_slope', 'accum_oth_dur_td_slope',\n",
      "       'data_3g_tv_cnt_td_slope', 'voice_in_td_cnt_min_slope',\n",
      "       'abon_part_td_slope', 'sms_in_cnt_std_slope',\n",
      "       'pay_p2p_out_sum_td_slope', 'pay_max_td_slope',\n",
      "       'voice_in_short_part_td_slope', 'voice_out_cmpttrs_avg_dumin_slope'],\n",
      "      dtype='object', length=300)\n",
      "Data saved\n",
      "Processing test data...\n",
      "-----------------\n"
     ]
    },
    {
     "name": "stderr",
     "output_type": "stream",
     "text": [
      "2024-06-23 13:49:49 - 1. Running step: reduce_mem_usage (1:01:10)\n",
      "2024-06-23 13:49:49 - 2. Running step: feature_selection (1:01:11)\n",
      "2024-06-23 13:49:49 - 3. Running step: merge_test_dpi_features (1:01:11)\n",
      "2024-06-23 13:49:50 - 4. Running step: merge_test_bnum_features (1:01:11)\n"
     ]
    },
    {
     "name": "stdout",
     "output_type": "stream",
     "text": [
      "Mem. usage decreased to 225.88 Mb (75.5% reduction)\n"
     ]
    },
    {
     "name": "stderr",
     "output_type": "stream",
     "text": [
      "2024-06-23 13:49:50 - 5. Running step: merge_test_fe_features (1:01:11)\n",
      "2024-06-23 13:49:50 - 6. Running step: merge_test_fe_total_features (1:01:12)\n",
      "2024-06-23 13:49:51 - 7. Running step: merge_test_fe_slope_features (1:01:12)\n",
      "2024-06-23 13:49:51 - 9. Done (1:01:13)\n"
     ]
    },
    {
     "name": "stdout",
     "output_type": "stream",
     "text": [
      "-----------------\n",
      "\n",
      "Shape: (150000, 1251)\n",
      "Columns: Index(['num_act_days_mea_wk1', 'device_brand_other', 'num_act_days_min_mnt1',\n",
      "       'active_ppm', 'num_act_days_min_mnt3', 'num_act_days_mea_mnt1',\n",
      "       'loc_market_share', 'voice_mts_in_dwork_part_min_mnt1',\n",
      "       'voice_in_kievstar_part_std_mnt1', 'device_type_smartphone',\n",
      "       ...\n",
      "       'accum_oth_dur_td_slope', 'data_3g_tv_cnt_td_slope',\n",
      "       'voice_in_td_cnt_min_slope', 'abon_part_td_slope',\n",
      "       'com_num_part_std_slope', 'sms_in_cnt_std_slope',\n",
      "       'pay_p2p_out_sum_td_slope', 'pay_max_td_slope',\n",
      "       'voice_in_short_part_td_slope', 'voice_out_cmpttrs_avg_dumin_slope'],\n",
      "      dtype='object', length=1251)\n",
      "Data saved\n"
     ]
    }
   ],
   "source": [
    "process_train_data()\n",
    "process_test_data()\n",
    "\n",
    "train_data, test_data = load_split_processed_data()"
   ]
  },
  {
   "cell_type": "code",
   "execution_count": 14,
   "metadata": {},
   "outputs": [
    {
     "name": "stdout",
     "output_type": "stream",
     "text": [
      "\n",
      "Metrics\n",
      "AUC: 0.90\n",
      "Classification Report:\n",
      "              precision    recall  f1-score   support\n",
      "\n",
      "           0       0.96      0.99      0.97    140597\n",
      "           1       0.71      0.32      0.44      9403\n",
      "\n",
      "    accuracy                           0.95    150000\n",
      "   macro avg       0.83      0.66      0.71    150000\n",
      "weighted avg       0.94      0.95      0.94    150000\n",
      "\n",
      "Columns count  349\n",
      "Columns:  Index(['sms_in_cnt_std_total', 'casual_act_count', 'loc_market_share',\n",
      "       'imei_mean_days_usage', 'SUM_of_Count_events_susp_app_sum',\n",
      "       'voice_mts_in_dwork_part_mea_mnt3', 'num_act_days_std_total',\n",
      "       'voice_out_td_cnt_std_total', 'MV_dou_net',\n",
      "       'non_accum_internet_vol_td_total',\n",
      "       ...\n",
      "       'accum_oth_dur_td_slope', 'data_3g_tv_cnt_td_slope',\n",
      "       'voice_in_td_cnt_min_slope', 'abon_part_td_slope',\n",
      "       'com_num_part_std_slope', 'sms_in_cnt_std_slope',\n",
      "       'pay_p2p_out_sum_td_slope', 'pay_max_td_slope',\n",
      "       'voice_in_short_part_td_slope', 'voice_out_cmpttrs_avg_dumin_slope'],\n",
      "      dtype='object', length=349)\n"
     ]
    }
   ],
   "source": [
    "model_params = {\n",
    "    \"random_state\": 42,\n",
    "    \"seed\": 42,\n",
    "    \"objective\": \"binary\",\n",
    "    \"metric\": \"binary_logloss\",\n",
    "    \"verbosity\": -1,\n",
    "    \"boosting_type\": \"gbdt\",\n",
    "    \"feature_pre_filter\": False,\n",
    "    \"lambda_l1\": 2.740292203572801,\n",
    "    \"lambda_l2\": 9.502614592851208,\n",
    "    \"learning_rate\": 0.07586188568634152,\n",
    "    \"num_leaves\": 93,\n",
    "    \"feature_fraction\": 0.34049127666480095,\n",
    "    \"bagging_fraction\": 0.8460348477289328,\n",
    "    \"max_depth\": 10,\n",
    "    \"early_stopping_rounds\": 88,\n",
    "}\n",
    "\n",
    "\n",
    "train_x = train_data.drop(columns=\"target\")\n",
    "train_y = train_data.target\n",
    "\n",
    "valid_x = test_data.drop(\"target\", axis=1)[train_x.columns]\n",
    "valid_y = test_data.target\n",
    "\n",
    "dtrain = lgb.Dataset(train_x, label=train_y)\n",
    "dvalid = lgb.Dataset(valid_x, label=valid_y, reference=dtrain)\n",
    "\n",
    "model = lgb.train(\n",
    "    model_params,\n",
    "    dtrain,\n",
    "    valid_sets=[dvalid],\n",
    ")\n",
    "\n",
    "X = test_data[train_x.columns]\n",
    "y_true = test_data.target\n",
    "\n",
    "y_pred_proba = model.predict(X, num_iteration=model.best_iteration)\n",
    "threshold = 0.5\n",
    "y_pred = (y_pred_proba >= threshold).astype(int)\n",
    "\n",
    "Metrics().call(y_true, y_pred, y_pred_proba)\n",
    "\n",
    "print(\"Columns count \", len(train_x.columns))\n",
    "print(\"Columns: \", train_x.columns)"
   ]
  },
  {
   "cell_type": "code",
   "execution_count": 54,
   "metadata": {},
   "outputs": [
    {
     "name": "stdout",
     "output_type": "stream",
     "text": [
      "Save LightGbmV2_new_total_features_p072_r032_090auc\n"
     ]
    },
    {
     "data": {
      "text/plain": [
       "'LightGbmV2_new_total_features_p072_r032_090auc'"
      ]
     },
     "execution_count": 54,
     "metadata": {},
     "output_type": "execute_result"
    }
   ],
   "source": [
    "save_model(model, \"LightGbmV2_new_total_features_p072_r032_090auc\", list(train_x.columns))"
   ]
  }
 ],
 "metadata": {
  "kernelspec": {
   "display_name": "Python 3",
   "language": "python",
   "name": "python3"
  },
  "language_info": {
   "codemirror_mode": {
    "name": "ipython",
    "version": 3
   },
   "file_extension": ".py",
   "mimetype": "text/x-python",
   "name": "python",
   "nbconvert_exporter": "python",
   "pygments_lexer": "ipython3",
   "version": "3.10.13"
  }
 },
 "nbformat": 4,
 "nbformat_minor": 2
}
