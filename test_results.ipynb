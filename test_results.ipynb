{
 "cells": [
  {
   "cell_type": "code",
   "execution_count": 11,
   "metadata": {},
   "outputs": [
    {
     "name": "stdout",
     "output_type": "stream",
     "text": [
      "The autoreload extension is already loaded. To reload it, use:\n",
      "  %reload_ext autoreload\n"
     ]
    }
   ],
   "source": [
    "%load_ext autoreload\n",
    "%autoreload 2\n",
    "\n",
    "import optuna\n",
    "import pandas as pd\n",
    "import lightgbm as lgb\n",
    "import matplotlib.pyplot as plt\n",
    "import shap\n",
    "import numpy as np\n",
    "import scipy\n",
    "import seaborn as sns\n",
    "\n",
    "from steps.prepare_data import load_split_processed_data, process_train_data, process_test_data\n",
    "from utils.model import predict, load_model, Metrics, save_model"
   ]
  },
  {
   "cell_type": "code",
   "execution_count": 17,
   "metadata": {},
   "outputs": [
    {
     "name": "stderr",
     "output_type": "stream",
     "text": [
      "2024-06-22 23:49:49 - Running pipeline: TRANSFORM_TRAIN (0:40:49)\n",
      "2024-06-22 23:49:49 - 0. Running step: set_missings (0:40:49)\n"
     ]
    },
    {
     "name": "stdout",
     "output_type": "stream",
     "text": [
      "Processing train data...\n",
      "-----------------\n"
     ]
    },
    {
     "name": "stderr",
     "output_type": "stream",
     "text": [
      "2024-06-22 23:49:52 - 1. Running step: reduce_mem_usage (0:40:52)\n",
      "2024-06-22 23:49:52 - 2. Running step: feature_selection (0:40:53)\n",
      "2024-06-22 23:49:52 - 3. Running step: merge_train_dpi_features (0:40:53)\n",
      "2024-06-22 23:49:53 - 4. Running step: merge_train_bnum_features (0:40:53)\n"
     ]
    },
    {
     "name": "stdout",
     "output_type": "stream",
     "text": [
      "Mem. usage decreased to 231.19 Mb (75.0% reduction)\n"
     ]
    },
    {
     "name": "stderr",
     "output_type": "stream",
     "text": [
      "2024-06-22 23:49:53 - 5. Running step: drop_high_correlation (0:40:53)\n",
      "2024-06-22 23:50:15 - 6. Running step: merge_train_fe_features (0:41:15)\n"
     ]
    },
    {
     "name": "stdout",
     "output_type": "stream",
     "text": [
      "Features to drop: ['imei_mean_long_days_usage', 'sms_in_cnt_std_mnt3', 'MAX_of_day_cnt_susp_app_mean', 'SUM_of_Count_events_susp_app_mean', 'SUM_of_Count_events_susp_app_share', 'SUM_of_Duration_sec_susp_app_sum', 'SUM_of_Duration_sec_susp_app_mean', 'SUM_of_Volume_kb_susp_app_sum', 'SUM_of_Volume_kb_susp_app_mean', 'MAX_of_day_cnt_mean', 'SUM_of_Count_events_mean', 'SUM_of_Duration_sec_sum', 'SUM_of_Duration_sec_mean', 'SUM_of_Volume_kb_sum', 'SUM_of_Volume_kb_mean', 'MAX_of_day_cnt_top_apps_sum', 'MAX_of_day_cnt_top_apps_mean', 'SUM_of_Count_events_top_apps_sum', 'SUM_of_Count_events_top_apps_mean', 'SUM_of_Duration_sec_top_apps_sum', 'SUM_of_Duration_sec_top_apps_mean', 'SUM_of_Volume_kb_top_apps_sum', 'SUM_of_Volume_kb_top_apps_mean', 'vodafone_topic_topic_act_share', 'vodafone_topic_topic_act_count', 'casual_topic_topic_act_count', 'messengars_companies_category_act_share', 'messengars_companies_category_act_count', 'casual_topic_call_cnt_out_count', 'competitors_topic_call_cnt_out_count', 'finance_topic_call_cnt_out_count', 'messengars_topic_call_cnt_out_count', 'vodafone_topic_call_cnt_out_count', 'casual_topic_call_cnt_in_count', 'competitors_topic_call_cnt_in_count', 'finance_topic_call_cnt_in_count', 'messengars_topic_call_cnt_in_count', 'vodafone_topic_call_cnt_in_count', 'casual_topic_call_dur_out_sum_share', 'competitors_topic_call_dur_out_sum_share', 'finance_topic_call_dur_out_sum_share', 'vodafone_topic_call_dur_out_sum_share', 'casual_topic_call_dur_out_count', 'competitors_topic_call_dur_out_count', 'finance_topic_call_dur_out_count', 'messengars_topic_call_dur_out_count', 'vodafone_topic_call_dur_out_count', 'finance_topic_call_dur_in_sum', 'casual_topic_call_dur_in_sum_share', 'competitors_topic_call_dur_in_sum_share', 'finance_topic_call_dur_in_sum_share', 'casual_topic_call_dur_in_count', 'competitors_topic_call_dur_in_count', 'finance_topic_call_dur_in_count', 'messengars_topic_call_dur_in_count', 'vodafone_topic_call_dur_in_count', 'competitors_topic_cnt_sms_out_sum_share', 'casual_topic_cnt_sms_out_count', 'competitors_topic_cnt_sms_out_count', 'finance_topic_cnt_sms_out_count', 'messengars_topic_cnt_sms_out_count', 'vodafone_topic_cnt_sms_out_count', 'casual_topic_cnt_sms_in_count', 'competitors_topic_cnt_sms_in_count', 'finance_topic_cnt_sms_in_count', 'messengars_topic_cnt_sms_in_count', 'vodafone_topic_cnt_sms_in_count', 'competitors_numbers_call_cnt_out_sum', 'other_call_cnt_out_sum', 'vodafone_support_call_cnt_out_sum', 'competitors_numbers_call_cnt_out_sum_share', 'vodafone_support_call_cnt_out_sum_share', 'other_call_cnt_out_count', 'vodafone_support_call_cnt_out_count', 'bank_numbers_call_cnt_in_sum', 'competitors_numbers_call_cnt_in_sum', 'bank_numbers_call_cnt_in_sum_share', 'competitors_numbers_call_cnt_in_sum_share', 'fraud_numbers_call_cnt_in_sum_share', 'bank_numbers_call_cnt_in_count', 'competitors_numbers_call_cnt_in_count', 'fraud_numbers_call_cnt_in_count', 'competitors_numbers_call_dur_out_sum', 'other_call_dur_out_sum', 'vodafone_support_call_dur_out_sum', 'competitors_numbers_call_dur_out_sum_share', 'fraud_numbers_call_dur_out_sum_share', 'other_call_dur_out_sum_share', 'rescue_numbers_call_dur_out_sum_share', 'vodafone_new_customer_call_dur_out_sum_share', 'vodafone_support_call_dur_out_sum_share', 'competitors_numbers_call_dur_out_count', 'fraud_numbers_call_dur_out_count', 'other_call_dur_out_count', 'rescue_numbers_call_dur_out_count', 'vodafone_new_customer_call_dur_out_count', 'vodafone_support_call_dur_out_count', 'vodafone_survey_call_dur_out_count', 'bank_numbers_call_dur_in_sum', 'competitors_numbers_call_dur_in_sum', 'other_call_dur_in_sum', 'bank_numbers_call_dur_in_sum_share', 'competitors_numbers_call_dur_in_sum_share', 'fraud_numbers_call_dur_in_sum_share', 'other_call_dur_in_sum_share', 'bank_numbers_call_dur_in_count', 'competitors_numbers_call_dur_in_count', 'fraud_numbers_call_dur_in_count', 'other_call_dur_in_count', 'bank_numbers_cnt_sms_out_sum', 'competitors_numbers_cnt_sms_out_sum', 'other_cnt_sms_out_sum', 'bank_numbers_cnt_sms_out_sum_share', 'competitors_numbers_cnt_sms_out_sum_share', 'fraud_numbers_cnt_sms_out_sum_share', 'taxy_companies_cnt_sms_out_sum_share', 'bank_numbers_cnt_sms_out_count', 'competitors_numbers_cnt_sms_out_count', 'fraud_numbers_cnt_sms_out_count', 'other_cnt_sms_out_count', 'rescue_numbers_cnt_sms_out_count', 'taxy_companies_cnt_sms_out_count', 'vodafone_new_customer_cnt_sms_out_count', 'vodafone_services_cnt_sms_out_count', 'vodafone_support_cnt_sms_out_count', 'vodafone_survey_cnt_sms_out_count', 'messengars_companies_cnt_sms_in_sum', 'credits_companies_cnt_sms_in_count', 'messengars_companies_cnt_sms_in_count', 'other_cnt_sms_in_count', 'phone_companies_cnt_sms_in_count', 'vodafone_services_cnt_sms_in_count', 'vodafone_survey_cnt_sms_in_count']\n"
     ]
    },
    {
     "name": "stderr",
     "output_type": "stream",
     "text": [
      "2024-06-22 23:50:15 - 7. Running step: drop_high_correlation (0:41:16)\n",
      "2024-06-22 23:51:03 - 8. Running step: feature_selection_new (0:42:04)\n",
      "2024-06-22 23:51:03 - 10. Done (0:42:04)\n"
     ]
    },
    {
     "name": "stdout",
     "output_type": "stream",
     "text": [
      "Features to drop: ['pay_sum_max_diff', 'voice_out_fix_tar_dur_std_diff', 'sms_roam_clc_mea_diff', 'pay_avg_std_diff', 'pay_max_max_diff', 'voice_in_fix_tar_dur_std_diff', 'clc_no_vas_roam_max_diff', 'pay_avg_min_diff', 'pay_p2p_out_sum_min_diff', 'all_clc_std_diff', 'ks_num_part_max_diff', 'vas_clc_std_diff', 'voice_mts_in_nwork_part_std_diff', 'voice_in_roam_clc_max_diff', 'voice_mts_in_dwork_part_max_diff', 'gprs_tar_vol_max_diff', 'conn_com_part_max_diff', 'voice_in_life_part_max_diff', 'voice_mts_in_nwork_part_mea_diff', 'com_num_part_std_diff']\n",
      "-----------------\n",
      "\n",
      "Shape: (149998, 497)\n",
      "Columns: Index(['num_act_days_mea_wk1', 'device_brand_other', 'num_act_days_min_mnt1',\n",
      "       'active_ppm', 'num_act_days_min_mnt3', 'num_act_days_mea_mnt1',\n",
      "       'loc_market_share', 'voice_mts_in_dwork_part_min_mnt1',\n",
      "       'voice_in_kievstar_part_std_mnt1', 'device_type_smartphone',\n",
      "       ...\n",
      "       'voice_in_roam_clc_td_diff', 'accum_oth_dur_td_diff',\n",
      "       'data_3g_tv_cnt_td_diff', 'voice_in_td_cnt_min_diff',\n",
      "       'abon_part_td_diff', 'sms_in_cnt_std_diff', 'pay_p2p_out_sum_td_diff',\n",
      "       'pay_max_td_diff', 'voice_in_short_part_td_diff',\n",
      "       'voice_out_cmpttrs_avg_dumin_diff'],\n",
      "      dtype='object', length=497)\n"
     ]
    },
    {
     "name": "stderr",
     "output_type": "stream",
     "text": [
      "2024-06-22 23:51:04 - Running pipeline: TRANSFORM_TEST (0:42:04)\n",
      "2024-06-22 23:51:04 - 0. Running step: set_missings (0:42:04)\n"
     ]
    },
    {
     "name": "stdout",
     "output_type": "stream",
     "text": [
      "Data saved\n",
      "Processing test data...\n",
      "-----------------\n"
     ]
    },
    {
     "name": "stderr",
     "output_type": "stream",
     "text": [
      "2024-06-22 23:51:06 - 1. Running step: reduce_mem_usage (0:42:07)\n",
      "2024-06-22 23:51:07 - 2. Running step: feature_selection (0:42:07)\n",
      "2024-06-22 23:51:07 - 3. Running step: merge_test_dpi_features (0:42:07)\n",
      "2024-06-22 23:51:07 - 4. Running step: merge_test_bnum_features (0:42:07)\n"
     ]
    },
    {
     "name": "stdout",
     "output_type": "stream",
     "text": [
      "Mem. usage decreased to 225.88 Mb (75.5% reduction)\n"
     ]
    },
    {
     "name": "stderr",
     "output_type": "stream",
     "text": [
      "2024-06-22 23:51:07 - 5. Running step: merge_test_fe_features (0:42:08)\n",
      "2024-06-22 23:51:08 - 6. Running step: merge_test_fe_total_features (0:42:08)\n",
      "2024-06-22 23:51:08 - 8. Done (0:42:09)\n"
     ]
    },
    {
     "name": "stdout",
     "output_type": "stream",
     "text": [
      "-----------------\n",
      "\n",
      "Shape: (150000, 951)\n",
      "Columns: Index(['num_act_days_mea_wk1', 'device_brand_other', 'num_act_days_min_mnt1',\n",
      "       'active_ppm', 'num_act_days_min_mnt3', 'num_act_days_mea_mnt1',\n",
      "       'loc_market_share', 'voice_mts_in_dwork_part_min_mnt1',\n",
      "       'voice_in_kievstar_part_std_mnt1', 'device_type_smartphone',\n",
      "       ...\n",
      "       'accum_oth_dur_td_total', 'data_3g_tv_cnt_td_total',\n",
      "       'voice_in_td_cnt_min_total', 'abon_part_td_total',\n",
      "       'com_num_part_std_total', 'sms_in_cnt_std_total',\n",
      "       'pay_p2p_out_sum_td_total', 'pay_max_td_total',\n",
      "       'voice_in_short_part_td_total', 'voice_out_cmpttrs_avg_dumin_total'],\n",
      "      dtype='object', length=951)\n",
      "Data saved\n",
      "\n",
      "Metrics\n",
      "AUC: 0.90\n",
      "Classification Report:\n",
      "              precision    recall  f1-score   support\n",
      "\n",
      "           0       0.96      0.99      0.97    140597\n",
      "           1       0.70      0.33      0.45      9403\n",
      "\n",
      "    accuracy                           0.95    150000\n",
      "   macro avg       0.83      0.66      0.71    150000\n",
      "weighted avg       0.94      0.95      0.94    150000\n",
      "\n"
     ]
    }
   ],
   "source": [
    "# process_train_data()\n",
    "# process_test_data()\n",
    "\n",
    "train_data, test_data = load_split_processed_data()\n",
    "\n",
    "model_params = {\n",
    "    \"random_state\": 42,\n",
    "    \"seed\": 42,\n",
    "    \"objective\": \"binary\",\n",
    "    \"metric\": \"binary_logloss\",\n",
    "    \"verbosity\": -1,\n",
    "    \"boosting_type\": \"gbdt\",\n",
    "    \"feature_pre_filter\": False,\n",
    "    \"lambda_l1\": 4.568694916963563,\n",
    "    \"lambda_l2\": 9.725405323430522,\n",
    "    \"learning_rate\": 0.09928803687215425,\n",
    "    \"num_leaves\": 212,\n",
    "    \"feature_fraction\": 0.839578962725633,\n",
    "    \"bagging_fraction\": 0.20894359190986184,\n",
    "    \"max_depth\": 10,\n",
    "    \"early_stopping_rounds\": 157,\n",
    "}\n",
    "\n",
    "\n",
    "train_x = train_data.drop(columns=\"target\")\n",
    "train_y = train_data.target\n",
    "\n",
    "valid_x = test_data.drop(\"target\", axis=1)[train_x.columns]\n",
    "valid_y = test_data.target\n",
    "\n",
    "dtrain = lgb.Dataset(train_x, label=train_y)\n",
    "dvalid = lgb.Dataset(valid_x, label=valid_y, reference=dtrain)\n",
    "\n",
    "model = lgb.train(\n",
    "    model_params,\n",
    "    dtrain,\n",
    "    valid_sets=[dvalid],\n",
    ")\n",
    "\n",
    "X = test_data[train_x.columns]\n",
    "y_true = test_data.target\n",
    "\n",
    "y_pred_proba = model.predict(X, num_iteration=model.best_iteration)\n",
    "threshold = 0.5\n",
    "y_pred = (y_pred_proba >= threshold).astype(int)\n",
    "\n",
    "Metrics().call(y_true, y_pred, y_pred_proba)"
   ]
  },
  {
   "cell_type": "code",
   "execution_count": 14,
   "metadata": {},
   "outputs": [
    {
     "name": "stdout",
     "output_type": "stream",
     "text": [
      "Save LightGbmV2_new_features_fe_drop_corr_p071_r033_090auc\n"
     ]
    },
    {
     "data": {
      "text/plain": [
       "'LightGbmV2_new_features_fe_drop_corr_p071_r033_090auc'"
      ]
     },
     "execution_count": 14,
     "metadata": {},
     "output_type": "execute_result"
    }
   ],
   "source": [
    "save_model(model, \"LightGbmV2_new_features_fe_drop_corr_p071_r033_090auc\", list(train_x.columns))"
   ]
  }
 ],
 "metadata": {
  "kernelspec": {
   "display_name": "Python 3",
   "language": "python",
   "name": "python3"
  },
  "language_info": {
   "codemirror_mode": {
    "name": "ipython",
    "version": 3
   },
   "file_extension": ".py",
   "mimetype": "text/x-python",
   "name": "python",
   "nbconvert_exporter": "python",
   "pygments_lexer": "ipython3",
   "version": "3.10.13"
  }
 },
 "nbformat": 4,
 "nbformat_minor": 2
}
