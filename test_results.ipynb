{
 "cells": [
  {
   "cell_type": "code",
   "execution_count": 33,
   "metadata": {},
   "outputs": [
    {
     "name": "stdout",
     "output_type": "stream",
     "text": [
      "The autoreload extension is already loaded. To reload it, use:\n",
      "  %reload_ext autoreload\n"
     ]
    }
   ],
   "source": [
    "%load_ext autoreload\n",
    "%autoreload 2\n",
    "\n",
    "import optuna\n",
    "import pandas as pd\n",
    "import lightgbm as lgb\n",
    "import matplotlib.pyplot as plt\n",
    "import shap\n",
    "import numpy as np\n",
    "import scipy\n",
    "import seaborn as sns\n",
    "\n",
    "from steps.prepare_data import load_split_processed_data, process_train_data, process_test_data\n",
    "from utils.model import predict, load_model, Metrics, save_model"
   ]
  },
  {
   "cell_type": "code",
   "execution_count": 38,
   "metadata": {},
   "outputs": [
    {
     "name": "stdout",
     "output_type": "stream",
     "text": [
      "Columns:  Index(['imei_mean_days_usage', 'voice_mts_in_dwork_part_mea_mnt3',\n",
      "       'data_3g_tar_vol_mea_diff', 'data_3g_tv_cnt_std_mnt3',\n",
      "       'content_cnt_mea_diff', 'num_act_days_mea_mnt3', 'Balance_uah',\n",
      "       'SUM_of_Duration_sec_susp_app_share', 'content_cnt_std_diff',\n",
      "       'non_accum_internet_vol_std_diff',\n",
      "       ...\n",
      "       'accum_oth_dur_td_total', 'data_3g_tv_cnt_td_total',\n",
      "       'voice_in_td_cnt_min_total', 'abon_part_td_total',\n",
      "       'com_num_part_std_total', 'sms_in_cnt_std_total',\n",
      "       'pay_p2p_out_sum_td_total', 'pay_max_td_total',\n",
      "       'voice_in_short_part_td_total', 'voice_out_cmpttrs_avg_dumin_total'],\n",
      "      dtype='object', length=382)\n",
      "\n",
      "Metrics\n",
      "AUC: 0.90\n",
      "Classification Report:\n",
      "              precision    recall  f1-score   support\n",
      "\n",
      "           0       0.96      0.99      0.97    140597\n",
      "           1       0.72      0.32      0.44      9403\n",
      "\n",
      "    accuracy                           0.95    150000\n",
      "   macro avg       0.84      0.65      0.71    150000\n",
      "weighted avg       0.94      0.95      0.94    150000\n",
      "\n"
     ]
    }
   ],
   "source": [
    "# process_train_data()\n",
    "# process_test_data()\n",
    "\n",
    "train_data, test_data = load_split_processed_data()\n",
    "\n",
    "model_params = {\n",
    "    \"random_state\": 42,\n",
    "    \"seed\": 42,\n",
    "    \"objective\": \"binary\",\n",
    "    \"metric\": \"binary_logloss\",\n",
    "    \"verbosity\": -1,\n",
    "    \"boosting_type\": \"gbdt\",\n",
    "    \"feature_pre_filter\": False,\n",
    "    \"lambda_l1\": 2.740292203572801,\n",
    "    \"lambda_l2\": 9.502614592851208,\n",
    "    \"learning_rate\": 0.07586188568634152,\n",
    "    \"num_leaves\": 93,\n",
    "    \"feature_fraction\": 0.34049127666480095,\n",
    "    \"bagging_fraction\": 0.8460348477289328,\n",
    "    \"max_depth\": 10,\n",
    "    \"early_stopping_rounds\": 88,\n",
    "}\n",
    "\n",
    "\n",
    "train_x = train_data.drop(columns=\"target\")\n",
    "train_y = train_data.target\n",
    "\n",
    "valid_x = test_data.drop(\"target\", axis=1)[train_x.columns]\n",
    "valid_y = test_data.target\n",
    "\n",
    "dtrain = lgb.Dataset(train_x, label=train_y)\n",
    "dvalid = lgb.Dataset(valid_x, label=valid_y, reference=dtrain)\n",
    "\n",
    "model = lgb.train(\n",
    "    model_params,\n",
    "    dtrain,\n",
    "    valid_sets=[dvalid],\n",
    ")\n",
    "\n",
    "print(\"Columns: \", train_x.columns)\n",
    "\n",
    "X = test_data[train_x.columns]\n",
    "y_true = test_data.target\n",
    "\n",
    "y_pred_proba = model.predict(X, num_iteration=model.best_iteration)\n",
    "threshold = 0.5\n",
    "y_pred = (y_pred_proba >= threshold).astype(int)\n",
    "\n",
    "Metrics().call(y_true, y_pred, y_pred_proba)"
   ]
  },
  {
   "cell_type": "code",
   "execution_count": 25,
   "metadata": {},
   "outputs": [
    {
     "name": "stdout",
     "output_type": "stream",
     "text": [
      "Save LightGbmV2_new_features_fe_feature_selection_new_p072_r031_090auc\n"
     ]
    },
    {
     "data": {
      "text/plain": [
       "'LightGbmV2_new_features_fe_feature_selection_new_p072_r031_090auc'"
      ]
     },
     "execution_count": 25,
     "metadata": {},
     "output_type": "execute_result"
    }
   ],
   "source": [
    "save_model(model, \"LightGbmV2_new_features_fe_feature_selection_new_p072_r031_090auc\", list(train_x.columns))"
   ]
  }
 ],
 "metadata": {
  "kernelspec": {
   "display_name": "Python 3",
   "language": "python",
   "name": "python3"
  },
  "language_info": {
   "codemirror_mode": {
    "name": "ipython",
    "version": 3
   },
   "file_extension": ".py",
   "mimetype": "text/x-python",
   "name": "python",
   "nbconvert_exporter": "python",
   "pygments_lexer": "ipython3",
   "version": "3.10.13"
  }
 },
 "nbformat": 4,
 "nbformat_minor": 2
}
