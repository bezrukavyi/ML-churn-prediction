{
 "cells": [
  {
   "cell_type": "code",
   "execution_count": 3,
   "metadata": {},
   "outputs": [
    {
     "name": "stdout",
     "output_type": "stream",
     "text": [
      "The autoreload extension is already loaded. To reload it, use:\n",
      "  %reload_ext autoreload\n"
     ]
    }
   ],
   "source": [
    "%load_ext autoreload\n",
    "%autoreload 2\n",
    "\n",
    "import optuna\n",
    "import pandas as pd\n",
    "import lightgbm as lgb\n",
    "import matplotlib.pyplot as plt\n",
    "import shap\n",
    "import numpy as np\n",
    "import scipy\n",
    "import sklearn\n",
    "import seaborn as sns\n",
    "from sklearn.ensemble import VotingClassifier\n",
    "\n",
    "from steps.prepare_data import load_processed_data\n",
    "from utils.model import predict, load_model"
   ]
  },
  {
   "cell_type": "code",
   "execution_count": 2,
   "metadata": {},
   "outputs": [
    {
     "ename": "NameError",
     "evalue": "name 'sklearn' is not defined",
     "output_type": "error",
     "traceback": [
      "\u001b[0;31m---------------------------------------------------------------------------\u001b[0m",
      "\u001b[0;31mNameError\u001b[0m                                 Traceback (most recent call last)",
      "Cell \u001b[0;32mIn[2], line 38\u001b[0m\n\u001b[1;32m     34\u001b[0m eclf1\u001b[38;5;241m.\u001b[39mfit(train_data_x, train_data_y)\n\u001b[1;32m     36\u001b[0m test_data_preds \u001b[38;5;241m=\u001b[39m eclf1\u001b[38;5;241m.\u001b[39mpredict(test_data_x)\n\u001b[0;32m---> 38\u001b[0m \u001b[38;5;28mprint\u001b[39m(\u001b[43msklearn\u001b[49m\u001b[38;5;241m.\u001b[39mmetrics\u001b[38;5;241m.\u001b[39mclassification_report(test_data_y, test_data_preds))\n",
      "\u001b[0;31mNameError\u001b[0m: name 'sklearn' is not defined"
     ]
    }
   ],
   "source": [
    "train_data, test_data = load_processed_data()\n",
    "\n",
    "train_data_x = train_data.drop(columns=[\"target\"])\n",
    "train_data_y = train_data[\"target\"]\n",
    "\n",
    "test_data_x = test_data.drop(columns=[\"target\"])\n",
    "test_data_y = test_data[\"target\"]\n",
    "\n",
    "lightGbmV2_p069_r033_090auc, _ = load_model(\"LightGbmV2_p069_r033_090auc.pickle\")\n",
    "lightGbmV1_p041_r064_089auc, _ = load_model(\"LightGbmV1_p041_r064_089auc.pickle\")\n",
    "xgboostV1_p072_r031_090auc, _ = load_model(\"XgboostV1_p072_r031_090auc.pickle\")\n",
    "\n",
    "eclf1 = VotingClassifier(\n",
    "    estimators=[\n",
    "        (\"lightGbmV2_p069_r033_090auc\", lightGbmV2_p069_r033_090auc),\n",
    "        (\"lightGbmV1_p041_r064_089auc\", lightGbmV1_p041_r064_089auc),\n",
    "        (\"xgboostV1_p072_r031_090auc\", xgboostV1_p072_r031_090auc),\n",
    "    ],\n",
    "    voting=\"soft\",\n",
    ")\n",
    "\n",
    "eclf1.fit(train_data_x, train_data_y)\n",
    "\n",
    "test_data_preds = eclf1.predict(test_data_x)"
   ]
  },
  {
   "cell_type": "code",
   "execution_count": 5,
   "metadata": {},
   "outputs": [
    {
     "name": "stdout",
     "output_type": "stream",
     "text": [
      "AUC: 0.71\n",
      "Classification Report:\n",
      "              precision    recall  f1-score   support\n",
      "\n",
      "         0.0       0.96      0.98      0.97    140597\n",
      "         1.0       0.61      0.44      0.51      9403\n",
      "\n",
      "    accuracy                           0.95    150000\n",
      "   macro avg       0.79      0.71      0.74    150000\n",
      "weighted avg       0.94      0.95      0.94    150000\n",
      "\n"
     ]
    }
   ],
   "source": [
    "auc = sklearn.metrics.roc_auc_score(test_data_y, test_data_preds)\n",
    "print(f\"AUC: {auc:.2f}\")\n",
    "\n",
    "# classification report\n",
    "class_report = sklearn.metrics.classification_report(test_data_y, test_data_preds)\n",
    "print(\"Classification Report:\")\n",
    "print(class_report)"
   ]
  }
 ],
 "metadata": {
  "kernelspec": {
   "display_name": "Python 3",
   "language": "python",
   "name": "python3"
  },
  "language_info": {
   "codemirror_mode": {
    "name": "ipython",
    "version": 3
   },
   "file_extension": ".py",
   "mimetype": "text/x-python",
   "name": "python",
   "nbconvert_exporter": "python",
   "pygments_lexer": "ipython3",
   "version": "3.10.13"
  }
 },
 "nbformat": 4,
 "nbformat_minor": 2
}
